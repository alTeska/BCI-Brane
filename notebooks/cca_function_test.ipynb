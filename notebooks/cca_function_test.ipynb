{
 "cells": [
  {
   "cell_type": "code",
   "execution_count": 11,
   "metadata": {},
   "outputs": [],
   "source": [
    "# experimental data\n",
    "\n",
    "\n",
    "import numpy as np\n",
    "import matplotlib.pyplot as plt\n",
    "from sklearn.cross_decomposition import CCA\n",
    "from scipy import stats\n",
    "from scipy.linalg import inv, eig\n",
    "\n",
    "sampling_rate = 128\n",
    "num_samples = 100\n",
    "time = np.arange(0,(num_samples)/sampling_rate, 1/sampling_rate)\n",
    "base_sin8 =  np.sin(2*np.pi*time*8)\n",
    "base_sin10 = np.sin(2*np.pi*time*10)\n",
    "base_sin12 =  np.sin(2*np.pi*time*12)\n",
    "base_sin15 = np.sin(2*np.pi*time*15)\n",
    "base_sin20 = np.sin(2*np.pi*time*20)\n",
    "\n",
    "## The input matrix \n",
    "# ! this will be just the input for the function\n",
    "sin_noise10 = base_sin10 + .2*np.random.randn(num_samples)\n",
    "sin_noise12 = base_sin12 + .2*np.random.randn(num_samples)\n",
    "sin_noise15 = base_sin15 + .2*np.random.randn(num_samples)\n",
    "\n",
    "X1 = sin_noise12\n",
    "X2 = 10*sin_noise12\n",
    "X3 = sin_noise12\n",
    "\n",
    "X_input = np.stack(((X1, X2, X3))).T"
   ]
  },
  {
   "cell_type": "code",
   "execution_count": 7,
   "metadata": {},
   "outputs": [],
   "source": [
    "f1 = 10\n",
    "f2 = 12\n",
    "f3 = 15"
   ]
  },
  {
   "cell_type": "code",
   "execution_count": 8,
   "metadata": {},
   "outputs": [],
   "source": [
    "import numpy as np\n",
    "from scipy import stats, integrate\n",
    "#import scipy.fftpack\n",
    "from scipy.signal import butter, lfilter, filtfilt\n",
    "from scipy.linalg import inv, eig\n",
    "\n",
    "\n",
    "# Filters\n",
    "def butter_bandpass(lowcut, highcut, fs, order=8):\n",
    "    nyq = 0.5 * fs\n",
    "    low = lowcut / nyq\n",
    "    high = highcut / nyq\n",
    "    b, a = butter(order, [low, high], btype='band')\n",
    "    return b, a\n",
    "\n",
    "def butter_bandpass_filtfilt(data, lowcut, highcut, fs, order=8):\n",
    "    b, a = butter_bandpass(lowcut, highcut, fs, order=order)\n",
    "    y = lfilter(b, a, data)\n",
    "    return filtfilt(b, a, data) \n",
    "\n",
    "\n",
    "# CCA function\n",
    "def CCA_corrcoeff(X, Y):\n",
    "        \"\"\"Function calculates correlations coeffciencts r\"\"\"\n",
    "        Z = np.column_stack((X, Y,))\n",
    "        C = np.cov(Z.T)\n",
    "\n",
    "        sy = np.shape(Y)[1] if Y.ndim > 1 else 1\n",
    "        sx = np.shape(X)[1] if X.ndim > 1 else 1\n",
    "\n",
    "        Cxx = C[0:sx, 0:sx] + 10**(-8) * np.eye(sx)\n",
    "        Cxy = C[0:sx, sx:sx+sy]\n",
    "        Cyx = Cxy.T\n",
    "        Cyy = C[sx:sx+sy, sx:sx+sy] + 10**(-8) * np.eye(sy)\n",
    "        invCyy = inv(Cyy)\n",
    "        invCxx = inv(Cxx)\n",
    "\n",
    "        r, Wx = eig( np.dot( np.dot(invCxx, Cxy), np.dot(invCyy, Cyx) ) )\n",
    "        r = np.real(r)\n",
    "        r_sqrt = np.sqrt(np.round(r, 7))\n",
    "\n",
    "        return r_sqrt"
   ]
  },
  {
   "cell_type": "code",
   "execution_count": 12,
   "metadata": {},
   "outputs": [
    {
     "ename": "TypeError",
     "evalue": "'numpy.float64' object is not iterable",
     "output_type": "error",
     "traceback": [
      "\u001b[1;31m---------------------------------------------------------------------------\u001b[0m",
      "\u001b[1;31mTypeError\u001b[0m                                 Traceback (most recent call last)",
      "\u001b[1;32m<ipython-input-12-d97005ee998e>\u001b[0m in \u001b[0;36m<module>\u001b[1;34m()\u001b[0m\n\u001b[0;32m     36\u001b[0m \u001b[0mr3\u001b[0m \u001b[1;33m=\u001b[0m \u001b[0mnp\u001b[0m\u001b[1;33m.\u001b[0m\u001b[0msort\u001b[0m\u001b[1;33m(\u001b[0m\u001b[0mr3\u001b[0m\u001b[1;33m)\u001b[0m\u001b[1;33m\u001b[0m\u001b[0m\n\u001b[0;32m     37\u001b[0m \u001b[1;33m\u001b[0m\u001b[0m\n\u001b[1;32m---> 38\u001b[1;33m \u001b[0mr\u001b[0m \u001b[1;33m=\u001b[0m \u001b[0mnp\u001b[0m\u001b[1;33m.\u001b[0m\u001b[0mstack\u001b[0m\u001b[1;33m(\u001b[0m \u001b[0mnp\u001b[0m\u001b[1;33m.\u001b[0m\u001b[0mmean\u001b[0m\u001b[1;33m(\u001b[0m\u001b[1;33m(\u001b[0m\u001b[0mr1\u001b[0m\u001b[1;33m[\u001b[0m\u001b[0mL\u001b[0m\u001b[1;33m]\u001b[0m\u001b[1;33m,\u001b[0m \u001b[0mr1\u001b[0m\u001b[1;33m[\u001b[0m\u001b[0mL\u001b[0m\u001b[1;33m-\u001b[0m\u001b[1;36m1\u001b[0m\u001b[1;33m]\u001b[0m\u001b[1;33m)\u001b[0m\u001b[1;33m)\u001b[0m\u001b[1;33m,\u001b[0m \u001b[0mnp\u001b[0m\u001b[1;33m.\u001b[0m\u001b[0mmean\u001b[0m\u001b[1;33m(\u001b[0m\u001b[1;33m(\u001b[0m\u001b[0mr2\u001b[0m\u001b[1;33m[\u001b[0m\u001b[0mL\u001b[0m\u001b[1;33m]\u001b[0m\u001b[1;33m,\u001b[0m \u001b[0mr2\u001b[0m\u001b[1;33m[\u001b[0m\u001b[0mL\u001b[0m\u001b[1;33m-\u001b[0m\u001b[1;36m1\u001b[0m\u001b[1;33m]\u001b[0m\u001b[1;33m)\u001b[0m\u001b[1;33m)\u001b[0m\u001b[1;33m,\u001b[0m \u001b[0mnp\u001b[0m\u001b[1;33m.\u001b[0m\u001b[0mmean\u001b[0m\u001b[1;33m(\u001b[0m\u001b[1;33m(\u001b[0m\u001b[0mr2\u001b[0m\u001b[1;33m[\u001b[0m\u001b[0mL\u001b[0m\u001b[1;33m]\u001b[0m\u001b[1;33m,\u001b[0m \u001b[0mr2\u001b[0m\u001b[1;33m[\u001b[0m\u001b[0mL\u001b[0m\u001b[1;33m-\u001b[0m\u001b[1;36m1\u001b[0m\u001b[1;33m]\u001b[0m\u001b[1;33m)\u001b[0m\u001b[1;33m)\u001b[0m \u001b[1;33m)\u001b[0m\u001b[1;33m\u001b[0m\u001b[0m\n\u001b[0m\u001b[0;32m     39\u001b[0m \u001b[1;33m\u001b[0m\u001b[0m\n\u001b[0;32m     40\u001b[0m \u001b[1;31m#print(\"r1: \", r1)\u001b[0m\u001b[1;33m\u001b[0m\u001b[1;33m\u001b[0m\u001b[0m\n",
      "\u001b[1;32m~\\Anaconda3\\lib\\site-packages\\numpy\\core\\shape_base.py\u001b[0m in \u001b[0;36mstack\u001b[1;34m(arrays, axis, out)\u001b[0m\n\u001b[0;32m    345\u001b[0m \u001b[1;33m\u001b[0m\u001b[0m\n\u001b[0;32m    346\u001b[0m     \"\"\"\n\u001b[1;32m--> 347\u001b[1;33m     \u001b[0marrays\u001b[0m \u001b[1;33m=\u001b[0m \u001b[1;33m[\u001b[0m\u001b[0masanyarray\u001b[0m\u001b[1;33m(\u001b[0m\u001b[0marr\u001b[0m\u001b[1;33m)\u001b[0m \u001b[1;32mfor\u001b[0m \u001b[0marr\u001b[0m \u001b[1;32min\u001b[0m \u001b[0marrays\u001b[0m\u001b[1;33m]\u001b[0m\u001b[1;33m\u001b[0m\u001b[0m\n\u001b[0m\u001b[0;32m    348\u001b[0m     \u001b[1;32mif\u001b[0m \u001b[1;32mnot\u001b[0m \u001b[0marrays\u001b[0m\u001b[1;33m:\u001b[0m\u001b[1;33m\u001b[0m\u001b[0m\n\u001b[0;32m    349\u001b[0m         \u001b[1;32mraise\u001b[0m \u001b[0mValueError\u001b[0m\u001b[1;33m(\u001b[0m\u001b[1;34m'need at least one array to stack'\u001b[0m\u001b[1;33m)\u001b[0m\u001b[1;33m\u001b[0m\u001b[0m\n",
      "\u001b[1;31mTypeError\u001b[0m: 'numpy.float64' object is not iterable"
     ]
    }
   ],
   "source": [
    "    # BPF the input X (each electrode seperately)\n",
    "    X = np.zeros_like(X_input)\n",
    "    for i in range(X_input.shape[1]):\n",
    "        X[:,i] = butter_bandpass_filtfilt(X_input[:,i], (np.min([f1,f2,f3])-5), (np.max([f1,f2,f3])+5), sampling_rate)\n",
    "    \n",
    "    # Set up the targets Y\n",
    "    num_samples = X.shape[0]\n",
    "    time = np.arange(0, (num_samples)/sampling_rate, 1/sampling_rate)\n",
    "    \n",
    "    # Target frequency and harmonics  \n",
    "    Y1 = np.stack(((np.sin(2*np.pi*time*f1)  , np.cos(2*np.pi*time*f1),\n",
    "                    np.sin(2*np.pi*time*f1*2), np.cos(2*np.pi*time*f1*2),\n",
    "                    np.sin(2*np.pi*time*f1*4), np.cos(2*np.pi*time*f1*4),\n",
    "                    #np.sin(2*np.pi*time*f1*6), np.cos(2*np.pi*time*f1*6),\n",
    "                   ))).T\n",
    "    Y2 = np.stack(((np.sin(2*np.pi*time*f2)  , np.cos(2*np.pi*time*f2),\n",
    "                    np.sin(2*np.pi*time*f2*2), np.cos(2*np.pi*time*f2*2),\n",
    "                    np.sin(2*np.pi*time*f2*4), np.cos(2*np.pi*time*f2*4),\n",
    "                    #np.sin(2*np.pi*time*f2*6), np.cos(2*np.pi*time*f2*6),\n",
    "                   ))).T\n",
    "    Y3 = np.stack(((np.sin(2*np.pi*time*f3)  , np.cos(2*np.pi*time*f3),\n",
    "                    np.sin(2*np.pi*time*f3*2), np.cos(2*np.pi*time*f3*2),\n",
    "                    np.sin(2*np.pi*time*f3*4), np.cos(2*np.pi*time*f3*4),\n",
    "                    #np.sin(2*np.pi*time*f3*6), np.cos(2*np.pi*time*f3*6),\n",
    "                   ))).T\n",
    "\n",
    "    # \n",
    "    r1 = CCA_corrcoeff(X, Y1)\n",
    "    r2 = CCA_corrcoeff(X, Y2)\n",
    "    r3 = CCA_corrcoeff(X, Y3)\n",
    "\n",
    "    #\n",
    "    L = X.shape[1]-1\n",
    "    r1 = np.sort(r1)\n",
    "    r2 = np.sort(r2)\n",
    "    r3 = np.sort(r3)\n",
    "\n",
    "    r = np.stack( np.mean((r1[L], r1[L-1])), np.mean((r2[L], r2[L-1])), np.mean((r3[L], r3[L-1])) )\n",
    "\n",
    "    #print(\"r1: \", r1)\n",
    "    #print(\"r2: \", r2)\n",
    "    #print(\"r3: \", r3)\n",
    "    \n",
    "    return np.round(r, 7)"
   ]
  },
  {
   "cell_type": "code",
   "execution_count": 13,
   "metadata": {},
   "outputs": [
    {
     "data": {
      "text/plain": [
       "array([0.        , 0.        , 0.27588331])"
      ]
     },
     "execution_count": 13,
     "metadata": {},
     "output_type": "execute_result"
    }
   ],
   "source": [
    "r1"
   ]
  },
  {
   "cell_type": "code",
   "execution_count": 17,
   "metadata": {},
   "outputs": [
    {
     "data": {
      "text/plain": [
       "0.0"
      ]
     },
     "execution_count": 17,
     "metadata": {},
     "output_type": "execute_result"
    }
   ],
   "source": [
    "r1[L-1]"
   ]
  },
  {
   "cell_type": "code",
   "execution_count": 18,
   "metadata": {},
   "outputs": [
    {
     "data": {
      "text/plain": [
       "0.02218276357895923"
      ]
     },
     "execution_count": 18,
     "metadata": {},
     "output_type": "execute_result"
    }
   ],
   "source": [
    "np.mean((r3[L], r3[L-1]))"
   ]
  },
  {
   "cell_type": "code",
   "execution_count": 19,
   "metadata": {},
   "outputs": [
    {
     "data": {
      "text/plain": [
       "0.47518980418354934"
      ]
     },
     "execution_count": 19,
     "metadata": {},
     "output_type": "execute_result"
    }
   ],
   "source": [
    "np.mean((r2[L], r2[L-1]))"
   ]
  },
  {
   "cell_type": "code",
   "execution_count": 22,
   "metadata": {},
   "outputs": [],
   "source": [
    "r = np.stack(( np.mean((r1[L], r1[L-1])), np.mean((r2[L], r2[L-1])), np.mean((r3[L], r3[L-1])) ))"
   ]
  },
  {
   "cell_type": "code",
   "execution_count": null,
   "metadata": {},
   "outputs": [],
   "source": []
  }
 ],
 "metadata": {
  "kernelspec": {
   "display_name": "Python 3",
   "language": "python",
   "name": "python3"
  },
  "language_info": {
   "codemirror_mode": {
    "name": "ipython",
    "version": 3
   },
   "file_extension": ".py",
   "mimetype": "text/x-python",
   "name": "python",
   "nbconvert_exporter": "python",
   "pygments_lexer": "ipython3",
   "version": "3.6.5"
  }
 },
 "nbformat": 4,
 "nbformat_minor": 2
}
