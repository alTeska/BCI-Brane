{
 "cells": [
  {
   "cell_type": "markdown",
   "metadata": {},
   "source": [
    "# First SSVEP dataset\n",
    "**labels:**\n",
    "\n",
    "0 - no flickering\n",
    "\n",
    "1 2 3 4 - for the boxes\n",
    "\n",
    "\n",
    "**id label alphabetical:**\n",
    "\n",
    "0 - alebs\n",
    "\n",
    "1 - barlo\n",
    "\n",
    "2 - yagmur"
   ]
  },
  {
   "cell_type": "code",
   "execution_count": 1,
   "metadata": {},
   "outputs": [],
   "source": [
    "import numpy as np\n",
    "import pandas as pd\n",
    "from glob import glob\n",
    "import matplotlib.pyplot as plt\n",
    "import seaborn as sns\n",
    "from scipy import stats, integrate\n",
    "import scipy.fftpack\n",
    "from scipy.signal import butter, lfilter, filtfilt\n",
    "\n",
    "%matplotlib inline"
   ]
  },
  {
   "cell_type": "markdown",
   "metadata": {},
   "source": [
    "## Load Data"
   ]
  },
  {
   "cell_type": "code",
   "execution_count": 2,
   "metadata": {},
   "outputs": [
    {
     "data": {
      "text/plain": [
       "['../data/raw/alebs-record.csv',\n",
       " '../data/raw/barlo-record.csv',\n",
       " '../data/raw/yagmur-record.csv']"
      ]
     },
     "execution_count": 2,
     "metadata": {},
     "output_type": "execute_result"
    }
   ],
   "source": [
    "# load and sort the paths\n",
    "path = '../data/raw/'\n",
    "sampling_rate = 128\n",
    "\n",
    "fnames = glob(path+'*.csv') # get paths and save them\n",
    "fnames.sort()\n",
    "fnames"
   ]
  },
  {
   "cell_type": "code",
   "execution_count": 3,
   "metadata": {},
   "outputs": [
    {
     "data": {
      "text/html": [
       "<div>\n",
       "<style scoped>\n",
       "    .dataframe tbody tr th:only-of-type {\n",
       "        vertical-align: middle;\n",
       "    }\n",
       "\n",
       "    .dataframe tbody tr th {\n",
       "        vertical-align: top;\n",
       "    }\n",
       "\n",
       "    .dataframe thead th {\n",
       "        text-align: right;\n",
       "    }\n",
       "</style>\n",
       "<table border=\"1\" class=\"dataframe\">\n",
       "  <thead>\n",
       "    <tr style=\"text-align: right;\">\n",
       "      <th></th>\n",
       "      <th>AF3</th>\n",
       "      <th>F7</th>\n",
       "      <th>F3</th>\n",
       "      <th>FC5</th>\n",
       "      <th>T7</th>\n",
       "      <th>P7</th>\n",
       "      <th>O1</th>\n",
       "      <th>O2</th>\n",
       "      <th>P8</th>\n",
       "      <th>T8</th>\n",
       "      <th>FC6</th>\n",
       "      <th>F4</th>\n",
       "      <th>F8</th>\n",
       "      <th>AF4</th>\n",
       "      <th>label</th>\n",
       "      <th>id</th>\n",
       "    </tr>\n",
       "  </thead>\n",
       "  <tbody>\n",
       "    <tr>\n",
       "      <th>66555</th>\n",
       "      <td>4039.9</td>\n",
       "      <td>4033.7</td>\n",
       "      <td>4141.5</td>\n",
       "      <td>4106.5</td>\n",
       "      <td>4103.2</td>\n",
       "      <td>4094.4</td>\n",
       "      <td>4122.8</td>\n",
       "      <td>4137.7</td>\n",
       "      <td>4138.7</td>\n",
       "      <td>4128.8</td>\n",
       "      <td>4123.6</td>\n",
       "      <td>4101.5</td>\n",
       "      <td>4093.6</td>\n",
       "      <td>4010.6</td>\n",
       "      <td>0</td>\n",
       "      <td>1</td>\n",
       "    </tr>\n",
       "    <tr>\n",
       "      <th>66556</th>\n",
       "      <td>4042.9</td>\n",
       "      <td>4030.0</td>\n",
       "      <td>4139.4</td>\n",
       "      <td>4111.2</td>\n",
       "      <td>4106.3</td>\n",
       "      <td>4094.2</td>\n",
       "      <td>4122.4</td>\n",
       "      <td>4135.1</td>\n",
       "      <td>4137.9</td>\n",
       "      <td>4128.3</td>\n",
       "      <td>4127.8</td>\n",
       "      <td>4102.4</td>\n",
       "      <td>4095.8</td>\n",
       "      <td>4012.8</td>\n",
       "      <td>0</td>\n",
       "      <td>1</td>\n",
       "    </tr>\n",
       "    <tr>\n",
       "      <th>66557</th>\n",
       "      <td>4081.3</td>\n",
       "      <td>4049.1</td>\n",
       "      <td>4147.9</td>\n",
       "      <td>4115.6</td>\n",
       "      <td>4108.6</td>\n",
       "      <td>4094.5</td>\n",
       "      <td>4124.6</td>\n",
       "      <td>4130.6</td>\n",
       "      <td>4126.3</td>\n",
       "      <td>4126.0</td>\n",
       "      <td>4131.2</td>\n",
       "      <td>4101.3</td>\n",
       "      <td>4093.7</td>\n",
       "      <td>4009.6</td>\n",
       "      <td>0</td>\n",
       "      <td>1</td>\n",
       "    </tr>\n",
       "    <tr>\n",
       "      <th>66558</th>\n",
       "      <td>4076.2</td>\n",
       "      <td>4047.7</td>\n",
       "      <td>4146.5</td>\n",
       "      <td>4115.0</td>\n",
       "      <td>4109.6</td>\n",
       "      <td>4099.6</td>\n",
       "      <td>4129.4</td>\n",
       "      <td>4133.3</td>\n",
       "      <td>4128.7</td>\n",
       "      <td>4131.0</td>\n",
       "      <td>4125.4</td>\n",
       "      <td>4100.1</td>\n",
       "      <td>4094.5</td>\n",
       "      <td>4007.1</td>\n",
       "      <td>0</td>\n",
       "      <td>1</td>\n",
       "    </tr>\n",
       "    <tr>\n",
       "      <th>66559</th>\n",
       "      <td>4041.0</td>\n",
       "      <td>4025.9</td>\n",
       "      <td>4136.3</td>\n",
       "      <td>4117.3</td>\n",
       "      <td>4114.1</td>\n",
       "      <td>4108.5</td>\n",
       "      <td>4136.5</td>\n",
       "      <td>4140.3</td>\n",
       "      <td>4144.4</td>\n",
       "      <td>4138.5</td>\n",
       "      <td>4121.4</td>\n",
       "      <td>4100.5</td>\n",
       "      <td>4095.8</td>\n",
       "      <td>3998.8</td>\n",
       "      <td>0</td>\n",
       "      <td>1</td>\n",
       "    </tr>\n",
       "  </tbody>\n",
       "</table>\n",
       "</div>"
      ],
      "text/plain": [
       "          AF3      F7      F3     FC5      T7      P7      O1      O2      P8  \\\n",
       "66555  4039.9  4033.7  4141.5  4106.5  4103.2  4094.4  4122.8  4137.7  4138.7   \n",
       "66556  4042.9  4030.0  4139.4  4111.2  4106.3  4094.2  4122.4  4135.1  4137.9   \n",
       "66557  4081.3  4049.1  4147.9  4115.6  4108.6  4094.5  4124.6  4130.6  4126.3   \n",
       "66558  4076.2  4047.7  4146.5  4115.0  4109.6  4099.6  4129.4  4133.3  4128.7   \n",
       "66559  4041.0  4025.9  4136.3  4117.3  4114.1  4108.5  4136.5  4140.3  4144.4   \n",
       "\n",
       "           T8     FC6      F4      F8     AF4  label  id  \n",
       "66555  4128.8  4123.6  4101.5  4093.6  4010.6      0   1  \n",
       "66556  4128.3  4127.8  4102.4  4095.8  4012.8      0   1  \n",
       "66557  4126.0  4131.2  4101.3  4093.7  4009.6      0   1  \n",
       "66558  4131.0  4125.4  4100.1  4094.5  4007.1      0   1  \n",
       "66559  4138.5  4121.4  4100.5  4095.8  3998.8      0   1  "
      ]
     },
     "execution_count": 3,
     "metadata": {},
     "output_type": "execute_result"
    }
   ],
   "source": [
    "col_names = ['AF3', 'F7', 'F3', 'FC5', 'T7', 'P7', 'O1', 'O2', 'P8', 'T8', 'FC6', 'F4', 'F8', 'AF4', 'label']\n",
    "data = {}\n",
    "for i, name in enumerate(fnames):\n",
    "    data[i] = pd.read_csv(name, names=col_names)\n",
    "    data[i]['id'] = i\n",
    "    \n",
    "    \n",
    "data[1].tail()"
   ]
  },
  {
   "cell_type": "code",
   "execution_count": null,
   "metadata": {},
   "outputs": [],
   "source": [
    "data_all = pd.DataFrame()\n",
    "\n",
    "for i in np.arange(0,3):\n",
    "    data_all = pd.concat([data_all, data[i]], axis=0, ignore_index=True)"
   ]
  },
  {
   "cell_type": "code",
   "execution_count": null,
   "metadata": {},
   "outputs": [],
   "source": [
    "melted = pd.melt(data_all, id_vars=[ 'id', 'label'], value_name=\"EEG\")\n",
    "melted.head()"
   ]
  },
  {
   "cell_type": "code",
   "execution_count": null,
   "metadata": {},
   "outputs": [],
   "source": [
    "# mask = (melted.EEG <6000)\n",
    "# g = sns.FacetGrid(data=melted[mask], size=8, row='id')\n",
    "# # g.map(sns.distplot, 'EEG');"
   ]
  },
  {
   "cell_type": "code",
   "execution_count": null,
   "metadata": {},
   "outputs": [],
   "source": [
    "# mask = (melted.EEG < 4500) & ( melted.EEG > 3500 )\n",
    "# g = sns.FacetGrid(data=melted[mask], size=8, row='id', hue='label')\n",
    "# g.map(sns.distplot, 'EEG');\n",
    "# plt.legend();"
   ]
  },
  {
   "cell_type": "code",
   "execution_count": null,
   "metadata": {},
   "outputs": [],
   "source": [
    "# mask = (melted.EEG < 4500) & ( melted.EEG > 3500 )\n",
    "# g = sns.FacetGrid(data=melted[mask], size=8, row='label', hue='id')\n",
    "# g.map(sns.distplot, 'EEG');\n",
    "# plt.legend()"
   ]
  },
  {
   "cell_type": "code",
   "execution_count": 7,
   "metadata": {},
   "outputs": [
    {
     "data": {
      "text/html": [
       "<div>\n",
       "<style scoped>\n",
       "    .dataframe tbody tr th:only-of-type {\n",
       "        vertical-align: middle;\n",
       "    }\n",
       "\n",
       "    .dataframe tbody tr th {\n",
       "        vertical-align: top;\n",
       "    }\n",
       "\n",
       "    .dataframe thead th {\n",
       "        text-align: right;\n",
       "    }\n",
       "</style>\n",
       "<table border=\"1\" class=\"dataframe\">\n",
       "  <thead>\n",
       "    <tr style=\"text-align: right;\">\n",
       "      <th></th>\n",
       "      <th>AF3</th>\n",
       "      <th>F7</th>\n",
       "      <th>F3</th>\n",
       "      <th>FC5</th>\n",
       "      <th>T7</th>\n",
       "      <th>P7</th>\n",
       "      <th>O1</th>\n",
       "      <th>O2</th>\n",
       "      <th>P8</th>\n",
       "      <th>T8</th>\n",
       "      <th>FC6</th>\n",
       "      <th>F4</th>\n",
       "      <th>F8</th>\n",
       "      <th>AF4</th>\n",
       "      <th>label</th>\n",
       "      <th>id</th>\n",
       "    </tr>\n",
       "  </thead>\n",
       "  <tbody>\n",
       "    <tr>\n",
       "      <th>0</th>\n",
       "      <td>4252.3</td>\n",
       "      <td>4147.3</td>\n",
       "      <td>4141.2</td>\n",
       "      <td>4156.5</td>\n",
       "      <td>4167.7</td>\n",
       "      <td>4112.9</td>\n",
       "      <td>4119.7</td>\n",
       "      <td>4073.1</td>\n",
       "      <td>4121.3</td>\n",
       "      <td>4075.6</td>\n",
       "      <td>4141.3</td>\n",
       "      <td>4091.9</td>\n",
       "      <td>4102.9</td>\n",
       "      <td>4190.6</td>\n",
       "      <td>0</td>\n",
       "      <td>1</td>\n",
       "    </tr>\n",
       "    <tr>\n",
       "      <th>1</th>\n",
       "      <td>4264.1</td>\n",
       "      <td>4155.4</td>\n",
       "      <td>4137.4</td>\n",
       "      <td>4150.1</td>\n",
       "      <td>4159.7</td>\n",
       "      <td>4114.4</td>\n",
       "      <td>4118.1</td>\n",
       "      <td>4070.8</td>\n",
       "      <td>4118.2</td>\n",
       "      <td>4090.5</td>\n",
       "      <td>4138.1</td>\n",
       "      <td>4085.3</td>\n",
       "      <td>4113.1</td>\n",
       "      <td>4193.5</td>\n",
       "      <td>0</td>\n",
       "      <td>1</td>\n",
       "    </tr>\n",
       "    <tr>\n",
       "      <th>2</th>\n",
       "      <td>4257.1</td>\n",
       "      <td>4151.3</td>\n",
       "      <td>4133.8</td>\n",
       "      <td>4141.7</td>\n",
       "      <td>4161.0</td>\n",
       "      <td>4112.4</td>\n",
       "      <td>4113.8</td>\n",
       "      <td>4071.4</td>\n",
       "      <td>4113.5</td>\n",
       "      <td>4078.8</td>\n",
       "      <td>4133.7</td>\n",
       "      <td>4082.9</td>\n",
       "      <td>4108.7</td>\n",
       "      <td>4186.0</td>\n",
       "      <td>0</td>\n",
       "      <td>1</td>\n",
       "    </tr>\n",
       "    <tr>\n",
       "      <th>3</th>\n",
       "      <td>4230.4</td>\n",
       "      <td>4139.0</td>\n",
       "      <td>4132.3</td>\n",
       "      <td>4145.3</td>\n",
       "      <td>4174.7</td>\n",
       "      <td>4109.9</td>\n",
       "      <td>4115.1</td>\n",
       "      <td>4080.0</td>\n",
       "      <td>4111.8</td>\n",
       "      <td>4050.5</td>\n",
       "      <td>4135.8</td>\n",
       "      <td>4087.1</td>\n",
       "      <td>4090.5</td>\n",
       "      <td>4172.2</td>\n",
       "      <td>0</td>\n",
       "      <td>1</td>\n",
       "    </tr>\n",
       "    <tr>\n",
       "      <th>4</th>\n",
       "      <td>16914.0</td>\n",
       "      <td>16563.0</td>\n",
       "      <td>16537.0</td>\n",
       "      <td>16589.0</td>\n",
       "      <td>16692.0</td>\n",
       "      <td>16453.0</td>\n",
       "      <td>16483.0</td>\n",
       "      <td>16328.0</td>\n",
       "      <td>16473.0</td>\n",
       "      <td>16244.0</td>\n",
       "      <td>16548.0</td>\n",
       "      <td>16348.0</td>\n",
       "      <td>16376.0</td>\n",
       "      <td>16688.0</td>\n",
       "      <td>0</td>\n",
       "      <td>1</td>\n",
       "    </tr>\n",
       "  </tbody>\n",
       "</table>\n",
       "</div>"
      ],
      "text/plain": [
       "       AF3       F7       F3      FC5       T7       P7       O1       O2  \\\n",
       "0   4252.3   4147.3   4141.2   4156.5   4167.7   4112.9   4119.7   4073.1   \n",
       "1   4264.1   4155.4   4137.4   4150.1   4159.7   4114.4   4118.1   4070.8   \n",
       "2   4257.1   4151.3   4133.8   4141.7   4161.0   4112.4   4113.8   4071.4   \n",
       "3   4230.4   4139.0   4132.3   4145.3   4174.7   4109.9   4115.1   4080.0   \n",
       "4  16914.0  16563.0  16537.0  16589.0  16692.0  16453.0  16483.0  16328.0   \n",
       "\n",
       "        P8       T8      FC6       F4       F8      AF4  label  id  \n",
       "0   4121.3   4075.6   4141.3   4091.9   4102.9   4190.6      0   1  \n",
       "1   4118.2   4090.5   4138.1   4085.3   4113.1   4193.5      0   1  \n",
       "2   4113.5   4078.8   4133.7   4082.9   4108.7   4186.0      0   1  \n",
       "3   4111.8   4050.5   4135.8   4087.1   4090.5   4172.2      0   1  \n",
       "4  16473.0  16244.0  16548.0  16348.0  16376.0  16688.0      0   1  "
      ]
     },
     "execution_count": 7,
     "metadata": {},
     "output_type": "execute_result"
    }
   ],
   "source": [
    "carlo = data[1]\n",
    "carlo.head()"
   ]
  },
  {
   "cell_type": "code",
   "execution_count": null,
   "metadata": {},
   "outputs": [],
   "source": [
    "aleks = data[0]\n",
    "aleks.head()"
   ]
  },
  {
   "cell_type": "code",
   "execution_count": null,
   "metadata": {},
   "outputs": [],
   "source": [
    "yagmur = data[2]\n",
    "yagmur.head()"
   ]
  },
  {
   "cell_type": "markdown",
   "metadata": {},
   "source": [
    "## Epochs"
   ]
  },
  {
   "cell_type": "code",
   "execution_count": null,
   "metadata": {},
   "outputs": [],
   "source": [
    "# pd.options.display.max_rows = 999\n",
    "# carlo.head()"
   ]
  },
  {
   "cell_type": "code",
   "execution_count": 13,
   "metadata": {},
   "outputs": [
    {
     "data": {
      "image/png": "[encoded data removed]",
      "text/plain": [
       "<Figure size 720x720 with 1 Axes>"
      ]
     },
     "metadata": {},
     "output_type": "display_data"
    }
   ],
   "source": [
    "plt.figure(figsize=(10,10))\n",
    "plt.plot(carlo[carlo.label==1].index, carlo[carlo.label==1].label);\n",
    "# plt.figure(figsize=(10,10))\n",
    "# plt.plot(aleks.index, aleks.label)\n"
   ]
  },
  {
   "cell_type": "code",
   "execution_count": 16,
   "metadata": {},
   "outputs": [],
   "source": [
    "# carlo[carlo.label==1]/"
   ]
  },
  {
   "cell_type": "code",
   "execution_count": null,
   "metadata": {},
   "outputs": [],
   "source": [
    "idx = 1\n",
    "n = 1270\n",
    "m = 640\n",
    "n+2711\n",
    "for i in np.arange(1432, )"
   ]
  },
  {
   "cell_type": "markdown",
   "metadata": {},
   "source": [
    "## Applying Bandpass Filter"
   ]
  },
  {
   "cell_type": "code",
   "execution_count": null,
   "metadata": {},
   "outputs": [],
   "source": [
    "def butter_bandpass(lowcut, highcut, fs, order=5):\n",
    "    nyq = 0.5 * fs\n",
    "    low = lowcut / nyq\n",
    "    high = highcut / nyq\n",
    "    b, a = butter(order, [low, high], btype='band')\n",
    "    return b, a\n",
    "\n",
    "def butter_bandpass_filtfilt(data, lowcut, highcut, fs, order=5):\n",
    "    b, a = butter_bandpass(lowcut, highcut, fs, order=order)\n",
    "    y = lfilter(b, a, data)\n",
    "    return filtfilt(b, a, data) \n",
    "\n",
    "def butter_bandpass_filter(data, lowcut, highcut, fs, order=5):\n",
    "    b, a = butter_bandpass(lowcut, highcut, fs, order=order)\n",
    "    y = lfilter(b, a, data)\n",
    "    return y"
   ]
  },
  {
   "cell_type": "code",
   "execution_count": null,
   "metadata": {},
   "outputs": [],
   "source": [
    "data_filtered = pd.DataFrame()\n",
    "electrodes = ['AF3', 'F7', 'F3', 'FC5', 'T7', 'P7', 'O1', 'O2', 'P8', 'T8', 'FC6', 'F4', 'F8']\n",
    "\n",
    "for el in electrodes:\n",
    "    d = butter_bandpass_filter(yagmur[el], 3, 30, sampling_rate)\n",
    "    data_filtered[el] = d\n",
    "    \n",
    "data_filtered['label'] = yagmur['label']\n",
    "data_filtered.head()"
   ]
  },
  {
   "cell_type": "markdown",
   "metadata": {},
   "source": [
    "## Spectral Analysis"
   ]
  },
  {
   "cell_type": "code",
   "execution_count": null,
   "metadata": {},
   "outputs": [],
   "source": [
    "def spectrum(series):\n",
    "    Fs = 128;            # Sampling frequency                    \n",
    "    T = 1/Fs;             # Sampling period       \n",
    "    \n",
    "    L = len(series);             # Length of signal\n",
    "    t = np.linspace(0,T,L)\n",
    "    \n",
    "    P2 = np.abs(Y/L)\n",
    "    P1 = P2[1:int(L/2+1)]\n",
    "    P1 = P1 * 2/L\n",
    "    f = np.arange(0,L/2) / L\n",
    "    \n",
    "    return P1, f"
   ]
  },
  {
   "cell_type": "code",
   "execution_count": null,
   "metadata": {},
   "outputs": [],
   "source": [
    "mask = (data_filtered.label==3)\n",
    "Y = data_filtered[mask].AF3\n",
    "P1, f = spectrum(Y)\n",
    "plt.plot(f,P1) "
   ]
  },
  {
   "cell_type": "code",
   "execution_count": null,
   "metadata": {},
   "outputs": [],
   "source": [
    "mask = (data_filtered.label==2)\n",
    "Y = data_filtered[mask].AF3\n",
    "P1, f = spectrum(Y)\n",
    "plt.plot(f,P1) "
   ]
  },
  {
   "cell_type": "code",
   "execution_count": null,
   "metadata": {},
   "outputs": [],
   "source": [
    "mask = (data_filtered.label==1)\n",
    "Y = data_filtered[mask].AF3\n",
    "P1, f = spectrum(Y)\n",
    "plt.plot(f,P1) "
   ]
  },
  {
   "cell_type": "code",
   "execution_count": null,
   "metadata": {},
   "outputs": [],
   "source": [
    "mask = (data_filtered.label==0)\n",
    "Y = data_filtered[mask].AF3\n",
    "P1, f = spectrum(Y)\n",
    "plt.plot(f,P1) "
   ]
  },
  {
   "cell_type": "markdown",
   "metadata": {},
   "source": [
    "## Applying Correlation Coefficience \n",
    "Pearsonr applied on time series\n",
    "\n",
    "OUTPUT:\n",
    "r: Pearson’s correlation coefficient;\n",
    "p-value: 2-tailed p-value\n"
   ]
  },
  {
   "cell_type": "markdown",
   "metadata": {},
   "source": [
    "### Correlation with 15 Hz sinsus"
   ]
  },
  {
   "cell_type": "code",
   "execution_count": null,
   "metadata": {},
   "outputs": [],
   "source": [
    "freq = 15\n",
    "duration = 1\n",
    "num_samples = 1000\n",
    "sampling_rate = 128\n",
    "\n",
    "time = np.arange(start=0, stop=duration, step=1/sampling_rate)   \n",
    "base_sin =  np.sin(2*np.pi*time*freq)\n",
    "plt.plot(time, base_sin);"
   ]
  },
  {
   "cell_type": "code",
   "execution_count": null,
   "metadata": {},
   "outputs": [],
   "source": [
    "def series_coeff(series, window_size, freq, duration):\n",
    "    sampling_rate = 128\n",
    "\n",
    "    N = len(series)\n",
    "    l = len(np.arange(sampling_rate, N, window_size))\n",
    "    coeff = np.zeros(l)\n",
    "    i = 0 \n",
    "    \n",
    "    time = np.arange(start=0, stop=duration, step=1/sampling_rate)   \n",
    "    base_sin =  np.sin(2*np.pi*time*freq)\n",
    "    \n",
    "    \n",
    "    for n in np.arange(sampling_rate, N, window_size):\n",
    "        subset_filt = Y[n-sampling_rate:n]\n",
    "#         coeff[i] = np.corrcoef(x=subset_filt, y=base_sin)[0]\n",
    "        coeff[i] = stats.pearsonr(x=subset_filt, y=base_sin)[0]\n",
    "        i += 1\n",
    "    \n",
    "    return coeff"
   ]
  },
  {
   "cell_type": "code",
   "execution_count": null,
   "metadata": {},
   "outputs": [],
   "source": [
    "Y = carlo.AF3\n",
    "AF3_coeff = series_coeff(Y, 128, 20, 1)\n",
    "# AF3_coeff"
   ]
  },
  {
   "cell_type": "code",
   "execution_count": null,
   "metadata": {},
   "outputs": [],
   "source": [
    "plt.plot(AF3_coeff)"
   ]
  },
  {
   "cell_type": "code",
   "execution_count": null,
   "metadata": {},
   "outputs": [],
   "source": [
    "plt.hist(AF3_coeff)"
   ]
  },
  {
   "cell_type": "code",
   "execution_count": null,
   "metadata": {},
   "outputs": [],
   "source": [
    "df_coefficients = pd.DataFrame()\n",
    "electrodes = ['AF3', 'F7', 'F3', 'FC5', 'T7', 'P7', 'O1', 'O2', 'P8', 'T8', 'FC6', 'F4', 'F8']\n",
    "\n",
    "for el in electrodes:\n",
    "    Y = data_filtered[el]\n",
    "    df_coefficients[el] = series_coeff(Y, 10, 15, 1)[0]\n",
    "#     print(df_coefficients[el])\n",
    "    \n",
    "df_coefficients['label'] = data_filtered['label']\n",
    "df_coefficients.head()"
   ]
  },
  {
   "cell_type": "code",
   "execution_count": null,
   "metadata": {},
   "outputs": [],
   "source": [
    "#TODO: fix the coefficiences, calculate them for everything, look at distributions"
   ]
  }
 ],
 "metadata": {
  "kernelspec": {
   "display_name": "Python 3",
   "language": "python",
   "name": "python3"
  },
  "language_info": {
   "codemirror_mode": {
    "name": "ipython",
    "version": 3
   },
   "file_extension": ".py",
   "mimetype": "text/x-python",
   "name": "python",
   "nbconvert_exporter": "python",
   "pygments_lexer": "ipython3",
   "version": "3.6.5"
  }
 },
 "nbformat": 4,
 "nbformat_minor": 2
}
