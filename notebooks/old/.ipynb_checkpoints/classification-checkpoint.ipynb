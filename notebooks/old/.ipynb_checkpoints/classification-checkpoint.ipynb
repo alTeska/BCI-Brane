{
 "cells": [
  {
   "cell_type": "markdown",
   "metadata": {},
   "source": [
    "## Feature Selection and Classification version1"
   ]
  },
  {
   "cell_type": "code",
   "execution_count": 1,
   "metadata": {},
   "outputs": [],
   "source": [
    "import numpy as np\n",
    "import pandas as pd\n",
    "import matplotlib.pyplot as plt\n",
    "import seaborn as sns\n",
    "\n",
    "#from sklearn.preprocessing import LabelEncoder #string labels to int\n",
    "from sklearn.feature_selection import chi2, mutual_info_classif, SelectKBest\n",
    "\n",
    "from sklearn.model_selection import train_test_split, cross_val_score\n",
    "from sklearn.discriminant_analysis import LinearDiscriminantAnalysis as LDA\n",
    "from sklearn.svm import SVC\n",
    "from sklearn.neighbors import KNeighborsClassifier\n",
    "from sklearn.naive_bayes import GaussianNB"
   ]
  },
  {
   "cell_type": "markdown",
   "metadata": {},
   "source": [
    "### Load the data\n",
    "load the preprocessed data (filtering, feature extraction).   \n",
    "and take a look at the dataframe structure"
   ]
  },
  {
   "cell_type": "code",
   "execution_count": 2,
   "metadata": {},
   "outputs": [
    {
     "data": {
      "text/html": [
       "<div>\n",
       "<style scoped>\n",
       "    .dataframe tbody tr th:only-of-type {\n",
       "        vertical-align: middle;\n",
       "    }\n",
       "\n",
       "    .dataframe tbody tr th {\n",
       "        vertical-align: top;\n",
       "    }\n",
       "\n",
       "    .dataframe thead th {\n",
       "        text-align: right;\n",
       "    }\n",
       "</style>\n",
       "<table border=\"1\" class=\"dataframe\">\n",
       "  <thead>\n",
       "    <tr style=\"text-align: right;\">\n",
       "      <th></th>\n",
       "      <th>AF3_beta</th>\n",
       "      <th>F7_beta</th>\n",
       "      <th>F3_beta</th>\n",
       "      <th>FC5_beta</th>\n",
       "      <th>T7_beta</th>\n",
       "      <th>P7_beta</th>\n",
       "      <th>O1_beta</th>\n",
       "      <th>O2_beta</th>\n",
       "      <th>P8_beta</th>\n",
       "      <th>T8_beta</th>\n",
       "      <th>...</th>\n",
       "      <th>FC5_mu</th>\n",
       "      <th>T7_mu</th>\n",
       "      <th>P7_mu</th>\n",
       "      <th>O1_mu</th>\n",
       "      <th>O2_mu</th>\n",
       "      <th>P8_mu</th>\n",
       "      <th>T8_mu</th>\n",
       "      <th>FC6_mu</th>\n",
       "      <th>F4_mu</th>\n",
       "      <th>F8_mu</th>\n",
       "    </tr>\n",
       "  </thead>\n",
       "  <tbody>\n",
       "    <tr>\n",
       "      <th>0</th>\n",
       "      <td>9.617036</td>\n",
       "      <td>9.626228</td>\n",
       "      <td>9.590239</td>\n",
       "      <td>9.623327</td>\n",
       "      <td>9.589991</td>\n",
       "      <td>9.590804</td>\n",
       "      <td>9.567983</td>\n",
       "      <td>9.582804</td>\n",
       "      <td>9.574996</td>\n",
       "      <td>9.617209</td>\n",
       "      <td>...</td>\n",
       "      <td>9.972018</td>\n",
       "      <td>9.978088</td>\n",
       "      <td>9.946640</td>\n",
       "      <td>9.907507</td>\n",
       "      <td>9.920496</td>\n",
       "      <td>9.902075</td>\n",
       "      <td>9.984438</td>\n",
       "      <td>9.982150</td>\n",
       "      <td>9.949355</td>\n",
       "      <td>9.957458</td>\n",
       "    </tr>\n",
       "    <tr>\n",
       "      <th>1</th>\n",
       "      <td>10.281531</td>\n",
       "      <td>10.350626</td>\n",
       "      <td>10.272987</td>\n",
       "      <td>10.294057</td>\n",
       "      <td>10.321789</td>\n",
       "      <td>10.265471</td>\n",
       "      <td>10.242162</td>\n",
       "      <td>10.268789</td>\n",
       "      <td>10.245133</td>\n",
       "      <td>10.339490</td>\n",
       "      <td>...</td>\n",
       "      <td>10.157041</td>\n",
       "      <td>10.185575</td>\n",
       "      <td>10.147617</td>\n",
       "      <td>10.127310</td>\n",
       "      <td>10.135965</td>\n",
       "      <td>10.117657</td>\n",
       "      <td>10.178475</td>\n",
       "      <td>10.168443</td>\n",
       "      <td>10.142686</td>\n",
       "      <td>10.148809</td>\n",
       "    </tr>\n",
       "    <tr>\n",
       "      <th>2</th>\n",
       "      <td>9.704346</td>\n",
       "      <td>9.717879</td>\n",
       "      <td>9.685493</td>\n",
       "      <td>9.684669</td>\n",
       "      <td>9.691322</td>\n",
       "      <td>9.686065</td>\n",
       "      <td>9.678658</td>\n",
       "      <td>9.688431</td>\n",
       "      <td>9.678609</td>\n",
       "      <td>9.711365</td>\n",
       "      <td>...</td>\n",
       "      <td>9.624257</td>\n",
       "      <td>9.659974</td>\n",
       "      <td>9.642986</td>\n",
       "      <td>9.636403</td>\n",
       "      <td>9.645297</td>\n",
       "      <td>9.629779</td>\n",
       "      <td>9.650872</td>\n",
       "      <td>9.650194</td>\n",
       "      <td>9.641817</td>\n",
       "      <td>9.641468</td>\n",
       "    </tr>\n",
       "    <tr>\n",
       "      <th>3</th>\n",
       "      <td>10.062664</td>\n",
       "      <td>10.014825</td>\n",
       "      <td>9.952124</td>\n",
       "      <td>9.974973</td>\n",
       "      <td>9.990027</td>\n",
       "      <td>9.940493</td>\n",
       "      <td>9.940601</td>\n",
       "      <td>9.947620</td>\n",
       "      <td>9.951701</td>\n",
       "      <td>10.029456</td>\n",
       "      <td>...</td>\n",
       "      <td>10.596914</td>\n",
       "      <td>10.614033</td>\n",
       "      <td>10.563460</td>\n",
       "      <td>10.550088</td>\n",
       "      <td>10.571490</td>\n",
       "      <td>10.559683</td>\n",
       "      <td>10.656713</td>\n",
       "      <td>10.620954</td>\n",
       "      <td>10.602026</td>\n",
       "      <td>10.608514</td>\n",
       "    </tr>\n",
       "    <tr>\n",
       "      <th>4</th>\n",
       "      <td>9.925013</td>\n",
       "      <td>9.979357</td>\n",
       "      <td>9.939241</td>\n",
       "      <td>9.950245</td>\n",
       "      <td>9.985936</td>\n",
       "      <td>9.932586</td>\n",
       "      <td>9.921234</td>\n",
       "      <td>9.930336</td>\n",
       "      <td>9.923825</td>\n",
       "      <td>9.978828</td>\n",
       "      <td>...</td>\n",
       "      <td>10.294519</td>\n",
       "      <td>10.312448</td>\n",
       "      <td>10.267675</td>\n",
       "      <td>10.250802</td>\n",
       "      <td>10.261787</td>\n",
       "      <td>10.250422</td>\n",
       "      <td>10.305293</td>\n",
       "      <td>10.302618</td>\n",
       "      <td>10.269625</td>\n",
       "      <td>10.282871</td>\n",
       "    </tr>\n",
       "  </tbody>\n",
       "</table>\n",
       "<p>5 rows × 28 columns</p>\n",
       "</div>"
      ],
      "text/plain": [
       "    AF3_beta    F7_beta    F3_beta   FC5_beta    T7_beta    P7_beta  \\\n",
       "0   9.617036   9.626228   9.590239   9.623327   9.589991   9.590804   \n",
       "1  10.281531  10.350626  10.272987  10.294057  10.321789  10.265471   \n",
       "2   9.704346   9.717879   9.685493   9.684669   9.691322   9.686065   \n",
       "3  10.062664  10.014825   9.952124   9.974973   9.990027   9.940493   \n",
       "4   9.925013   9.979357   9.939241   9.950245   9.985936   9.932586   \n",
       "\n",
       "     O1_beta    O2_beta    P8_beta    T8_beta    ...         FC5_mu  \\\n",
       "0   9.567983   9.582804   9.574996   9.617209    ...       9.972018   \n",
       "1  10.242162  10.268789  10.245133  10.339490    ...      10.157041   \n",
       "2   9.678658   9.688431   9.678609   9.711365    ...       9.624257   \n",
       "3   9.940601   9.947620   9.951701  10.029456    ...      10.596914   \n",
       "4   9.921234   9.930336   9.923825   9.978828    ...      10.294519   \n",
       "\n",
       "       T7_mu      P7_mu      O1_mu      O2_mu      P8_mu      T8_mu  \\\n",
       "0   9.978088   9.946640   9.907507   9.920496   9.902075   9.984438   \n",
       "1  10.185575  10.147617  10.127310  10.135965  10.117657  10.178475   \n",
       "2   9.659974   9.642986   9.636403   9.645297   9.629779   9.650872   \n",
       "3  10.614033  10.563460  10.550088  10.571490  10.559683  10.656713   \n",
       "4  10.312448  10.267675  10.250802  10.261787  10.250422  10.305293   \n",
       "\n",
       "      FC6_mu      F4_mu      F8_mu  \n",
       "0   9.982150   9.949355   9.957458  \n",
       "1  10.168443  10.142686  10.148809  \n",
       "2   9.650194   9.641817   9.641468  \n",
       "3  10.620954  10.602026  10.608514  \n",
       "4  10.302618  10.269625  10.282871  \n",
       "\n",
       "[5 rows x 28 columns]"
      ]
     },
     "execution_count": 2,
     "metadata": {},
     "output_type": "execute_result"
    }
   ],
   "source": [
    "sampling_rate = 128\n",
    "path = '../data/preprocessed/'\n",
    "features = pd.read_csv(path+'featuresCarlo.csv', ',')\n",
    "features.head()"
   ]
  },
  {
   "cell_type": "markdown",
   "metadata": {},
   "source": [
    "Get the values and labels"
   ]
  },
  {
   "cell_type": "code",
   "execution_count": 10,
   "metadata": {},
   "outputs": [
    {
     "name": "stdout",
     "output_type": "stream",
     "text": [
      "('Number of labels 0, 1, -1: ', 80, 60, 60)\n",
      "('Number of features in total:', 26)\n",
      "('Number of data samples:', 200)\n"
     ]
    }
   ],
   "source": [
    "X = features[features.columns.difference(['id', 'label'])]\n",
    "y = features.label\n",
    "print(\"Number of labels 0, 1, -1: \", np.sum(y==0), np.sum(y==1), np.sum(y==-1))\n",
    "print(\"Number of features in total:\", X.shape[1])\n",
    "print(\"Number of data samples:\", X.shape[0])"
   ]
  },
  {
   "cell_type": "markdown",
   "metadata": {},
   "source": [
    "### Feature Selection\n",
    "Get the scores for each feature  \n",
    "(i used \"mutual information measure\" because it seemed the most informative but the current data we have is garbage)"
   ]
  },
  {
   "cell_type": "code",
   "execution_count": 4,
   "metadata": {},
   "outputs": [
    {
     "name": "stdout",
     "output_type": "stream",
     "text": [
      "('Scores corresponding to features:\\n', array([0.08203516, 0.04751304, 0.05753327, 0.0266582 , 0.        ,\n",
      "       0.        , 0.0384269 , 0.03721635, 0.04866487, 0.02020333,\n",
      "       0.07332651, 0.        , 0.07447342, 0.04072608, 0.        ,\n",
      "       0.        , 0.        , 0.        , 0.02495864, 0.        ,\n",
      "       0.        , 0.        , 0.08316939, 0.        , 0.        ,\n",
      "       0.00628824]))\n"
     ]
    }
   ],
   "source": [
    "K = 10 #number of features selected\n",
    "selector = SelectKBest(mutual_info_classif, k=K).fit(X, y) #fit returns object\n",
    "scores_selector = selector.scores_\n",
    "print(\"Scores corresponding to features:\\n\", scores_selector)"
   ]
  },
  {
   "cell_type": "markdown",
   "metadata": {},
   "source": [
    "You can just make the selector object return the reduced features matrix and the indices.   \n",
    "Be aware that **selected features are not in ranked order** but this shouldn't be a problem because if you want to increase the number of selected features just do it with the selector object   \n",
    "*During application, we will create the selector with the train data (X_train) and transform the validation data (X_val) with it.*"
   ]
  },
  {
   "cell_type": "code",
   "execution_count": 5,
   "metadata": {},
   "outputs": [
    {
     "name": "stdout",
     "output_type": "stream",
     "text": [
      "('Selected feature indices:', array([ 0,  1,  2,  6,  7,  8, 10, 12, 13, 22]))\n",
      "('New reduced feature matrix shape:', (200, 10))\n"
     ]
    }
   ],
   "source": [
    "X_reduced = selector.transform(X)\n",
    "selected_features = selector.get_support(indices=True)\n",
    "print(\"Selected feature indices:\", selected_features)\n",
    "print(\"New reduced feature matrix shape:\", X_reduced.shape)"
   ]
  },
  {
   "cell_type": "markdown",
   "metadata": {},
   "source": [
    "## Classification\n",
    "Comparing training accuracies of different methods."
   ]
  },
  {
   "cell_type": "code",
   "execution_count": 7,
   "metadata": {},
   "outputs": [
    {
     "name": "stdout",
     "output_type": "stream",
     "text": [
      "Cross validation accuracies:\n",
      "('LDA', '0.35 (+/- 0.13)')\n",
      "('Linear SVM', '0.45 (+/- 0.04)')\n",
      "('Quadratic SVM', '0.45 (+/- 0.04)')\n",
      "('Nearest Neighbor', '0.40 (+/- 0.12)')\n",
      "('Naive Bayes', '0.38 (+/- 0.08)')\n"
     ]
    }
   ],
   "source": [
    "names = [\"LDA\", \"Linear SVM\", \"Quadratic SVM\", \"Nearest Neighbor\", \"Naive Bayes\"]\n",
    "classifiers = [LDA(), SVC(kernel=\"linear\"), SVC(gamma=2), KNeighborsClassifier(3), GaussianNB()]\n",
    "\n",
    "X_train, X_test, y_train, y_test = train_test_split(X_reduced, y, test_size=.2, random_state=7)\n",
    "\n",
    "print(\"Cross validation accuracies:\")\n",
    "for n, c in zip(names, classifiers):\n",
    "        c.fit(X_train, y_train)\n",
    "        scores = cross_val_score(c, X_test, y_test,  cv=5)\n",
    "        print(n, \"%0.2f (+/- %0.2f)\" % (scores.mean(), scores.std())) "
   ]
  }
 ],
 "metadata": {
  "kernelspec": {
   "display_name": "Python 3",
   "language": "python",
   "name": "python3"
  },
  "language_info": {
   "codemirror_mode": {
    "name": "ipython",
    "version": 3
   },
   "file_extension": ".py",
   "mimetype": "text/x-python",
   "name": "python",
   "nbconvert_exporter": "python",
   "pygments_lexer": "ipython3",
   "version": "3.6.5"
  }
 },
 "nbformat": 4,
 "nbformat_minor": 2
}
