{
 "cells": [
  {
   "cell_type": "markdown",
   "metadata": {},
   "source": [
    "# First SSVEP dataset\n",
    "\n",
    "\n",
    "**labels:**\n",
    "\n",
    "0 - no flickering\n",
    "\n",
    "1 2 3 4 - for the boxes\n",
    "\n",
    "\n",
    "**id label alphabetical:**\n",
    "\n",
    "0 - alebs\n",
    "\n",
    "1 - barlo\n",
    "\n",
    "2 - yagmur"
   ]
  },
  {
   "cell_type": "code",
   "execution_count": 1,
   "metadata": {},
   "outputs": [],
   "source": [
    "import numpy as np\n",
    "import pandas as pd\n",
    "from glob import glob\n",
    "import matplotlib.pyplot as plt\n",
    "import seaborn as sns\n",
    "from scipy import stats, integrate\n",
    "import scipy.fftpack\n",
    "from scipy.signal import butter, lfilter, filtfilt\n",
    "\n",
    "\n",
    "from sklearn.feature_selection import chi2, mutual_info_classif, SelectKBest\n",
    "from sklearn.model_selection import train_test_split, cross_val_score\n",
    "from sklearn.discriminant_analysis import LinearDiscriminantAnalysis as LDA\n",
    "from sklearn.svm import SVC\n",
    "\n",
    "from filtering_cca import * #cca_corrs\n",
    "\n",
    "\n",
    "%matplotlib inline"
   ]
  },
  {
   "cell_type": "markdown",
   "metadata": {},
   "source": [
    "## Load Data"
   ]
  },
  {
   "cell_type": "code",
   "execution_count": 2,
   "metadata": {},
   "outputs": [
    {
     "data": {
      "text/plain": [
       "['../data/raw/alebs-2-record.csv',\n",
       " '../data/raw/alebs-record.csv',\n",
       " '../data/raw/barlo-2-record.csv',\n",
       " '../data/raw/barlo-record.csv',\n",
       " '../data/raw/yagmur-record.csv']"
      ]
     },
     "execution_count": 2,
     "metadata": {},
     "output_type": "execute_result"
    }
   ],
   "source": [
    "# load and sort the paths\n",
    "path = '../data/raw/'\n",
    "sampling_rate = 128\n",
    "\n",
    "fnames = glob(path+'*.csv') # get paths and save them\n",
    "fnames.sort()\n",
    "fnames"
   ]
  },
  {
   "cell_type": "code",
   "execution_count": 3,
   "metadata": {},
   "outputs": [
    {
     "data": {
      "text/html": [
       "<div>\n",
       "<style scoped>\n",
       "    .dataframe tbody tr th:only-of-type {\n",
       "        vertical-align: middle;\n",
       "    }\n",
       "\n",
       "    .dataframe tbody tr th {\n",
       "        vertical-align: top;\n",
       "    }\n",
       "\n",
       "    .dataframe thead th {\n",
       "        text-align: right;\n",
       "    }\n",
       "</style>\n",
       "<table border=\"1\" class=\"dataframe\">\n",
       "  <thead>\n",
       "    <tr style=\"text-align: right;\">\n",
       "      <th></th>\n",
       "      <th>AF3</th>\n",
       "      <th>F7</th>\n",
       "      <th>F3</th>\n",
       "      <th>FC5</th>\n",
       "      <th>T7</th>\n",
       "      <th>P7</th>\n",
       "      <th>O1</th>\n",
       "      <th>O2</th>\n",
       "      <th>P8</th>\n",
       "      <th>T8</th>\n",
       "      <th>FC6</th>\n",
       "      <th>F4</th>\n",
       "      <th>F8</th>\n",
       "      <th>AF4</th>\n",
       "      <th>label</th>\n",
       "      <th>id</th>\n",
       "    </tr>\n",
       "  </thead>\n",
       "  <tbody>\n",
       "    <tr>\n",
       "      <th>68155</th>\n",
       "      <td>4133.3</td>\n",
       "      <td>4111.8</td>\n",
       "      <td>4103.6</td>\n",
       "      <td>4100.0</td>\n",
       "      <td>4101.4</td>\n",
       "      <td>4106.3</td>\n",
       "      <td>4109.9</td>\n",
       "      <td>4102.3</td>\n",
       "      <td>4113.8</td>\n",
       "      <td>4104.2</td>\n",
       "      <td>4115.3</td>\n",
       "      <td>4079.6</td>\n",
       "      <td>4107.1</td>\n",
       "      <td>4122.3</td>\n",
       "      <td>0</td>\n",
       "      <td>1</td>\n",
       "    </tr>\n",
       "    <tr>\n",
       "      <th>68156</th>\n",
       "      <td>4116.5</td>\n",
       "      <td>4102.1</td>\n",
       "      <td>4102.4</td>\n",
       "      <td>4099.6</td>\n",
       "      <td>4109.2</td>\n",
       "      <td>4095.3</td>\n",
       "      <td>4115.5</td>\n",
       "      <td>4095.5</td>\n",
       "      <td>4106.2</td>\n",
       "      <td>4117.6</td>\n",
       "      <td>4091.5</td>\n",
       "      <td>4074.4</td>\n",
       "      <td>4101.4</td>\n",
       "      <td>4102.8</td>\n",
       "      <td>0</td>\n",
       "      <td>1</td>\n",
       "    </tr>\n",
       "    <tr>\n",
       "      <th>68157</th>\n",
       "      <td>4138.3</td>\n",
       "      <td>4110.1</td>\n",
       "      <td>4106.0</td>\n",
       "      <td>4102.3</td>\n",
       "      <td>4107.3</td>\n",
       "      <td>4088.1</td>\n",
       "      <td>4113.8</td>\n",
       "      <td>4098.1</td>\n",
       "      <td>4106.4</td>\n",
       "      <td>4117.1</td>\n",
       "      <td>4099.2</td>\n",
       "      <td>4087.2</td>\n",
       "      <td>4102.3</td>\n",
       "      <td>4123.7</td>\n",
       "      <td>0</td>\n",
       "      <td>1</td>\n",
       "    </tr>\n",
       "    <tr>\n",
       "      <th>68158</th>\n",
       "      <td>4154.0</td>\n",
       "      <td>4125.0</td>\n",
       "      <td>4106.3</td>\n",
       "      <td>4099.0</td>\n",
       "      <td>4099.5</td>\n",
       "      <td>4094.6</td>\n",
       "      <td>4111.3</td>\n",
       "      <td>4107.9</td>\n",
       "      <td>4119.9</td>\n",
       "      <td>4109.2</td>\n",
       "      <td>4118.3</td>\n",
       "      <td>4100.3</td>\n",
       "      <td>4101.7</td>\n",
       "      <td>4144.1</td>\n",
       "      <td>0</td>\n",
       "      <td>1</td>\n",
       "    </tr>\n",
       "    <tr>\n",
       "      <th>68159</th>\n",
       "      <td>4122.4</td>\n",
       "      <td>4105.1</td>\n",
       "      <td>4100.5</td>\n",
       "      <td>4096.7</td>\n",
       "      <td>4102.2</td>\n",
       "      <td>4104.9</td>\n",
       "      <td>4114.4</td>\n",
       "      <td>4108.7</td>\n",
       "      <td>4124.2</td>\n",
       "      <td>4115.9</td>\n",
       "      <td>4109.6</td>\n",
       "      <td>4086.0</td>\n",
       "      <td>4097.4</td>\n",
       "      <td>4112.4</td>\n",
       "      <td>0</td>\n",
       "      <td>1</td>\n",
       "    </tr>\n",
       "  </tbody>\n",
       "</table>\n",
       "</div>"
      ],
      "text/plain": [
       "          AF3      F7      F3     FC5      T7      P7      O1      O2      P8  \\\n",
       "68155  4133.3  4111.8  4103.6  4100.0  4101.4  4106.3  4109.9  4102.3  4113.8   \n",
       "68156  4116.5  4102.1  4102.4  4099.6  4109.2  4095.3  4115.5  4095.5  4106.2   \n",
       "68157  4138.3  4110.1  4106.0  4102.3  4107.3  4088.1  4113.8  4098.1  4106.4   \n",
       "68158  4154.0  4125.0  4106.3  4099.0  4099.5  4094.6  4111.3  4107.9  4119.9   \n",
       "68159  4122.4  4105.1  4100.5  4096.7  4102.2  4104.9  4114.4  4108.7  4124.2   \n",
       "\n",
       "           T8     FC6      F4      F8     AF4  label  id  \n",
       "68155  4104.2  4115.3  4079.6  4107.1  4122.3      0   1  \n",
       "68156  4117.6  4091.5  4074.4  4101.4  4102.8      0   1  \n",
       "68157  4117.1  4099.2  4087.2  4102.3  4123.7      0   1  \n",
       "68158  4109.2  4118.3  4100.3  4101.7  4144.1      0   1  \n",
       "68159  4115.9  4109.6  4086.0  4097.4  4112.4      0   1  "
      ]
     },
     "execution_count": 3,
     "metadata": {},
     "output_type": "execute_result"
    }
   ],
   "source": [
    "col_names = ['AF3', 'F7', 'F3', 'FC5', 'T7', 'P7', 'O1', 'O2', 'P8', 'T8', 'FC6', 'F4', 'F8', 'AF4', 'label']\n",
    "data = {}\n",
    "for i, name in enumerate(fnames):\n",
    "    data[i] = pd.read_csv(name, names=col_names)\n",
    "    data[i]['id'] = i\n",
    "    \n",
    "data[1].tail()"
   ]
  },
  {
   "cell_type": "code",
   "execution_count": 4,
   "metadata": {},
   "outputs": [],
   "source": [
    "data_all = pd.DataFrame()\n",
    "\n",
    "for i in np.arange(0,3):\n",
    "    data_all = pd.concat([data_all, data[i]], axis=0, ignore_index=True)"
   ]
  },
  {
   "cell_type": "markdown",
   "metadata": {},
   "source": [
    "## Epochs"
   ]
  },
  {
   "cell_type": "code",
   "execution_count": 5,
   "metadata": {},
   "outputs": [
    {
     "data": {
      "text/plain": [
       "[<matplotlib.lines.Line2D at 0x7f4ca05069b0>]"
      ]
     },
     "execution_count": 5,
     "metadata": {},
     "output_type": "execute_result"
    },
    {
     "data": {
      "image/png": "[encoded data removed]",
      "text/plain": [
       "<Figure size 432x288 with 1 Axes>"
      ]
     },
     "metadata": {},
     "output_type": "display_data"
    }
   ],
   "source": [
    "yagmur = data[1] #0 aleks, 1 carlo, 2 yagmur\n",
    "plt.plot(yagmur.label)"
   ]
  },
  {
   "cell_type": "markdown",
   "metadata": {},
   "source": [
    "### Get indexes of on and off of each stimuli"
   ]
  },
  {
   "cell_type": "code",
   "execution_count": 6,
   "metadata": {},
   "outputs": [
    {
     "data": {
      "image/png": "[encoded data removed]",
      "text/plain": [
       "<Figure size 432x288 with 1 Axes>"
      ]
     },
     "metadata": {},
     "output_type": "display_data"
    }
   ],
   "source": [
    "threshold = 0.5\n",
    "\n",
    "idxOFF = np.argwhere(yagmur.label < threshold)\n",
    "idxON = np.argwhere(yagmur.label > threshold)\n",
    "\n",
    "\n",
    "x_alwaysON = np.zeros(len(yagmur.index))\n",
    "x_alwaysON[idxON] = 1\n",
    "\n",
    "x_turnON = np.roll(x_alwaysON, 1)\n",
    "x_turnON = x_alwaysON - x_turnON\n",
    "x_turnON = np.where(x_turnON > 0, x_turnON, 0)\n",
    "\n",
    "plt.plot(yagmur.label)#x_alwaysON)\n",
    "plt.plot(x_turnON)\n",
    "plt.show()"
   ]
  },
  {
   "cell_type": "markdown",
   "metadata": {},
   "source": [
    "### Get Yagmurs epochs"
   ]
  },
  {
   "cell_type": "code",
   "execution_count": 7,
   "metadata": {},
   "outputs": [
    {
     "data": {
      "text/plain": [
       "(68160, 6)"
      ]
     },
     "execution_count": 7,
     "metadata": {},
     "output_type": "execute_result"
    }
   ],
   "source": [
    "#picked_electrodes = {'AF3', 'F7', 'F3', 'FC5', 'T7', 'P7', 'O1', 'O2', 'P8', 'T8', 'FC6', 'F4', 'F8', 'AF4'}\n",
    "picked_electrodes = {'AF3', 'F3', 'AF4', 'F4', 'F7', 'F8'}\n",
    "#picked_electrodes = {'F4'}\n",
    "\n",
    "data_electr_filt = np.zeros((yagmur.shape[0], len(picked_electrodes)))\n",
    "\n",
    "\n",
    "for n, elec in enumerate(picked_electrodes):\n",
    "    data_electr_filt[:,n] = yagmur[elec]\n",
    "\n",
    "data_electr_filt.shape"
   ]
  },
  {
   "cell_type": "code",
   "execution_count": 8,
   "metadata": {},
   "outputs": [],
   "source": [
    "N_epoch = 400\n",
    "\n",
    "epochs = np.zeros((len( np.argwhere(x_turnON) ),N_epoch, data_electr_filt.shape[1])) #34x700x4 \n",
    "for n, i in enumerate(np.argwhere(x_turnON)):    \n",
    "    epochs[n,:,:] = data_electr_filt[i[0]+400:i[0]+400+N_epoch,:]\n",
    "    \n",
    "epochs_concat = np.zeros((epochs.shape[0]*epochs.shape[2], epochs.shape[1]))\n",
    "n = epochs.shape[0]\n",
    "for i in range(epochs.shape[2]):\n",
    "    epochs_concat[n*i:n*i+n,:] = epochs[:,:,i]"
   ]
  },
  {
   "cell_type": "code",
   "execution_count": 9,
   "metadata": {},
   "outputs": [
    {
     "data": {
      "text/plain": [
       "(34, 400, 6)"
      ]
     },
     "execution_count": 9,
     "metadata": {},
     "output_type": "execute_result"
    }
   ],
   "source": [
    "epochs.shape"
   ]
  },
  {
   "cell_type": "markdown",
   "metadata": {},
   "source": [
    "### Get Labels\n",
    "Carlo Labels 1 = empty 2 = 20 Hz 3 = 15 Hz 4 = 10 Hz"
   ]
  },
  {
   "cell_type": "code",
   "execution_count": 10,
   "metadata": {},
   "outputs": [],
   "source": [
    "labels1 = np.zeros(len(np.argwhere(x_turnON)))\n",
    "i = 0\n",
    "for n in np.argwhere(x_turnON):\n",
    "    labels1[i] = yagmur.label[n]\n",
    "    i+=1\n",
    "labels1\n",
    "y = labels1"
   ]
  },
  {
   "cell_type": "markdown",
   "metadata": {},
   "source": [
    "### Filter data and get the corr scores"
   ]
  },
  {
   "cell_type": "code",
   "execution_count": 107,
   "metadata": {},
   "outputs": [],
   "source": [
    "y_est = np.zeros_like(y)\n",
    "r = np.zeros([34, 3])\n",
    "for i in range(34):\n",
    "    X_input = np.squeeze(epochs[i,:,:])\n",
    "#     r[i,:] = cca_corrs(X_input, 20, 15, 10, sampling_rate)\n",
    "    r[i,:] = kcca_corrs(X_input, 20, 15, 10, sampling_rate, reg=.1, gausigma=.01, degree=2)\n",
    "    y_est[i] = np.argmax(r[i,:]) + 2\n",
    "    \n"
   ]
  },
  {
   "cell_type": "markdown",
   "metadata": {},
   "source": [
    "4 = 20 Hz (middle)\n",
    "1 = 15 Hz (up)\n",
    "2 = 12 Hz (left)\n",
    "3 = 8 Hz  (right)"
   ]
  },
  {
   "cell_type": "markdown",
   "metadata": {},
   "source": [
    "### Estimate the label from the scores\n",
    "Labels \n",
    "1 = empty 2 = 20 Hz 3 = 15 Hz 4 = 10 Hz"
   ]
  },
  {
   "cell_type": "code",
   "execution_count": 108,
   "metadata": {
    "scrolled": true
   },
   "outputs": [
    {
     "data": {
      "text/plain": [
       "0.6470588235294118"
      ]
     },
     "execution_count": 108,
     "metadata": {},
     "output_type": "execute_result"
    }
   ],
   "source": [
    "np.sum((y-y_est)==0)/34"
   ]
  },
  {
   "cell_type": "code",
   "execution_count": 109,
   "metadata": {
    "scrolled": false
   },
   "outputs": [
    {
     "data": {
      "text/plain": [
       "0.8148148148148148"
      ]
     },
     "execution_count": 109,
     "metadata": {},
     "output_type": "execute_result"
    }
   ],
   "source": [
    "# simple estimation\n",
    "np.sum((y[y!=1]-y_est[y!=1]) == 0)/np.sum((y!=1)==True)"
   ]
  },
  {
   "cell_type": "code",
   "execution_count": 110,
   "metadata": {
    "scrolled": true
   },
   "outputs": [
    {
     "name": "stdout",
     "output_type": "stream",
     "text": [
      "[1. 2. 3. 4. 3. 2. 4. 1. 3. 2. 1. 4. 2. 4. 3. 1. 2. 3. 2. 2. 4. 1. 2. 4.\n",
      " 3. 1. 2. 1. 3. 4. 3. 2. 4. 3.]\n",
      "[2. 4. 3. 4. 3. 2. 4. 4. 3. 2. 4. 4. 2. 4. 2. 2. 2. 3. 2. 2. 2. 4. 4. 4.\n",
      " 3. 2. 4. 2. 3. 4. 3. 2. 4. 3.]\n"
     ]
    }
   ],
   "source": [
    "print(y)\n",
    "print(y_est)"
   ]
  },
  {
   "cell_type": "markdown",
   "metadata": {},
   "source": [
    "### Use a classifier fo estimating the scores"
   ]
  },
  {
   "cell_type": "code",
   "execution_count": 111,
   "metadata": {},
   "outputs": [
    {
     "data": {
      "text/plain": [
       "0.8235294117647058"
      ]
     },
     "execution_count": 111,
     "metadata": {},
     "output_type": "execute_result"
    }
   ],
   "source": [
    "classifier = LDA()\n",
    "classifier.fit(r,y)\n",
    "r_est = classifier.predict(r)\n",
    "np.sum((y-r_est)==0)/34"
   ]
  },
  {
   "cell_type": "code",
   "execution_count": 112,
   "metadata": {},
   "outputs": [
    {
     "data": {
      "text/plain": [
       "0.8148148148148148"
      ]
     },
     "execution_count": 112,
     "metadata": {},
     "output_type": "execute_result"
    }
   ],
   "source": [
    "#score without label 1\n",
    "np.sum((y[y!=1]-r_est[y!=1]) == 0)/np.sum((y!=1)==True)"
   ]
  },
  {
   "cell_type": "code",
   "execution_count": 113,
   "metadata": {
    "scrolled": true
   },
   "outputs": [
    {
     "name": "stdout",
     "output_type": "stream",
     "text": [
      "[1. 2. 3. 4. 3. 2. 4. 1. 3. 2. 1. 4. 2. 4. 3. 1. 2. 3. 2. 2. 4. 1. 2. 4.\n",
      " 3. 1. 2. 1. 3. 4. 3. 2. 4. 3.]\n",
      "[1. 2. 3. 4. 3. 2. 4. 1. 3. 2. 1. 4. 2. 1. 3. 2. 2. 1. 2. 2. 2. 1. 4. 2.\n",
      " 3. 1. 2. 1. 3. 4. 3. 2. 4. 3.]\n"
     ]
    }
   ],
   "source": [
    "print(y)\n",
    "print(r_est)"
   ]
  },
  {
   "cell_type": "code",
   "execution_count": null,
   "metadata": {},
   "outputs": [],
   "source": []
  }
 ],
 "metadata": {
  "kernelspec": {
   "display_name": "Python 3",
   "language": "python",
   "name": "python3"
  },
  "language_info": {
   "codemirror_mode": {
    "name": "ipython",
    "version": 3
   },
   "file_extension": ".py",
   "mimetype": "text/x-python",
   "name": "python",
   "nbconvert_exporter": "python",
   "pygments_lexer": "ipython3",
   "version": "3.6.5"
  }
 },
 "nbformat": 4,
 "nbformat_minor": 2
}
