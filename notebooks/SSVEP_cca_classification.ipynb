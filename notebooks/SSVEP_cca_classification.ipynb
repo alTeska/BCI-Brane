{
 "cells": [
  {
   "cell_type": "markdown",
   "metadata": {},
   "source": [
    "# First SSVEP dataset\n",
    "\n",
    "\n",
    "**labels:**\n",
    "\n",
    "0 - no flickering\n",
    "\n",
    "1 2 3 4 - for the boxes\n",
    "\n",
    "\n",
    "**id label alphabetical:**\n",
    "\n",
    "0 - alebs\n",
    "\n",
    "1 - barlo\n",
    "\n",
    "2 - yagmur"
   ]
  },
  {
   "cell_type": "code",
   "execution_count": 1,
   "metadata": {},
   "outputs": [],
   "source": [
    "import numpy as np\n",
    "import pandas as pd\n",
    "from glob import glob\n",
    "import matplotlib.pyplot as plt\n",
    "import seaborn as sns\n",
    "from scipy import stats, integrate\n",
    "import scipy.fftpack\n",
    "from scipy.signal import butter, lfilter, filtfilt\n",
    "\n",
    "\n",
    "from sklearn.feature_selection import chi2, mutual_info_classif, SelectKBest\n",
    "from sklearn.model_selection import train_test_split, cross_val_score\n",
    "from sklearn.discriminant_analysis import LinearDiscriminantAnalysis as LDA\n",
    "from sklearn.svm import SVC\n",
    "\n",
    "from filtering_cca import * #cca_corrs\n",
    "\n",
    "\n",
    "%matplotlib inline"
   ]
  },
  {
   "cell_type": "markdown",
   "metadata": {},
   "source": [
    "## Load Data"
   ]
  },
  {
   "cell_type": "code",
   "execution_count": 2,
   "metadata": {},
   "outputs": [
    {
     "data": {
      "text/plain": [
       "['../data/raw\\\\alebs-record.csv',\n",
       " '../data/raw\\\\barlo-record.csv',\n",
       " '../data/raw\\\\yagmur-record.csv']"
      ]
     },
     "execution_count": 2,
     "metadata": {},
     "output_type": "execute_result"
    }
   ],
   "source": [
    "# load and sort the paths\n",
    "path = '../data/raw/'\n",
    "sampling_rate = 128\n",
    "\n",
    "fnames = glob(path+'*.csv') # get paths and save them\n",
    "fnames.sort()\n",
    "fnames"
   ]
  },
  {
   "cell_type": "code",
   "execution_count": 3,
   "metadata": {},
   "outputs": [
    {
     "data": {
      "text/html": [
       "<div>\n",
       "<style scoped>\n",
       "    .dataframe tbody tr th:only-of-type {\n",
       "        vertical-align: middle;\n",
       "    }\n",
       "\n",
       "    .dataframe tbody tr th {\n",
       "        vertical-align: top;\n",
       "    }\n",
       "\n",
       "    .dataframe thead th {\n",
       "        text-align: right;\n",
       "    }\n",
       "</style>\n",
       "<table border=\"1\" class=\"dataframe\">\n",
       "  <thead>\n",
       "    <tr style=\"text-align: right;\">\n",
       "      <th></th>\n",
       "      <th>AF3</th>\n",
       "      <th>F7</th>\n",
       "      <th>F3</th>\n",
       "      <th>FC5</th>\n",
       "      <th>T7</th>\n",
       "      <th>P7</th>\n",
       "      <th>O1</th>\n",
       "      <th>O2</th>\n",
       "      <th>P8</th>\n",
       "      <th>T8</th>\n",
       "      <th>FC6</th>\n",
       "      <th>F4</th>\n",
       "      <th>F8</th>\n",
       "      <th>AF4</th>\n",
       "      <th>label</th>\n",
       "      <th>id</th>\n",
       "    </tr>\n",
       "  </thead>\n",
       "  <tbody>\n",
       "    <tr>\n",
       "      <th>66555</th>\n",
       "      <td>4039.9</td>\n",
       "      <td>4033.7</td>\n",
       "      <td>4141.5</td>\n",
       "      <td>4106.5</td>\n",
       "      <td>4103.2</td>\n",
       "      <td>4094.4</td>\n",
       "      <td>4122.8</td>\n",
       "      <td>4137.7</td>\n",
       "      <td>4138.7</td>\n",
       "      <td>4128.8</td>\n",
       "      <td>4123.6</td>\n",
       "      <td>4101.5</td>\n",
       "      <td>4093.6</td>\n",
       "      <td>4010.6</td>\n",
       "      <td>0</td>\n",
       "      <td>1</td>\n",
       "    </tr>\n",
       "    <tr>\n",
       "      <th>66556</th>\n",
       "      <td>4042.9</td>\n",
       "      <td>4030.0</td>\n",
       "      <td>4139.4</td>\n",
       "      <td>4111.2</td>\n",
       "      <td>4106.3</td>\n",
       "      <td>4094.2</td>\n",
       "      <td>4122.4</td>\n",
       "      <td>4135.1</td>\n",
       "      <td>4137.9</td>\n",
       "      <td>4128.3</td>\n",
       "      <td>4127.8</td>\n",
       "      <td>4102.4</td>\n",
       "      <td>4095.8</td>\n",
       "      <td>4012.8</td>\n",
       "      <td>0</td>\n",
       "      <td>1</td>\n",
       "    </tr>\n",
       "    <tr>\n",
       "      <th>66557</th>\n",
       "      <td>4081.3</td>\n",
       "      <td>4049.1</td>\n",
       "      <td>4147.9</td>\n",
       "      <td>4115.6</td>\n",
       "      <td>4108.6</td>\n",
       "      <td>4094.5</td>\n",
       "      <td>4124.6</td>\n",
       "      <td>4130.6</td>\n",
       "      <td>4126.3</td>\n",
       "      <td>4126.0</td>\n",
       "      <td>4131.2</td>\n",
       "      <td>4101.3</td>\n",
       "      <td>4093.7</td>\n",
       "      <td>4009.6</td>\n",
       "      <td>0</td>\n",
       "      <td>1</td>\n",
       "    </tr>\n",
       "    <tr>\n",
       "      <th>66558</th>\n",
       "      <td>4076.2</td>\n",
       "      <td>4047.7</td>\n",
       "      <td>4146.5</td>\n",
       "      <td>4115.0</td>\n",
       "      <td>4109.6</td>\n",
       "      <td>4099.6</td>\n",
       "      <td>4129.4</td>\n",
       "      <td>4133.3</td>\n",
       "      <td>4128.7</td>\n",
       "      <td>4131.0</td>\n",
       "      <td>4125.4</td>\n",
       "      <td>4100.1</td>\n",
       "      <td>4094.5</td>\n",
       "      <td>4007.1</td>\n",
       "      <td>0</td>\n",
       "      <td>1</td>\n",
       "    </tr>\n",
       "    <tr>\n",
       "      <th>66559</th>\n",
       "      <td>4041.0</td>\n",
       "      <td>4025.9</td>\n",
       "      <td>4136.3</td>\n",
       "      <td>4117.3</td>\n",
       "      <td>4114.1</td>\n",
       "      <td>4108.5</td>\n",
       "      <td>4136.5</td>\n",
       "      <td>4140.3</td>\n",
       "      <td>4144.4</td>\n",
       "      <td>4138.5</td>\n",
       "      <td>4121.4</td>\n",
       "      <td>4100.5</td>\n",
       "      <td>4095.8</td>\n",
       "      <td>3998.8</td>\n",
       "      <td>0</td>\n",
       "      <td>1</td>\n",
       "    </tr>\n",
       "  </tbody>\n",
       "</table>\n",
       "</div>"
      ],
      "text/plain": [
       "          AF3      F7      F3     FC5      T7      P7      O1      O2      P8  \\\n",
       "66555  4039.9  4033.7  4141.5  4106.5  4103.2  4094.4  4122.8  4137.7  4138.7   \n",
       "66556  4042.9  4030.0  4139.4  4111.2  4106.3  4094.2  4122.4  4135.1  4137.9   \n",
       "66557  4081.3  4049.1  4147.9  4115.6  4108.6  4094.5  4124.6  4130.6  4126.3   \n",
       "66558  4076.2  4047.7  4146.5  4115.0  4109.6  4099.6  4129.4  4133.3  4128.7   \n",
       "66559  4041.0  4025.9  4136.3  4117.3  4114.1  4108.5  4136.5  4140.3  4144.4   \n",
       "\n",
       "           T8     FC6      F4      F8     AF4  label  id  \n",
       "66555  4128.8  4123.6  4101.5  4093.6  4010.6      0   1  \n",
       "66556  4128.3  4127.8  4102.4  4095.8  4012.8      0   1  \n",
       "66557  4126.0  4131.2  4101.3  4093.7  4009.6      0   1  \n",
       "66558  4131.0  4125.4  4100.1  4094.5  4007.1      0   1  \n",
       "66559  4138.5  4121.4  4100.5  4095.8  3998.8      0   1  "
      ]
     },
     "execution_count": 3,
     "metadata": {},
     "output_type": "execute_result"
    }
   ],
   "source": [
    "col_names = ['AF3', 'F7', 'F3', 'FC5', 'T7', 'P7', 'O1', 'O2', 'P8', 'T8', 'FC6', 'F4', 'F8', 'AF4', 'label']\n",
    "data = {}\n",
    "for i, name in enumerate(fnames):\n",
    "    data[i] = pd.read_csv(name, names=col_names)\n",
    "    data[i]['id'] = i\n",
    "    \n",
    "data[1].tail()"
   ]
  },
  {
   "cell_type": "code",
   "execution_count": 4,
   "metadata": {},
   "outputs": [],
   "source": [
    "data_all = pd.DataFrame()\n",
    "\n",
    "for i in np.arange(0,3):\n",
    "    data_all = pd.concat([data_all, data[i]], axis=0, ignore_index=True)"
   ]
  },
  {
   "cell_type": "markdown",
   "metadata": {},
   "source": [
    "## Epochs"
   ]
  },
  {
   "cell_type": "code",
   "execution_count": 5,
   "metadata": {},
   "outputs": [
    {
     "data": {
      "text/plain": [
       "[<matplotlib.lines.Line2D at 0x263def79da0>]"
      ]
     },
     "execution_count": 5,
     "metadata": {},
     "output_type": "execute_result"
    },
    {
     "data": {
      "image/png": "[encoded data removed]",
      "text/plain": [
       "<Figure size 432x288 with 1 Axes>"
      ]
     },
     "metadata": {},
     "output_type": "display_data"
    }
   ],
   "source": [
    "yagmur = data[2] #0 aleks, 1 carlo, 2 yagmur\n",
    "plt.plot(yagmur.label)"
   ]
  },
  {
   "cell_type": "markdown",
   "metadata": {},
   "source": [
    "### Get indexes of on and off of each stimuli"
   ]
  },
  {
   "cell_type": "code",
   "execution_count": 6,
   "metadata": {},
   "outputs": [
    {
     "data": {
      "image/png": "[encoded data removed]",
      "text/plain": [
       "<Figure size 432x288 with 1 Axes>"
      ]
     },
     "metadata": {},
     "output_type": "display_data"
    }
   ],
   "source": [
    "threshold = 0.5\n",
    "\n",
    "idxOFF = np.argwhere(yagmur.label < threshold)\n",
    "idxON = np.argwhere(yagmur.label > threshold)\n",
    "\n",
    "\n",
    "x_alwaysON = np.zeros(len(yagmur.index))\n",
    "x_alwaysON[idxON] = 1\n",
    "\n",
    "x_turnON = np.roll(x_alwaysON, 1)\n",
    "x_turnON = x_alwaysON - x_turnON\n",
    "x_turnON = np.where(x_turnON > 0, x_turnON, 0)\n",
    "\n",
    "plt.plot(x_alwaysON)\n",
    "plt.plot(x_turnON)\n",
    "plt.show()"
   ]
  },
  {
   "cell_type": "markdown",
   "metadata": {},
   "source": [
    "### Get Yagmurs epochs"
   ]
  },
  {
   "cell_type": "code",
   "execution_count": 19,
   "metadata": {},
   "outputs": [
    {
     "data": {
      "text/plain": [
       "(67200, 6)"
      ]
     },
     "execution_count": 19,
     "metadata": {},
     "output_type": "execute_result"
    }
   ],
   "source": [
    "#picked_electrodes = {'AF3', 'F7', 'F3', 'FC5', 'T7', 'P7', 'O1', 'O2', 'P8', 'T8', 'FC6', 'F4', 'F8', 'AF4'}\n",
    "picked_electrodes = {'AF3', 'F3', 'AF4', 'F4', 'F7', 'F8'}\n",
    "#picked_electrodes = {'F4'}\n",
    "\n",
    "data_electr_filt = np.zeros((yagmur.shape[0], len(picked_electrodes)))\n",
    "\n",
    "\n",
    "for n, elec in enumerate(picked_electrodes):\n",
    "    data_electr_filt[:,n] = yagmur[elec]\n",
    "\n",
    "data_electr_filt.shape"
   ]
  },
  {
   "cell_type": "code",
   "execution_count": 20,
   "metadata": {},
   "outputs": [],
   "source": [
    "N_epoch = 200\n",
    "\n",
    "epochs = np.zeros((len( np.argwhere(x_turnON) ),N_epoch, data_electr_filt.shape[1])) #34x700x4 \n",
    "for n, i in enumerate(np.argwhere(x_turnON)):    \n",
    "    epochs[n,:,:] = data_electr_filt[i[0]+400:i[0]+400+N_epoch,:]\n",
    "    \n",
    "epochs_concat = np.zeros((epochs.shape[0]*epochs.shape[2], epochs.shape[1]))\n",
    "n = epochs.shape[0]\n",
    "for i in range(epochs.shape[2]):\n",
    "    epochs_concat[n*i:n*i+n,:] = epochs[:,:,i]"
   ]
  },
  {
   "cell_type": "code",
   "execution_count": 21,
   "metadata": {},
   "outputs": [
    {
     "data": {
      "text/plain": [
       "(34, 200, 6)"
      ]
     },
     "execution_count": 21,
     "metadata": {},
     "output_type": "execute_result"
    }
   ],
   "source": [
    "epochs.shape"
   ]
  },
  {
   "cell_type": "markdown",
   "metadata": {},
   "source": [
    "### Get Labels\n",
    "Carlo Labels 1 = empty 2 = 20 Hz 3 = 15 Hz 4 = 10 Hz"
   ]
  },
  {
   "cell_type": "code",
   "execution_count": 22,
   "metadata": {},
   "outputs": [],
   "source": [
    "labels1 = np.zeros(len(np.argwhere(x_turnON)))\n",
    "i = 0\n",
    "for n in np.argwhere(x_turnON):\n",
    "    labels1[i] = yagmur.label[n]\n",
    "    i+=1\n",
    "labels1\n",
    "y = labels1"
   ]
  },
  {
   "cell_type": "markdown",
   "metadata": {},
   "source": [
    "### Filter data and get the corr scores"
   ]
  },
  {
   "cell_type": "code",
   "execution_count": 23,
   "metadata": {},
   "outputs": [],
   "source": [
    "y_est = np.zeros_like(y)\n",
    "r = np.zeros([34, 3])\n",
    "for i in range(34):\n",
    "    X_input = np.squeeze(epochs[i,:,:])\n",
    "    r[i,:] = cca_corrs(X_input, 20, 15, 10, sampling_rate)\n",
    "    y_est[i] = np.argmax(r[i,:]) + 2\n",
    "    "
   ]
  },
  {
   "cell_type": "markdown",
   "metadata": {},
   "source": [
    "### Estimate the label from the scores\n",
    "Labels \n",
    "1 = empty 2 = 20 Hz 3 = 15 Hz 4 = 10 Hz"
   ]
  },
  {
   "cell_type": "code",
   "execution_count": 24,
   "metadata": {},
   "outputs": [
    {
     "data": {
      "text/plain": [
       "0.4117647058823529"
      ]
     },
     "execution_count": 24,
     "metadata": {},
     "output_type": "execute_result"
    }
   ],
   "source": [
    "np.sum((y-y_est)==0)/34"
   ]
  },
  {
   "cell_type": "code",
   "execution_count": 25,
   "metadata": {
    "scrolled": false
   },
   "outputs": [
    {
     "data": {
      "text/plain": [
       "0.5185185185185185"
      ]
     },
     "execution_count": 25,
     "metadata": {},
     "output_type": "execute_result"
    }
   ],
   "source": [
    "# simple estimation\n",
    "np.sum((y[y!=1]-y_est[y!=1]) == 0)/np.sum((y!=1)==True)"
   ]
  },
  {
   "cell_type": "code",
   "execution_count": 26,
   "metadata": {
    "scrolled": true
   },
   "outputs": [
    {
     "name": "stdout",
     "output_type": "stream",
     "text": [
      "[1. 2. 3. 4. 3. 2. 4. 1. 3. 2. 1. 4. 2. 4. 3. 1. 2. 3. 2. 2. 4. 1. 2. 4.\n",
      " 3. 1. 2. 1. 3. 4. 3. 2. 4. 3.]\n",
      "[2. 2. 3. 4. 3. 2. 4. 2. 2. 4. 4. 4. 2. 2. 4. 3. 2. 2. 3. 4. 4. 3. 4. 2.\n",
      " 4. 4. 2. 4. 3. 4. 2. 4. 4. 2.]\n"
     ]
    }
   ],
   "source": [
    "print(y)\n",
    "print(y_est)"
   ]
  },
  {
   "cell_type": "markdown",
   "metadata": {},
   "source": [
    "### Use a classifier fo estimating the scores"
   ]
  },
  {
   "cell_type": "code",
   "execution_count": 27,
   "metadata": {},
   "outputs": [
    {
     "data": {
      "text/plain": [
       "0.5294117647058824"
      ]
     },
     "execution_count": 27,
     "metadata": {},
     "output_type": "execute_result"
    }
   ],
   "source": [
    "classifier = LDA()\n",
    "classifier.fit(r,y)\n",
    "r_est = classifier.predict(r)\n",
    "np.sum((y-r_est)==0)/34"
   ]
  },
  {
   "cell_type": "code",
   "execution_count": 28,
   "metadata": {},
   "outputs": [
    {
     "data": {
      "text/plain": [
       "0.6666666666666666"
      ]
     },
     "execution_count": 28,
     "metadata": {},
     "output_type": "execute_result"
    }
   ],
   "source": [
    "#score without label 1\n",
    "np.sum((y[y!=1]-r_est[y!=1]) == 0)/np.sum((y!=1)==True)"
   ]
  },
  {
   "cell_type": "code",
   "execution_count": 29,
   "metadata": {
    "scrolled": true
   },
   "outputs": [
    {
     "name": "stdout",
     "output_type": "stream",
     "text": [
      "[1. 2. 3. 4. 3. 2. 4. 1. 3. 2. 1. 4. 2. 4. 3. 1. 2. 3. 2. 2. 4. 1. 2. 4.\n",
      " 3. 1. 2. 1. 3. 4. 3. 2. 4. 3.]\n",
      "[2. 2. 3. 3. 3. 2. 4. 2. 3. 2. 2. 4. 2. 2. 1. 3. 2. 2. 3. 2. 4. 3. 3. 4.\n",
      " 3. 2. 2. 4. 3. 2. 4. 2. 4. 2.]\n"
     ]
    }
   ],
   "source": [
    "print(y)\n",
    "print(r_est)"
   ]
  }
 ],
 "metadata": {
  "kernelspec": {
   "display_name": "Python 3",
   "language": "python",
   "name": "python3"
  },
  "language_info": {
   "codemirror_mode": {
    "name": "ipython",
    "version": 3
   },
   "file_extension": ".py",
   "mimetype": "text/x-python",
   "name": "python",
   "nbconvert_exporter": "python",
   "pygments_lexer": "ipython3",
   "version": "3.6.5"
  }
 },
 "nbformat": 4,
 "nbformat_minor": 2
}
