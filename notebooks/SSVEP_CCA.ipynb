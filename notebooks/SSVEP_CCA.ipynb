{
 "cells": [
  {
   "cell_type": "markdown",
   "metadata": {},
   "source": [
    "# CCA SSVEP dataset\n",
    "**labels:**\n",
    "    0 - no flickering\n",
    "    1 2 3 4 - for the boxes\n",
    "\n",
    "**id label alphabetical:**\n",
    "\n",
    "0 - alebs\n",
    "\n",
    "1 - barlo\n",
    "\n",
    "2 - yagmur"
   ]
  },
  {
   "cell_type": "code",
   "execution_count": 1,
   "metadata": {},
   "outputs": [],
   "source": [
    "import numpy as np\n",
    "import pandas as pd\n",
    "from glob import glob\n",
    "import matplotlib.pyplot as plt\n",
    "import seaborn as sns\n",
    "\n",
    "import scipy.fftpack\n",
    "from scipy import stats, integrate\n",
    "from scipy import signal\n",
    "from scipy.signal import butter, lfilter, filtfilt\n",
    "\n",
    "from sklearn.cross_decomposition import CCA\n",
    "from sklearn.feature_selection import chi2, mutual_info_classif, SelectKBest\n",
    "from sklearn.model_selection import train_test_split, cross_val_score\n",
    "\n",
    "%matplotlib inline"
   ]
  },
  {
   "cell_type": "markdown",
   "metadata": {},
   "source": [
    "## Load Data"
   ]
  },
  {
   "cell_type": "code",
   "execution_count": 2,
   "metadata": {},
   "outputs": [
    {
     "data": {
      "text/plain": [
       "['../data/raw/alebs-record.csv',\n",
       " '../data/raw/barlo-record.csv',\n",
       " '../data/raw/yagmur-record.csv']"
      ]
     },
     "execution_count": 2,
     "metadata": {},
     "output_type": "execute_result"
    }
   ],
   "source": [
    "# load and sort the paths\n",
    "path = '../data/raw/'\n",
    "sampling_rate = 128\n",
    "\n",
    "fnames = glob(path+'*.csv') # get paths and save them\n",
    "fnames.sort()\n",
    "fnames"
   ]
  },
  {
   "cell_type": "code",
   "execution_count": 3,
   "metadata": {},
   "outputs": [
    {
     "data": {
      "text/html": [
       "<div>\n",
       "<style scoped>\n",
       "    .dataframe tbody tr th:only-of-type {\n",
       "        vertical-align: middle;\n",
       "    }\n",
       "\n",
       "    .dataframe tbody tr th {\n",
       "        vertical-align: top;\n",
       "    }\n",
       "\n",
       "    .dataframe thead th {\n",
       "        text-align: right;\n",
       "    }\n",
       "</style>\n",
       "<table border=\"1\" class=\"dataframe\">\n",
       "  <thead>\n",
       "    <tr style=\"text-align: right;\">\n",
       "      <th></th>\n",
       "      <th>AF3</th>\n",
       "      <th>F7</th>\n",
       "      <th>F3</th>\n",
       "      <th>FC5</th>\n",
       "      <th>T7</th>\n",
       "      <th>P7</th>\n",
       "      <th>O1</th>\n",
       "      <th>O2</th>\n",
       "      <th>P8</th>\n",
       "      <th>T8</th>\n",
       "      <th>FC6</th>\n",
       "      <th>F4</th>\n",
       "      <th>F8</th>\n",
       "      <th>AF4</th>\n",
       "      <th>label</th>\n",
       "      <th>id</th>\n",
       "    </tr>\n",
       "  </thead>\n",
       "  <tbody>\n",
       "    <tr>\n",
       "      <th>66555</th>\n",
       "      <td>4039.9</td>\n",
       "      <td>4033.7</td>\n",
       "      <td>4141.5</td>\n",
       "      <td>4106.5</td>\n",
       "      <td>4103.2</td>\n",
       "      <td>4094.4</td>\n",
       "      <td>4122.8</td>\n",
       "      <td>4137.7</td>\n",
       "      <td>4138.7</td>\n",
       "      <td>4128.8</td>\n",
       "      <td>4123.6</td>\n",
       "      <td>4101.5</td>\n",
       "      <td>4093.6</td>\n",
       "      <td>4010.6</td>\n",
       "      <td>0</td>\n",
       "      <td>1</td>\n",
       "    </tr>\n",
       "    <tr>\n",
       "      <th>66556</th>\n",
       "      <td>4042.9</td>\n",
       "      <td>4030.0</td>\n",
       "      <td>4139.4</td>\n",
       "      <td>4111.2</td>\n",
       "      <td>4106.3</td>\n",
       "      <td>4094.2</td>\n",
       "      <td>4122.4</td>\n",
       "      <td>4135.1</td>\n",
       "      <td>4137.9</td>\n",
       "      <td>4128.3</td>\n",
       "      <td>4127.8</td>\n",
       "      <td>4102.4</td>\n",
       "      <td>4095.8</td>\n",
       "      <td>4012.8</td>\n",
       "      <td>0</td>\n",
       "      <td>1</td>\n",
       "    </tr>\n",
       "    <tr>\n",
       "      <th>66557</th>\n",
       "      <td>4081.3</td>\n",
       "      <td>4049.1</td>\n",
       "      <td>4147.9</td>\n",
       "      <td>4115.6</td>\n",
       "      <td>4108.6</td>\n",
       "      <td>4094.5</td>\n",
       "      <td>4124.6</td>\n",
       "      <td>4130.6</td>\n",
       "      <td>4126.3</td>\n",
       "      <td>4126.0</td>\n",
       "      <td>4131.2</td>\n",
       "      <td>4101.3</td>\n",
       "      <td>4093.7</td>\n",
       "      <td>4009.6</td>\n",
       "      <td>0</td>\n",
       "      <td>1</td>\n",
       "    </tr>\n",
       "    <tr>\n",
       "      <th>66558</th>\n",
       "      <td>4076.2</td>\n",
       "      <td>4047.7</td>\n",
       "      <td>4146.5</td>\n",
       "      <td>4115.0</td>\n",
       "      <td>4109.6</td>\n",
       "      <td>4099.6</td>\n",
       "      <td>4129.4</td>\n",
       "      <td>4133.3</td>\n",
       "      <td>4128.7</td>\n",
       "      <td>4131.0</td>\n",
       "      <td>4125.4</td>\n",
       "      <td>4100.1</td>\n",
       "      <td>4094.5</td>\n",
       "      <td>4007.1</td>\n",
       "      <td>0</td>\n",
       "      <td>1</td>\n",
       "    </tr>\n",
       "    <tr>\n",
       "      <th>66559</th>\n",
       "      <td>4041.0</td>\n",
       "      <td>4025.9</td>\n",
       "      <td>4136.3</td>\n",
       "      <td>4117.3</td>\n",
       "      <td>4114.1</td>\n",
       "      <td>4108.5</td>\n",
       "      <td>4136.5</td>\n",
       "      <td>4140.3</td>\n",
       "      <td>4144.4</td>\n",
       "      <td>4138.5</td>\n",
       "      <td>4121.4</td>\n",
       "      <td>4100.5</td>\n",
       "      <td>4095.8</td>\n",
       "      <td>3998.8</td>\n",
       "      <td>0</td>\n",
       "      <td>1</td>\n",
       "    </tr>\n",
       "  </tbody>\n",
       "</table>\n",
       "</div>"
      ],
      "text/plain": [
       "          AF3      F7      F3     FC5      T7      P7      O1      O2      P8  \\\n",
       "66555  4039.9  4033.7  4141.5  4106.5  4103.2  4094.4  4122.8  4137.7  4138.7   \n",
       "66556  4042.9  4030.0  4139.4  4111.2  4106.3  4094.2  4122.4  4135.1  4137.9   \n",
       "66557  4081.3  4049.1  4147.9  4115.6  4108.6  4094.5  4124.6  4130.6  4126.3   \n",
       "66558  4076.2  4047.7  4146.5  4115.0  4109.6  4099.6  4129.4  4133.3  4128.7   \n",
       "66559  4041.0  4025.9  4136.3  4117.3  4114.1  4108.5  4136.5  4140.3  4144.4   \n",
       "\n",
       "           T8     FC6      F4      F8     AF4  label  id  \n",
       "66555  4128.8  4123.6  4101.5  4093.6  4010.6      0   1  \n",
       "66556  4128.3  4127.8  4102.4  4095.8  4012.8      0   1  \n",
       "66557  4126.0  4131.2  4101.3  4093.7  4009.6      0   1  \n",
       "66558  4131.0  4125.4  4100.1  4094.5  4007.1      0   1  \n",
       "66559  4138.5  4121.4  4100.5  4095.8  3998.8      0   1  "
      ]
     },
     "execution_count": 3,
     "metadata": {},
     "output_type": "execute_result"
    }
   ],
   "source": [
    "electrodes_names = ['AF3', 'F7', 'F3', 'FC5', 'T7', 'P7', 'O1', 'O2', 'P8', 'T8', 'FC6', 'F4', 'F8', 'AF4', 'label']\n",
    "data = {}\n",
    "for i, name in enumerate(fnames):\n",
    "    data[i] = pd.read_csv(name, names=electrodes_names)\n",
    "    data[i]['id'] = i\n",
    "    \n",
    "data[1].tail()"
   ]
  },
  {
   "cell_type": "code",
   "execution_count": 4,
   "metadata": {},
   "outputs": [],
   "source": [
    "data_all = pd.DataFrame()\n",
    "\n",
    "for i in np.arange(0,3):\n",
    "    data_all = pd.concat([data_all, data[i]], axis=0, ignore_index=True)"
   ]
  },
  {
   "cell_type": "code",
   "execution_count": 5,
   "metadata": {},
   "outputs": [
    {
     "data": {
      "text/html": [
       "<div>\n",
       "<style scoped>\n",
       "    .dataframe tbody tr th:only-of-type {\n",
       "        vertical-align: middle;\n",
       "    }\n",
       "\n",
       "    .dataframe tbody tr th {\n",
       "        vertical-align: top;\n",
       "    }\n",
       "\n",
       "    .dataframe thead th {\n",
       "        text-align: right;\n",
       "    }\n",
       "</style>\n",
       "<table border=\"1\" class=\"dataframe\">\n",
       "  <thead>\n",
       "    <tr style=\"text-align: right;\">\n",
       "      <th></th>\n",
       "      <th>AF3</th>\n",
       "      <th>F7</th>\n",
       "      <th>F3</th>\n",
       "      <th>FC5</th>\n",
       "      <th>T7</th>\n",
       "      <th>P7</th>\n",
       "      <th>O1</th>\n",
       "      <th>O2</th>\n",
       "      <th>P8</th>\n",
       "      <th>T8</th>\n",
       "      <th>FC6</th>\n",
       "      <th>F4</th>\n",
       "      <th>F8</th>\n",
       "      <th>AF4</th>\n",
       "      <th>label</th>\n",
       "      <th>id</th>\n",
       "    </tr>\n",
       "  </thead>\n",
       "  <tbody>\n",
       "    <tr>\n",
       "      <th>0</th>\n",
       "      <td>4252.3</td>\n",
       "      <td>4147.3</td>\n",
       "      <td>4141.2</td>\n",
       "      <td>4156.5</td>\n",
       "      <td>4167.7</td>\n",
       "      <td>4112.9</td>\n",
       "      <td>4119.7</td>\n",
       "      <td>4073.1</td>\n",
       "      <td>4121.3</td>\n",
       "      <td>4075.6</td>\n",
       "      <td>4141.3</td>\n",
       "      <td>4091.9</td>\n",
       "      <td>4102.9</td>\n",
       "      <td>4190.6</td>\n",
       "      <td>0</td>\n",
       "      <td>1</td>\n",
       "    </tr>\n",
       "    <tr>\n",
       "      <th>1</th>\n",
       "      <td>4264.1</td>\n",
       "      <td>4155.4</td>\n",
       "      <td>4137.4</td>\n",
       "      <td>4150.1</td>\n",
       "      <td>4159.7</td>\n",
       "      <td>4114.4</td>\n",
       "      <td>4118.1</td>\n",
       "      <td>4070.8</td>\n",
       "      <td>4118.2</td>\n",
       "      <td>4090.5</td>\n",
       "      <td>4138.1</td>\n",
       "      <td>4085.3</td>\n",
       "      <td>4113.1</td>\n",
       "      <td>4193.5</td>\n",
       "      <td>0</td>\n",
       "      <td>1</td>\n",
       "    </tr>\n",
       "    <tr>\n",
       "      <th>2</th>\n",
       "      <td>4257.1</td>\n",
       "      <td>4151.3</td>\n",
       "      <td>4133.8</td>\n",
       "      <td>4141.7</td>\n",
       "      <td>4161.0</td>\n",
       "      <td>4112.4</td>\n",
       "      <td>4113.8</td>\n",
       "      <td>4071.4</td>\n",
       "      <td>4113.5</td>\n",
       "      <td>4078.8</td>\n",
       "      <td>4133.7</td>\n",
       "      <td>4082.9</td>\n",
       "      <td>4108.7</td>\n",
       "      <td>4186.0</td>\n",
       "      <td>0</td>\n",
       "      <td>1</td>\n",
       "    </tr>\n",
       "    <tr>\n",
       "      <th>3</th>\n",
       "      <td>4230.4</td>\n",
       "      <td>4139.0</td>\n",
       "      <td>4132.3</td>\n",
       "      <td>4145.3</td>\n",
       "      <td>4174.7</td>\n",
       "      <td>4109.9</td>\n",
       "      <td>4115.1</td>\n",
       "      <td>4080.0</td>\n",
       "      <td>4111.8</td>\n",
       "      <td>4050.5</td>\n",
       "      <td>4135.8</td>\n",
       "      <td>4087.1</td>\n",
       "      <td>4090.5</td>\n",
       "      <td>4172.2</td>\n",
       "      <td>0</td>\n",
       "      <td>1</td>\n",
       "    </tr>\n",
       "    <tr>\n",
       "      <th>4</th>\n",
       "      <td>16914.0</td>\n",
       "      <td>16563.0</td>\n",
       "      <td>16537.0</td>\n",
       "      <td>16589.0</td>\n",
       "      <td>16692.0</td>\n",
       "      <td>16453.0</td>\n",
       "      <td>16483.0</td>\n",
       "      <td>16328.0</td>\n",
       "      <td>16473.0</td>\n",
       "      <td>16244.0</td>\n",
       "      <td>16548.0</td>\n",
       "      <td>16348.0</td>\n",
       "      <td>16376.0</td>\n",
       "      <td>16688.0</td>\n",
       "      <td>0</td>\n",
       "      <td>1</td>\n",
       "    </tr>\n",
       "  </tbody>\n",
       "</table>\n",
       "</div>"
      ],
      "text/plain": [
       "       AF3       F7       F3      FC5       T7       P7       O1       O2  \\\n",
       "0   4252.3   4147.3   4141.2   4156.5   4167.7   4112.9   4119.7   4073.1   \n",
       "1   4264.1   4155.4   4137.4   4150.1   4159.7   4114.4   4118.1   4070.8   \n",
       "2   4257.1   4151.3   4133.8   4141.7   4161.0   4112.4   4113.8   4071.4   \n",
       "3   4230.4   4139.0   4132.3   4145.3   4174.7   4109.9   4115.1   4080.0   \n",
       "4  16914.0  16563.0  16537.0  16589.0  16692.0  16453.0  16483.0  16328.0   \n",
       "\n",
       "        P8       T8      FC6       F4       F8      AF4  label  id  \n",
       "0   4121.3   4075.6   4141.3   4091.9   4102.9   4190.6      0   1  \n",
       "1   4118.2   4090.5   4138.1   4085.3   4113.1   4193.5      0   1  \n",
       "2   4113.5   4078.8   4133.7   4082.9   4108.7   4186.0      0   1  \n",
       "3   4111.8   4050.5   4135.8   4087.1   4090.5   4172.2      0   1  \n",
       "4  16473.0  16244.0  16548.0  16348.0  16376.0  16688.0      0   1  "
      ]
     },
     "execution_count": 5,
     "metadata": {},
     "output_type": "execute_result"
    }
   ],
   "source": [
    "carlo = data[1]\n",
    "carlo.head()"
   ]
  },
  {
   "cell_type": "code",
   "execution_count": 6,
   "metadata": {},
   "outputs": [
    {
     "data": {
      "text/html": [
       "<div>\n",
       "<style scoped>\n",
       "    .dataframe tbody tr th:only-of-type {\n",
       "        vertical-align: middle;\n",
       "    }\n",
       "\n",
       "    .dataframe tbody tr th {\n",
       "        vertical-align: top;\n",
       "    }\n",
       "\n",
       "    .dataframe thead th {\n",
       "        text-align: right;\n",
       "    }\n",
       "</style>\n",
       "<table border=\"1\" class=\"dataframe\">\n",
       "  <thead>\n",
       "    <tr style=\"text-align: right;\">\n",
       "      <th></th>\n",
       "      <th>AF3</th>\n",
       "      <th>F7</th>\n",
       "      <th>F3</th>\n",
       "      <th>FC5</th>\n",
       "      <th>T7</th>\n",
       "      <th>P7</th>\n",
       "      <th>O1</th>\n",
       "      <th>O2</th>\n",
       "      <th>P8</th>\n",
       "      <th>T8</th>\n",
       "      <th>FC6</th>\n",
       "      <th>F4</th>\n",
       "      <th>F8</th>\n",
       "      <th>AF4</th>\n",
       "      <th>label</th>\n",
       "      <th>id</th>\n",
       "    </tr>\n",
       "  </thead>\n",
       "  <tbody>\n",
       "    <tr>\n",
       "      <th>0</th>\n",
       "      <td>4094.2</td>\n",
       "      <td>4093.8</td>\n",
       "      <td>4087.6</td>\n",
       "      <td>4114.6</td>\n",
       "      <td>4096.5</td>\n",
       "      <td>4099.0</td>\n",
       "      <td>4091.3</td>\n",
       "      <td>4092.2</td>\n",
       "      <td>4100.3</td>\n",
       "      <td>4125.3</td>\n",
       "      <td>4121.3</td>\n",
       "      <td>4080.4</td>\n",
       "      <td>4102.3</td>\n",
       "      <td>4093.2</td>\n",
       "      <td>0</td>\n",
       "      <td>0</td>\n",
       "    </tr>\n",
       "    <tr>\n",
       "      <th>1</th>\n",
       "      <td>4103.7</td>\n",
       "      <td>4108.2</td>\n",
       "      <td>4092.8</td>\n",
       "      <td>4115.4</td>\n",
       "      <td>4108.5</td>\n",
       "      <td>4105.0</td>\n",
       "      <td>4094.4</td>\n",
       "      <td>4102.8</td>\n",
       "      <td>4101.0</td>\n",
       "      <td>4122.8</td>\n",
       "      <td>4117.1</td>\n",
       "      <td>4091.0</td>\n",
       "      <td>4106.4</td>\n",
       "      <td>4096.5</td>\n",
       "      <td>0</td>\n",
       "      <td>0</td>\n",
       "    </tr>\n",
       "    <tr>\n",
       "      <th>2</th>\n",
       "      <td>4109.7</td>\n",
       "      <td>4113.1</td>\n",
       "      <td>4098.2</td>\n",
       "      <td>4119.1</td>\n",
       "      <td>4110.0</td>\n",
       "      <td>4111.5</td>\n",
       "      <td>4101.4</td>\n",
       "      <td>4110.1</td>\n",
       "      <td>4106.3</td>\n",
       "      <td>4133.6</td>\n",
       "      <td>4120.3</td>\n",
       "      <td>4098.7</td>\n",
       "      <td>4109.1</td>\n",
       "      <td>4102.8</td>\n",
       "      <td>0</td>\n",
       "      <td>0</td>\n",
       "    </tr>\n",
       "    <tr>\n",
       "      <th>3</th>\n",
       "      <td>4109.7</td>\n",
       "      <td>4115.9</td>\n",
       "      <td>4100.4</td>\n",
       "      <td>4125.9</td>\n",
       "      <td>4119.9</td>\n",
       "      <td>4107.9</td>\n",
       "      <td>4104.2</td>\n",
       "      <td>4103.8</td>\n",
       "      <td>4101.4</td>\n",
       "      <td>4140.5</td>\n",
       "      <td>4131.4</td>\n",
       "      <td>4097.6</td>\n",
       "      <td>4111.4</td>\n",
       "      <td>4106.3</td>\n",
       "      <td>0</td>\n",
       "      <td>0</td>\n",
       "    </tr>\n",
       "    <tr>\n",
       "      <th>4</th>\n",
       "      <td>4101.2</td>\n",
       "      <td>4112.3</td>\n",
       "      <td>4094.7</td>\n",
       "      <td>4124.5</td>\n",
       "      <td>4121.0</td>\n",
       "      <td>4100.3</td>\n",
       "      <td>4098.8</td>\n",
       "      <td>4092.8</td>\n",
       "      <td>4092.4</td>\n",
       "      <td>4131.2</td>\n",
       "      <td>4129.0</td>\n",
       "      <td>4086.3</td>\n",
       "      <td>4107.6</td>\n",
       "      <td>4098.2</td>\n",
       "      <td>0</td>\n",
       "      <td>0</td>\n",
       "    </tr>\n",
       "  </tbody>\n",
       "</table>\n",
       "</div>"
      ],
      "text/plain": [
       "      AF3      F7      F3     FC5      T7      P7      O1      O2      P8  \\\n",
       "0  4094.2  4093.8  4087.6  4114.6  4096.5  4099.0  4091.3  4092.2  4100.3   \n",
       "1  4103.7  4108.2  4092.8  4115.4  4108.5  4105.0  4094.4  4102.8  4101.0   \n",
       "2  4109.7  4113.1  4098.2  4119.1  4110.0  4111.5  4101.4  4110.1  4106.3   \n",
       "3  4109.7  4115.9  4100.4  4125.9  4119.9  4107.9  4104.2  4103.8  4101.4   \n",
       "4  4101.2  4112.3  4094.7  4124.5  4121.0  4100.3  4098.8  4092.8  4092.4   \n",
       "\n",
       "       T8     FC6      F4      F8     AF4  label  id  \n",
       "0  4125.3  4121.3  4080.4  4102.3  4093.2      0   0  \n",
       "1  4122.8  4117.1  4091.0  4106.4  4096.5      0   0  \n",
       "2  4133.6  4120.3  4098.7  4109.1  4102.8      0   0  \n",
       "3  4140.5  4131.4  4097.6  4111.4  4106.3      0   0  \n",
       "4  4131.2  4129.0  4086.3  4107.6  4098.2      0   0  "
      ]
     },
     "execution_count": 6,
     "metadata": {},
     "output_type": "execute_result"
    }
   ],
   "source": [
    "aleks = data[0]\n",
    "aleks.head()"
   ]
  },
  {
   "cell_type": "code",
   "execution_count": 7,
   "metadata": {},
   "outputs": [
    {
     "data": {
      "text/html": [
       "<div>\n",
       "<style scoped>\n",
       "    .dataframe tbody tr th:only-of-type {\n",
       "        vertical-align: middle;\n",
       "    }\n",
       "\n",
       "    .dataframe tbody tr th {\n",
       "        vertical-align: top;\n",
       "    }\n",
       "\n",
       "    .dataframe thead th {\n",
       "        text-align: right;\n",
       "    }\n",
       "</style>\n",
       "<table border=\"1\" class=\"dataframe\">\n",
       "  <thead>\n",
       "    <tr style=\"text-align: right;\">\n",
       "      <th></th>\n",
       "      <th>AF3</th>\n",
       "      <th>F7</th>\n",
       "      <th>F3</th>\n",
       "      <th>FC5</th>\n",
       "      <th>T7</th>\n",
       "      <th>P7</th>\n",
       "      <th>O1</th>\n",
       "      <th>O2</th>\n",
       "      <th>P8</th>\n",
       "      <th>T8</th>\n",
       "      <th>FC6</th>\n",
       "      <th>F4</th>\n",
       "      <th>F8</th>\n",
       "      <th>AF4</th>\n",
       "      <th>label</th>\n",
       "      <th>id</th>\n",
       "    </tr>\n",
       "  </thead>\n",
       "  <tbody>\n",
       "    <tr>\n",
       "      <th>0</th>\n",
       "      <td>4119.7</td>\n",
       "      <td>4119.0</td>\n",
       "      <td>4165.4</td>\n",
       "      <td>4130.6</td>\n",
       "      <td>4119.0</td>\n",
       "      <td>4108.2</td>\n",
       "      <td>4065.0</td>\n",
       "      <td>4070.3</td>\n",
       "      <td>4103.7</td>\n",
       "      <td>4110.3</td>\n",
       "      <td>4128.6</td>\n",
       "      <td>4095.1</td>\n",
       "      <td>4121.2</td>\n",
       "      <td>4132.9</td>\n",
       "      <td>0</td>\n",
       "      <td>2</td>\n",
       "    </tr>\n",
       "    <tr>\n",
       "      <th>1</th>\n",
       "      <td>4121.5</td>\n",
       "      <td>4120.6</td>\n",
       "      <td>4167.8</td>\n",
       "      <td>4133.7</td>\n",
       "      <td>4118.3</td>\n",
       "      <td>4109.2</td>\n",
       "      <td>4065.8</td>\n",
       "      <td>4070.0</td>\n",
       "      <td>4106.3</td>\n",
       "      <td>4113.6</td>\n",
       "      <td>4133.6</td>\n",
       "      <td>4093.7</td>\n",
       "      <td>4127.4</td>\n",
       "      <td>4135.4</td>\n",
       "      <td>0</td>\n",
       "      <td>2</td>\n",
       "    </tr>\n",
       "    <tr>\n",
       "      <th>2</th>\n",
       "      <td>4121.2</td>\n",
       "      <td>4117.9</td>\n",
       "      <td>4170.3</td>\n",
       "      <td>4131.7</td>\n",
       "      <td>4121.7</td>\n",
       "      <td>4112.4</td>\n",
       "      <td>4066.0</td>\n",
       "      <td>4065.5</td>\n",
       "      <td>4104.5</td>\n",
       "      <td>4113.1</td>\n",
       "      <td>4133.6</td>\n",
       "      <td>4087.8</td>\n",
       "      <td>4120.9</td>\n",
       "      <td>4129.0</td>\n",
       "      <td>0</td>\n",
       "      <td>2</td>\n",
       "    </tr>\n",
       "    <tr>\n",
       "      <th>3</th>\n",
       "      <td>4120.4</td>\n",
       "      <td>4116.8</td>\n",
       "      <td>4169.4</td>\n",
       "      <td>4129.6</td>\n",
       "      <td>4125.5</td>\n",
       "      <td>4114.5</td>\n",
       "      <td>4066.8</td>\n",
       "      <td>4064.6</td>\n",
       "      <td>4101.7</td>\n",
       "      <td>4108.8</td>\n",
       "      <td>4129.9</td>\n",
       "      <td>4086.7</td>\n",
       "      <td>4113.7</td>\n",
       "      <td>4125.4</td>\n",
       "      <td>0</td>\n",
       "      <td>2</td>\n",
       "    </tr>\n",
       "    <tr>\n",
       "      <th>4</th>\n",
       "      <td>4114.7</td>\n",
       "      <td>4116.4</td>\n",
       "      <td>4165.8</td>\n",
       "      <td>4128.5</td>\n",
       "      <td>4124.1</td>\n",
       "      <td>4112.7</td>\n",
       "      <td>4069.7</td>\n",
       "      <td>4065.5</td>\n",
       "      <td>4101.3</td>\n",
       "      <td>4094.9</td>\n",
       "      <td>4120.6</td>\n",
       "      <td>4089.0</td>\n",
       "      <td>4107.1</td>\n",
       "      <td>4127.7</td>\n",
       "      <td>0</td>\n",
       "      <td>2</td>\n",
       "    </tr>\n",
       "  </tbody>\n",
       "</table>\n",
       "</div>"
      ],
      "text/plain": [
       "      AF3      F7      F3     FC5      T7      P7      O1      O2      P8  \\\n",
       "0  4119.7  4119.0  4165.4  4130.6  4119.0  4108.2  4065.0  4070.3  4103.7   \n",
       "1  4121.5  4120.6  4167.8  4133.7  4118.3  4109.2  4065.8  4070.0  4106.3   \n",
       "2  4121.2  4117.9  4170.3  4131.7  4121.7  4112.4  4066.0  4065.5  4104.5   \n",
       "3  4120.4  4116.8  4169.4  4129.6  4125.5  4114.5  4066.8  4064.6  4101.7   \n",
       "4  4114.7  4116.4  4165.8  4128.5  4124.1  4112.7  4069.7  4065.5  4101.3   \n",
       "\n",
       "       T8     FC6      F4      F8     AF4  label  id  \n",
       "0  4110.3  4128.6  4095.1  4121.2  4132.9      0   2  \n",
       "1  4113.6  4133.6  4093.7  4127.4  4135.4      0   2  \n",
       "2  4113.1  4133.6  4087.8  4120.9  4129.0      0   2  \n",
       "3  4108.8  4129.9  4086.7  4113.7  4125.4      0   2  \n",
       "4  4094.9  4120.6  4089.0  4107.1  4127.7      0   2  "
      ]
     },
     "execution_count": 7,
     "metadata": {},
     "output_type": "execute_result"
    }
   ],
   "source": [
    "yagmur = data[2]\n",
    "yagmur.head()"
   ]
  },
  {
   "cell_type": "markdown",
   "metadata": {},
   "source": [
    "## Applying Bandpass Filter on One Channel"
   ]
  },
  {
   "cell_type": "code",
   "execution_count": 8,
   "metadata": {},
   "outputs": [],
   "source": [
    "def butter_bandpass(lowcut, highcut, fs, order=5):\n",
    "    nyq = 0.5 * fs\n",
    "    low = lowcut / nyq\n",
    "    high = highcut / nyq\n",
    "    b, a = butter(order, [low, high], btype='band')\n",
    "    return b, a\n",
    "\n",
    "def butter_bandpass_filtfilt(data, lowcut, highcut, fs, order=5):\n",
    "    b, a = butter_bandpass(lowcut, highcut, fs, order=order)\n",
    "    y = lfilter(b, a, data)\n",
    "    return filtfilt(b, a, data) \n",
    "\n",
    "def butter_bandpass_filter(data, lowcut, highcut, fs, order=5):\n",
    "    b, a = butter_bandpass(lowcut, highcut, fs, order=order)\n",
    "    y = lfilter(b, a, data)\n",
    "    return y"
   ]
  },
  {
   "cell_type": "code",
   "execution_count": 9,
   "metadata": {},
   "outputs": [
    {
     "data": {
      "text/html": [
       "<div>\n",
       "<style scoped>\n",
       "    .dataframe tbody tr th:only-of-type {\n",
       "        vertical-align: middle;\n",
       "    }\n",
       "\n",
       "    .dataframe tbody tr th {\n",
       "        vertical-align: top;\n",
       "    }\n",
       "\n",
       "    .dataframe thead th {\n",
       "        text-align: right;\n",
       "    }\n",
       "</style>\n",
       "<table border=\"1\" class=\"dataframe\">\n",
       "  <thead>\n",
       "    <tr style=\"text-align: right;\">\n",
       "      <th></th>\n",
       "      <th>AF3</th>\n",
       "      <th>F7</th>\n",
       "      <th>F3</th>\n",
       "      <th>FC5</th>\n",
       "      <th>T7</th>\n",
       "      <th>P7</th>\n",
       "      <th>O1</th>\n",
       "      <th>O2</th>\n",
       "      <th>P8</th>\n",
       "      <th>T8</th>\n",
       "      <th>FC6</th>\n",
       "      <th>F4</th>\n",
       "      <th>F8</th>\n",
       "      <th>AF4</th>\n",
       "      <th>label</th>\n",
       "      <th>id</th>\n",
       "    </tr>\n",
       "  </thead>\n",
       "  <tbody>\n",
       "    <tr>\n",
       "      <th>0</th>\n",
       "      <td>-0.032917</td>\n",
       "      <td>-0.276103</td>\n",
       "      <td>-0.149065</td>\n",
       "      <td>-0.191444</td>\n",
       "      <td>-0.026604</td>\n",
       "      <td>0.023752</td>\n",
       "      <td>0.046509</td>\n",
       "      <td>-0.066422</td>\n",
       "      <td>-0.008674</td>\n",
       "      <td>-0.208008</td>\n",
       "      <td>-0.276512</td>\n",
       "      <td>-0.034219</td>\n",
       "      <td>-0.292308</td>\n",
       "      <td>-0.070883</td>\n",
       "      <td>0</td>\n",
       "      <td>2</td>\n",
       "    </tr>\n",
       "    <tr>\n",
       "      <th>1</th>\n",
       "      <td>2.724597</td>\n",
       "      <td>-1.766761</td>\n",
       "      <td>2.046240</td>\n",
       "      <td>-0.504359</td>\n",
       "      <td>-2.723766</td>\n",
       "      <td>-1.003505</td>\n",
       "      <td>-1.679373</td>\n",
       "      <td>0.113214</td>\n",
       "      <td>0.907192</td>\n",
       "      <td>4.320642</td>\n",
       "      <td>4.710785</td>\n",
       "      <td>-2.531374</td>\n",
       "      <td>4.398377</td>\n",
       "      <td>-0.588177</td>\n",
       "      <td>0</td>\n",
       "      <td>2</td>\n",
       "    </tr>\n",
       "  </tbody>\n",
       "</table>\n",
       "</div>"
      ],
      "text/plain": [
       "        AF3        F7        F3       FC5        T7        P7        O1  \\\n",
       "0 -0.032917 -0.276103 -0.149065 -0.191444 -0.026604  0.023752  0.046509   \n",
       "1  2.724597 -1.766761  2.046240 -0.504359 -2.723766 -1.003505 -1.679373   \n",
       "\n",
       "         O2        P8        T8       FC6        F4        F8       AF4  \\\n",
       "0 -0.066422 -0.008674 -0.208008 -0.276512 -0.034219 -0.292308 -0.070883   \n",
       "1  0.113214  0.907192  4.320642  4.710785 -2.531374  4.398377 -0.588177   \n",
       "\n",
       "   label  id  \n",
       "0      0   2  \n",
       "1      0   2  "
      ]
     },
     "execution_count": 9,
     "metadata": {},
     "output_type": "execute_result"
    }
   ],
   "source": [
    "yagmur_filt = pd.DataFrame()\n",
    "\n",
    "for col in yagmur.columns.tolist():\n",
    "    yagmur_filt[col] = butter_bandpass_filtfilt( yagmur[col], 5, 30, sampling_rate)\n",
    "\n",
    "yagmur_filt.label = yagmur.label\n",
    "yagmur_filt.id = yagmur.id\n",
    "\n",
    "yagmur_filt.head(2)\n"
   ]
  },
  {
   "cell_type": "code",
   "execution_count": 10,
   "metadata": {},
   "outputs": [
    {
     "data": {
      "text/plain": [
       "[<matplotlib.lines.Line2D at 0x7fa8a65c25f8>]"
      ]
     },
     "execution_count": 10,
     "metadata": {},
     "output_type": "execute_result"
    },
    {
     "data": {
      "image/png": "[encoded data removed]",
      "text/plain": [
       "<Figure size 432x288 with 1 Axes>"
      ]
     },
     "metadata": {},
     "output_type": "display_data"
    }
   ],
   "source": [
    "plt.plot(yagmur_filt.AF3[1000:2000])"
   ]
  },
  {
   "cell_type": "code",
   "execution_count": 11,
   "metadata": {},
   "outputs": [
    {
     "data": {
      "text/plain": [
       "[<matplotlib.lines.Line2D at 0x7fa8a66d0278>]"
      ]
     },
     "execution_count": 11,
     "metadata": {},
     "output_type": "execute_result"
    },
    {
     "data": {
      "image/png": "[encoded data removed]",
      "text/plain": [
       "<Figure size 432x288 with 1 Axes>"
      ]
     },
     "metadata": {},
     "output_type": "display_data"
    }
   ],
   "source": [
    "plt.plot(yagmur.AF3[1000:2000])"
   ]
  },
  {
   "cell_type": "markdown",
   "metadata": {},
   "source": [
    "## Epochs"
   ]
  },
  {
   "cell_type": "code",
   "execution_count": 12,
   "metadata": {},
   "outputs": [
    {
     "data": {
      "text/plain": [
       "[<matplotlib.lines.Line2D at 0x7fa8a66b20b8>]"
      ]
     },
     "execution_count": 12,
     "metadata": {},
     "output_type": "execute_result"
    },
    {
     "data": {
      "image/png": "[encoded data removed]",
      "text/plain": [
       "<Figure size 432x288 with 1 Axes>"
      ]
     },
     "metadata": {},
     "output_type": "display_data"
    }
   ],
   "source": [
    "plt.plot(yagmur.label)"
   ]
  },
  {
   "cell_type": "markdown",
   "metadata": {},
   "source": [
    "### Get Points Needed For Epochs"
   ]
  },
  {
   "cell_type": "code",
   "execution_count": 13,
   "metadata": {},
   "outputs": [
    {
     "data": {
      "image/png": "[encoded data removed]",
      "text/plain": [
       "<Figure size 432x288 with 1 Axes>"
      ]
     },
     "metadata": {},
     "output_type": "display_data"
    }
   ],
   "source": [
    "threshold = 0.5\n",
    "\n",
    "idxOFF = np.argwhere(yagmur.label < threshold)\n",
    "idxON = np.argwhere(yagmur.label > threshold)\n",
    "\n",
    "\n",
    "x_alwaysON = np.zeros(len(yagmur.index))\n",
    "x_alwaysON[idxON] = 1\n",
    "\n",
    "x_turnON = np.roll(x_alwaysON, 1)\n",
    "x_turnON = x_alwaysON - x_turnON\n",
    "x_turnON = np.where(x_turnON > 0, x_turnON, 0)\n",
    "\n",
    "plt.plot(x_alwaysON)\n",
    "plt.plot(x_turnON)\n",
    "plt.show()"
   ]
  },
  {
   "cell_type": "markdown",
   "metadata": {},
   "source": [
    "### Pick Only Needed Electrodes"
   ]
  },
  {
   "cell_type": "code",
   "execution_count": 14,
   "metadata": {},
   "outputs": [
    {
     "data": {
      "text/plain": [
       "(67200, 6)"
      ]
     },
     "execution_count": 14,
     "metadata": {},
     "output_type": "execute_result"
    }
   ],
   "source": [
    "picked_electrodes = {'AF3', 'F3', 'AF4', 'F4', 'F7', 'F8'}\n",
    "\n",
    "data_electr_filt = np.zeros((yagmur_filt.shape[0], len(picked_electrodes)))\n",
    "\n",
    "\n",
    "for n, elec in enumerate(picked_electrodes):\n",
    "    data_electr_filt[:,n] = yagmur_filt[elec]\n",
    "\n",
    "data_electr_filt.shape"
   ]
  },
  {
   "cell_type": "markdown",
   "metadata": {},
   "source": [
    "### Epoching over all data\n",
    "epochs = num trials x num data points x num electrodes\n",
    "epochs concat = trials\\*electrodes x data points"
   ]
  },
  {
   "cell_type": "code",
   "execution_count": 15,
   "metadata": {},
   "outputs": [],
   "source": [
    "N_epoch = 700\n",
    "epochs = np.zeros((len( np.argwhere(x_turnON) ),N_epoch, len(picked_electrodes))) #34x700x4 \n",
    "\n",
    "for n, i in enumerate(np.argwhere(x_turnON)):  \n",
    "    epochs[n,:,:] = data_electr_filt[i[0]+400:i[0]+400+N_epoch,:]\n",
    "    "
   ]
  },
  {
   "cell_type": "code",
   "execution_count": 16,
   "metadata": {},
   "outputs": [
    {
     "data": {
      "text/plain": [
       "(34, 700, 6)"
      ]
     },
     "execution_count": 16,
     "metadata": {},
     "output_type": "execute_result"
    }
   ],
   "source": [
    "epochs.shape"
   ]
  },
  {
   "cell_type": "markdown",
   "metadata": {},
   "source": [
    "## Wavelet Transform Attempt"
   ]
  },
  {
   "cell_type": "code",
   "execution_count": 17,
   "metadata": {},
   "outputs": [
    {
     "data": {
      "image/png": "[encoded data removed]",
      "text/plain": [
       "<Figure size 432x288 with 1 Axes>"
      ]
     },
     "metadata": {},
     "output_type": "display_data"
    }
   ],
   "source": [
    "t = np.linspace(-1, 1, 200, endpoint=False)\n",
    "sig  = np.cos(2 * np.pi * 7 * t) + signal.gausspulse(t - 0.4, fc=2)\n",
    "widths = np.arange(1, 31)\n",
    "cwtmatr = signal.cwt(sig, signal.ricker, widths)\n",
    "plt.imshow(cwtmatr, extent=[-1, 1, 1, 31], cmap='PRGn', aspect='auto',\n",
    "         vmax=abs(cwtmatr).max(), vmin=-abs(cwtmatr).max())\n",
    "plt.show()"
   ]
  },
  {
   "cell_type": "markdown",
   "metadata": {},
   "source": [
    "#  Canonical Correlation Analysis (CCA) \n",
    "Canonical correlation analysis is a method for exploring the relationships between two multivariate sets of variables (vectors), all measured on the same individual.\n",
    "    so one of the vectors: our electodes \n",
    "    second vector: the sinusoids of the same frequency"
   ]
  },
  {
   "cell_type": "markdown",
   "metadata": {},
   "source": [
    "### Defining the sinusoids vectors"
   ]
  },
  {
   "cell_type": "code",
   "execution_count": 18,
   "metadata": {},
   "outputs": [
    {
     "data": {
      "text/plain": [
       "(700, 3)"
      ]
     },
     "execution_count": 18,
     "metadata": {},
     "output_type": "execute_result"
    }
   ],
   "source": [
    "num_samples = 700\n",
    "sampling_rate = 128\n",
    "time = np.arange(0,(num_samples)/sampling_rate, 1/sampling_rate)\n",
    "\n",
    "# base_sin =  np.sin(2*np.pi*time*freq)\n",
    "base_sin10 =  np.sin(2*np.pi*time*10)\n",
    "base_sin15 =  np.sin(2*np.pi*time*15)\n",
    "base_sin20 =  np.sin(2*np.pi*time*20)\n",
    "\n",
    "sin_matrix = np.array([base_sin20, base_sin15, base_sin10]).T\n",
    "np.shape(sin_matrix)"
   ]
  },
  {
   "cell_type": "markdown",
   "metadata": {},
   "source": [
    "### Taking one epoch with 6 electrodes to correlate"
   ]
  },
  {
   "cell_type": "code",
   "execution_count": 19,
   "metadata": {},
   "outputs": [
    {
     "data": {
      "text/plain": [
       "(700, 3)"
      ]
     },
     "execution_count": 19,
     "metadata": {},
     "output_type": "execute_result"
    }
   ],
   "source": [
    "\n",
    "X = np.stack(((epochs[0,:,0], epochs[1,:,1], epochs[2,:,2]))).T\n",
    "np.shape(X)"
   ]
  },
  {
   "cell_type": "code",
   "execution_count": 20,
   "metadata": {},
   "outputs": [],
   "source": [
    "Y = sin_matrix"
   ]
  },
  {
   "cell_type": "markdown",
   "metadata": {},
   "source": [
    "### CCA of 3 electrodes"
   ]
  },
  {
   "cell_type": "code",
   "execution_count": 21,
   "metadata": {},
   "outputs": [
    {
     "name": "stdout",
     "output_type": "stream",
     "text": [
      "(700, 3)\n",
      "(700, 3)\n"
     ]
    }
   ],
   "source": [
    "## CCA\n",
    "n_components = 3\n",
    "cca = CCA(n_components)\n",
    "cca.fit(X, Y)\n",
    "U, V = cca.transform(X, Y)\n",
    "print(np.shape(U))\n",
    "print(np.shape(V))"
   ]
  },
  {
   "cell_type": "code",
   "execution_count": 22,
   "metadata": {},
   "outputs": [
    {
     "data": {
      "image/png": "[encoded data removed]",
      "text/plain": [
       "<Figure size 432x288 with 1 Axes>"
      ]
     },
     "metadata": {},
     "output_type": "display_data"
    }
   ],
   "source": [
    "plt.scatter(X,Y,s=.5);"
   ]
  },
  {
   "cell_type": "code",
   "execution_count": 23,
   "metadata": {},
   "outputs": [
    {
     "data": {
      "image/png": "[encoded data removed]",
      "text/plain": [
       "<Figure size 432x288 with 1 Axes>"
      ]
     },
     "metadata": {},
     "output_type": "display_data"
    }
   ],
   "source": [
    "plt.scatter(U,V,s=.5);"
   ]
  }
 ],
 "metadata": {
  "kernelspec": {
   "display_name": "Python 3",
   "language": "python",
   "name": "python3"
  },
  "language_info": {
   "codemirror_mode": {
    "name": "ipython",
    "version": 3
   },
   "file_extension": ".py",
   "mimetype": "text/x-python",
   "name": "python",
   "nbconvert_exporter": "python",
   "pygments_lexer": "ipython3",
   "version": "3.6.5"
  }
 },
 "nbformat": 4,
 "nbformat_minor": 2
}
