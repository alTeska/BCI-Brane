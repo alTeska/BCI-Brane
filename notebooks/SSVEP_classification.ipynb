{
 "cells": [
  {
   "cell_type": "markdown",
   "metadata": {},
   "source": [
    "# First SSVEP dataset\n",
    "\n",
    "\n",
    "**labels:**\n",
    "\n",
    "0 - no flickering\n",
    "\n",
    "1 2 3 4 - for the boxes\n",
    "\n",
    "\n",
    "**id label alphabetical:**\n",
    "\n",
    "0 - alebs\n",
    "\n",
    "1 - barlo\n",
    "\n",
    "2 - yagmur"
   ]
  },
  {
   "cell_type": "code",
   "execution_count": 1,
   "metadata": {},
   "outputs": [],
   "source": [
    "import numpy as np\n",
    "import pandas as pd\n",
    "from glob import glob\n",
    "import matplotlib.pyplot as plt\n",
    "import seaborn as sns\n",
    "from scipy import stats, integrate\n",
    "import scipy.fftpack\n",
    "from scipy.signal import butter, lfilter, filtfilt\n",
    "\n",
    "\n",
    "from sklearn.feature_selection import chi2, mutual_info_classif, SelectKBest\n",
    "from sklearn.model_selection import train_test_split, cross_val_score\n",
    "from sklearn.discriminant_analysis import LinearDiscriminantAnalysis as LDA\n",
    "from sklearn.svm import SVC\n",
    "from sklearn.neighbors import KNeighborsClassifier\n",
    "from sklearn.naive_bayes import GaussianNB\n",
    "\n",
    "%matplotlib inline"
   ]
  },
  {
   "cell_type": "markdown",
   "metadata": {},
   "source": [
    "## Load Data"
   ]
  },
  {
   "cell_type": "code",
   "execution_count": 2,
   "metadata": {},
   "outputs": [
    {
     "data": {
      "text/plain": [
       "['../data/raw/alebs-2-record.csv',\n",
       " '../data/raw/alebs-record.csv',\n",
       " '../data/raw/barlo-2-record.csv',\n",
       " '../data/raw/barlo-record.csv',\n",
       " '../data/raw/yagmur-record.csv']"
      ]
     },
     "execution_count": 2,
     "metadata": {},
     "output_type": "execute_result"
    }
   ],
   "source": [
    "# load and sort the paths\n",
    "path = '../data/raw/'\n",
    "sampling_rate = 128\n",
    "\n",
    "fnames = glob(path+'*.csv') # get paths and save them\n",
    "fnames.sort()\n",
    "fnames"
   ]
  },
  {
   "cell_type": "code",
   "execution_count": 3,
   "metadata": {},
   "outputs": [
    {
     "data": {
      "text/html": [
       "<div>\n",
       "<style scoped>\n",
       "    .dataframe tbody tr th:only-of-type {\n",
       "        vertical-align: middle;\n",
       "    }\n",
       "\n",
       "    .dataframe tbody tr th {\n",
       "        vertical-align: top;\n",
       "    }\n",
       "\n",
       "    .dataframe thead th {\n",
       "        text-align: right;\n",
       "    }\n",
       "</style>\n",
       "<table border=\"1\" class=\"dataframe\">\n",
       "  <thead>\n",
       "    <tr style=\"text-align: right;\">\n",
       "      <th></th>\n",
       "      <th>AF3</th>\n",
       "      <th>F7</th>\n",
       "      <th>F3</th>\n",
       "      <th>FC5</th>\n",
       "      <th>T7</th>\n",
       "      <th>P7</th>\n",
       "      <th>O1</th>\n",
       "      <th>O2</th>\n",
       "      <th>P8</th>\n",
       "      <th>T8</th>\n",
       "      <th>FC6</th>\n",
       "      <th>F4</th>\n",
       "      <th>F8</th>\n",
       "      <th>AF4</th>\n",
       "      <th>label</th>\n",
       "      <th>id</th>\n",
       "    </tr>\n",
       "  </thead>\n",
       "  <tbody>\n",
       "    <tr>\n",
       "      <th>68155</th>\n",
       "      <td>4133.3</td>\n",
       "      <td>4111.8</td>\n",
       "      <td>4103.6</td>\n",
       "      <td>4100.0</td>\n",
       "      <td>4101.4</td>\n",
       "      <td>4106.3</td>\n",
       "      <td>4109.9</td>\n",
       "      <td>4102.3</td>\n",
       "      <td>4113.8</td>\n",
       "      <td>4104.2</td>\n",
       "      <td>4115.3</td>\n",
       "      <td>4079.6</td>\n",
       "      <td>4107.1</td>\n",
       "      <td>4122.3</td>\n",
       "      <td>0</td>\n",
       "      <td>1</td>\n",
       "    </tr>\n",
       "    <tr>\n",
       "      <th>68156</th>\n",
       "      <td>4116.5</td>\n",
       "      <td>4102.1</td>\n",
       "      <td>4102.4</td>\n",
       "      <td>4099.6</td>\n",
       "      <td>4109.2</td>\n",
       "      <td>4095.3</td>\n",
       "      <td>4115.5</td>\n",
       "      <td>4095.5</td>\n",
       "      <td>4106.2</td>\n",
       "      <td>4117.6</td>\n",
       "      <td>4091.5</td>\n",
       "      <td>4074.4</td>\n",
       "      <td>4101.4</td>\n",
       "      <td>4102.8</td>\n",
       "      <td>0</td>\n",
       "      <td>1</td>\n",
       "    </tr>\n",
       "    <tr>\n",
       "      <th>68157</th>\n",
       "      <td>4138.3</td>\n",
       "      <td>4110.1</td>\n",
       "      <td>4106.0</td>\n",
       "      <td>4102.3</td>\n",
       "      <td>4107.3</td>\n",
       "      <td>4088.1</td>\n",
       "      <td>4113.8</td>\n",
       "      <td>4098.1</td>\n",
       "      <td>4106.4</td>\n",
       "      <td>4117.1</td>\n",
       "      <td>4099.2</td>\n",
       "      <td>4087.2</td>\n",
       "      <td>4102.3</td>\n",
       "      <td>4123.7</td>\n",
       "      <td>0</td>\n",
       "      <td>1</td>\n",
       "    </tr>\n",
       "    <tr>\n",
       "      <th>68158</th>\n",
       "      <td>4154.0</td>\n",
       "      <td>4125.0</td>\n",
       "      <td>4106.3</td>\n",
       "      <td>4099.0</td>\n",
       "      <td>4099.5</td>\n",
       "      <td>4094.6</td>\n",
       "      <td>4111.3</td>\n",
       "      <td>4107.9</td>\n",
       "      <td>4119.9</td>\n",
       "      <td>4109.2</td>\n",
       "      <td>4118.3</td>\n",
       "      <td>4100.3</td>\n",
       "      <td>4101.7</td>\n",
       "      <td>4144.1</td>\n",
       "      <td>0</td>\n",
       "      <td>1</td>\n",
       "    </tr>\n",
       "    <tr>\n",
       "      <th>68159</th>\n",
       "      <td>4122.4</td>\n",
       "      <td>4105.1</td>\n",
       "      <td>4100.5</td>\n",
       "      <td>4096.7</td>\n",
       "      <td>4102.2</td>\n",
       "      <td>4104.9</td>\n",
       "      <td>4114.4</td>\n",
       "      <td>4108.7</td>\n",
       "      <td>4124.2</td>\n",
       "      <td>4115.9</td>\n",
       "      <td>4109.6</td>\n",
       "      <td>4086.0</td>\n",
       "      <td>4097.4</td>\n",
       "      <td>4112.4</td>\n",
       "      <td>0</td>\n",
       "      <td>1</td>\n",
       "    </tr>\n",
       "  </tbody>\n",
       "</table>\n",
       "</div>"
      ],
      "text/plain": [
       "          AF3      F7      F3     FC5      T7      P7      O1      O2      P8  \\\n",
       "68155  4133.3  4111.8  4103.6  4100.0  4101.4  4106.3  4109.9  4102.3  4113.8   \n",
       "68156  4116.5  4102.1  4102.4  4099.6  4109.2  4095.3  4115.5  4095.5  4106.2   \n",
       "68157  4138.3  4110.1  4106.0  4102.3  4107.3  4088.1  4113.8  4098.1  4106.4   \n",
       "68158  4154.0  4125.0  4106.3  4099.0  4099.5  4094.6  4111.3  4107.9  4119.9   \n",
       "68159  4122.4  4105.1  4100.5  4096.7  4102.2  4104.9  4114.4  4108.7  4124.2   \n",
       "\n",
       "           T8     FC6      F4      F8     AF4  label  id  \n",
       "68155  4104.2  4115.3  4079.6  4107.1  4122.3      0   1  \n",
       "68156  4117.6  4091.5  4074.4  4101.4  4102.8      0   1  \n",
       "68157  4117.1  4099.2  4087.2  4102.3  4123.7      0   1  \n",
       "68158  4109.2  4118.3  4100.3  4101.7  4144.1      0   1  \n",
       "68159  4115.9  4109.6  4086.0  4097.4  4112.4      0   1  "
      ]
     },
     "execution_count": 3,
     "metadata": {},
     "output_type": "execute_result"
    }
   ],
   "source": [
    "col_names = ['AF3', 'F7', 'F3', 'FC5', 'T7', 'P7', 'O1', 'O2', 'P8', 'T8', 'FC6', 'F4', 'F8', 'AF4', 'label']\n",
    "data = {}\n",
    "for i, name in enumerate(fnames):\n",
    "    data[i] = pd.read_csv(name, names=col_names)\n",
    "    data[i]['id'] = i\n",
    "    \n",
    "data[1].tail()"
   ]
  },
  {
   "cell_type": "code",
   "execution_count": 4,
   "metadata": {},
   "outputs": [],
   "source": [
    "data_all = pd.DataFrame()\n",
    "\n",
    "for i in np.arange(0,3):\n",
    "    data_all = pd.concat([data_all, data[i]], axis=0, ignore_index=True)"
   ]
  },
  {
   "cell_type": "markdown",
   "metadata": {},
   "source": [
    "## Epochs"
   ]
  },
  {
   "cell_type": "code",
   "execution_count": 5,
   "metadata": {},
   "outputs": [
    {
     "data": {
      "text/plain": [
       "[<matplotlib.lines.Line2D at 0x7f54189c3f98>]"
      ]
     },
     "execution_count": 5,
     "metadata": {},
     "output_type": "execute_result"
    },
    {
     "data": {
      "image/png": "[encoded data removed]",
      "text/plain": [
       "<Figure size 432x288 with 1 Axes>"
      ]
     },
     "metadata": {},
     "output_type": "display_data"
    }
   ],
   "source": [
    "yagmur = data[1] #0 aleks, 1 carlo, 2 yagmur\n",
    "plt.plot(yagmur.label)"
   ]
  },
  {
   "cell_type": "markdown",
   "metadata": {},
   "source": [
    "### Get indexes of on and off of each stimuli"
   ]
  },
  {
   "cell_type": "code",
   "execution_count": 6,
   "metadata": {},
   "outputs": [
    {
     "data": {
      "image/png": "[encoded data removed]",
      "text/plain": [
       "<Figure size 432x288 with 1 Axes>"
      ]
     },
     "metadata": {},
     "output_type": "display_data"
    }
   ],
   "source": [
    "threshold = 0.5\n",
    "\n",
    "idxOFF = np.argwhere(yagmur.label < threshold)\n",
    "idxON = np.argwhere(yagmur.label > threshold)\n",
    "\n",
    "\n",
    "x_alwaysON = np.zeros(len(yagmur.index))\n",
    "x_alwaysON[idxON] = 1\n",
    "\n",
    "x_turnON = np.roll(x_alwaysON, 1)\n",
    "x_turnON = x_alwaysON - x_turnON\n",
    "x_turnON = np.where(x_turnON > 0, x_turnON, 0)\n",
    "\n",
    "plt.plot(x_alwaysON)\n",
    "plt.plot(x_turnON)\n",
    "plt.show()"
   ]
  },
  {
   "cell_type": "markdown",
   "metadata": {},
   "source": [
    "### Get Yagmurs epochs"
   ]
  },
  {
   "cell_type": "code",
   "execution_count": 7,
   "metadata": {},
   "outputs": [
    {
     "data": {
      "text/plain": [
       "(68160, 4)"
      ]
     },
     "execution_count": 7,
     "metadata": {},
     "output_type": "execute_result"
    }
   ],
   "source": [
    "picked_elctrodes = {'AF3', 'F3', 'AF4', 'F4'}\n",
    "#picked_elctrodes = {'F4'}\n",
    "\n",
    "data_electr_filt = np.zeros((yagmur.shape[0], len(picked_elctrodes)))\n",
    "\n",
    "\n",
    "for n, elec in enumerate(picked_elctrodes):\n",
    "    data_electr_filt[:,n] = yagmur[elec]\n",
    "\n",
    "data_electr_filt.shape"
   ]
  },
  {
   "cell_type": "code",
   "execution_count": 8,
   "metadata": {},
   "outputs": [],
   "source": [
    "N_epoch = 700\n",
    "\n",
    "epochs = np.zeros((len( np.argwhere(x_turnON) ),N_epoch, data_electr_filt.shape[1])) #34x700x4 \n",
    "for n, i in enumerate(np.argwhere(x_turnON)):  \n",
    "    \n",
    "    epochs[n,:,:] = data_electr_filt[i[0]+400:i[0]+400+N_epoch,:]\n",
    "    \n",
    "epochs = np.mean(epochs, axis=2)"
   ]
  },
  {
   "cell_type": "markdown",
   "metadata": {},
   "source": [
    "## Applying Bandpass Filter on One Channel"
   ]
  },
  {
   "cell_type": "code",
   "execution_count": 9,
   "metadata": {},
   "outputs": [],
   "source": [
    "def butter_bandpass(lowcut, highcut, fs, order=5):\n",
    "    nyq = 0.5 * fs\n",
    "    low = lowcut / nyq\n",
    "    high = highcut / nyq\n",
    "    b, a = butter(order, [low, high], btype='band')\n",
    "    return b, a\n",
    "\n",
    "def butter_bandpass_filtfilt(data, lowcut, highcut, fs, order=5):\n",
    "    b, a = butter_bandpass(lowcut, highcut, fs, order=order)\n",
    "    y = lfilter(b, a, data)\n",
    "    return filtfilt(b, a, data) \n",
    "\n",
    "def butter_bandpass_filter(data, lowcut, highcut, fs, order=5):\n",
    "    b, a = butter_bandpass(lowcut, highcut, fs, order=order)\n",
    "    y = lfilter(b, a, data)\n",
    "    return y"
   ]
  },
  {
   "cell_type": "code",
   "execution_count": 10,
   "metadata": {},
   "outputs": [
    {
     "data": {
      "text/plain": [
       "(34, 700)"
      ]
     },
     "execution_count": 10,
     "metadata": {},
     "output_type": "execute_result"
    }
   ],
   "source": [
    "yagmur_filt = np.zeros_like(epochs)\n",
    "\n",
    "for i in np.arange(0, 34, 1):\n",
    "    yagmur_filt[i] = butter_bandpass_filtfilt(epochs[i], 5, 30, sampling_rate)\n",
    "yagmur_filt.shape"
   ]
  },
  {
   "cell_type": "markdown",
   "metadata": {},
   "source": [
    "## Trying Classification by using FFT as feature"
   ]
  },
  {
   "cell_type": "markdown",
   "metadata": {},
   "source": [
    "### Get Labels\n",
    "Carlo Labels 1 = empty 2 = 20 Hz 3 = 15 Hz 4 = 10 Hz"
   ]
  },
  {
   "cell_type": "code",
   "execution_count": 11,
   "metadata": {},
   "outputs": [
    {
     "data": {
      "text/plain": [
       "array([1., 2., 3., 4., 3., 2., 4., 1., 3., 2., 1., 4., 2., 4., 3., 1., 2.,\n",
       "       3., 2., 2., 4., 1., 2., 4., 3., 1., 2., 1., 3., 4., 3., 2., 4., 3.])"
      ]
     },
     "execution_count": 11,
     "metadata": {},
     "output_type": "execute_result"
    }
   ],
   "source": [
    "y = np.zeros(len(np.argwhere(x_turnON)))\n",
    "i = 0\n",
    "for n in np.argwhere(x_turnON):\n",
    "    y[i] = yagmur.label[n]\n",
    "    i+=1\n",
    "y"
   ]
  },
  {
   "cell_type": "markdown",
   "metadata": {},
   "source": [
    "### Amplitude of FFT of filtered data 0-3Hz as feature "
   ]
  },
  {
   "cell_type": "code",
   "execution_count": 12,
   "metadata": {},
   "outputs": [
    {
     "data": {
      "text/plain": [
       "(34, 175)"
      ]
     },
     "execution_count": 12,
     "metadata": {},
     "output_type": "execute_result"
    }
   ],
   "source": [
    "X = np.fft.fft(yagmur_filt)\n",
    "X = np.abs(X[:,:175]) #until 32 hertz \n",
    "X.shape"
   ]
  },
  {
   "cell_type": "markdown",
   "metadata": {},
   "source": [
    "### Feature selection"
   ]
  },
  {
   "cell_type": "code",
   "execution_count": 13,
   "metadata": {},
   "outputs": [],
   "source": [
    "K = 60 #number of features selected\n",
    "selector = SelectKBest(mutual_info_classif, k=K).fit(X, y) #fit returns object\n",
    "X_reduced = selector.transform(X)"
   ]
  },
  {
   "cell_type": "markdown",
   "metadata": {},
   "source": [
    "### Apply SVC classification"
   ]
  },
  {
   "cell_type": "code",
   "execution_count": 14,
   "metadata": {},
   "outputs": [
    {
     "ename": "ValueError",
     "evalue": "'gaussian' is not in list",
     "output_type": "error",
     "traceback": [
      "\u001b[0;31m---------------------------------------------------------------------------\u001b[0m",
      "\u001b[0;31mValueError\u001b[0m                                Traceback (most recent call last)",
      "\u001b[0;32m<ipython-input-14-3df168c7dbe6>\u001b[0m in \u001b[0;36m<module>\u001b[0;34m()\u001b[0m\n\u001b[1;32m      2\u001b[0m \u001b[0mX_train\u001b[0m\u001b[0;34m,\u001b[0m \u001b[0mX_test\u001b[0m\u001b[0;34m,\u001b[0m \u001b[0my_train\u001b[0m\u001b[0;34m,\u001b[0m \u001b[0my_test\u001b[0m \u001b[0;34m=\u001b[0m \u001b[0mtrain_test_split\u001b[0m\u001b[0;34m(\u001b[0m\u001b[0mX_reduced\u001b[0m\u001b[0;34m,\u001b[0m \u001b[0my\u001b[0m\u001b[0;34m,\u001b[0m \u001b[0mtest_size\u001b[0m\u001b[0;34m=\u001b[0m\u001b[0;36m.4\u001b[0m\u001b[0;34m,\u001b[0m \u001b[0mrandom_state\u001b[0m\u001b[0;34m=\u001b[0m\u001b[0;36m8\u001b[0m\u001b[0;34m)\u001b[0m\u001b[0;34m\u001b[0m\u001b[0m\n\u001b[1;32m      3\u001b[0m \u001b[0;34m\u001b[0m\u001b[0m\n\u001b[0;32m----> 4\u001b[0;31m \u001b[0mclassifier\u001b[0m\u001b[0;34m.\u001b[0m\u001b[0mfit\u001b[0m\u001b[0;34m(\u001b[0m\u001b[0mX_train\u001b[0m\u001b[0;34m,\u001b[0m \u001b[0my_train\u001b[0m\u001b[0;34m)\u001b[0m\u001b[0;34m\u001b[0m\u001b[0m\n\u001b[0m\u001b[1;32m      5\u001b[0m \u001b[0mscores\u001b[0m \u001b[0;34m=\u001b[0m \u001b[0mcross_val_score\u001b[0m\u001b[0;34m(\u001b[0m\u001b[0mclassifier\u001b[0m\u001b[0;34m,\u001b[0m \u001b[0mX_test\u001b[0m\u001b[0;34m,\u001b[0m \u001b[0my_test\u001b[0m\u001b[0;34m,\u001b[0m  \u001b[0mcv\u001b[0m\u001b[0;34m=\u001b[0m\u001b[0;36m2\u001b[0m\u001b[0;34m)\u001b[0m\u001b[0;34m\u001b[0m\u001b[0m\n\u001b[1;32m      6\u001b[0m \u001b[0mprint\u001b[0m\u001b[0;34m(\u001b[0m\u001b[0;34m\"Cross validated score: %0.2f (+/- %0.2f)\"\u001b[0m \u001b[0;34m%\u001b[0m \u001b[0;34m(\u001b[0m\u001b[0mscores\u001b[0m\u001b[0;34m.\u001b[0m\u001b[0mmean\u001b[0m\u001b[0;34m(\u001b[0m\u001b[0;34m)\u001b[0m\u001b[0;34m,\u001b[0m \u001b[0mscores\u001b[0m\u001b[0;34m.\u001b[0m\u001b[0mstd\u001b[0m\u001b[0;34m(\u001b[0m\u001b[0;34m)\u001b[0m\u001b[0;34m)\u001b[0m\u001b[0;34m)\u001b[0m\u001b[0;34m\u001b[0m\u001b[0m\n",
      "\u001b[0;32m~/anaconda3/lib/python3.6/site-packages/sklearn/svm/base.py\u001b[0m in \u001b[0;36mfit\u001b[0;34m(self, X, y, sample_weight)\u001b[0m\n\u001b[1;32m    185\u001b[0m \u001b[0;34m\u001b[0m\u001b[0m\n\u001b[1;32m    186\u001b[0m         \u001b[0mseed\u001b[0m \u001b[0;34m=\u001b[0m \u001b[0mrnd\u001b[0m\u001b[0;34m.\u001b[0m\u001b[0mrandint\u001b[0m\u001b[0;34m(\u001b[0m\u001b[0mnp\u001b[0m\u001b[0;34m.\u001b[0m\u001b[0miinfo\u001b[0m\u001b[0;34m(\u001b[0m\u001b[0;34m'i'\u001b[0m\u001b[0;34m)\u001b[0m\u001b[0;34m.\u001b[0m\u001b[0mmax\u001b[0m\u001b[0;34m)\u001b[0m\u001b[0;34m\u001b[0m\u001b[0m\n\u001b[0;32m--> 187\u001b[0;31m         \u001b[0mfit\u001b[0m\u001b[0;34m(\u001b[0m\u001b[0mX\u001b[0m\u001b[0;34m,\u001b[0m \u001b[0my\u001b[0m\u001b[0;34m,\u001b[0m \u001b[0msample_weight\u001b[0m\u001b[0;34m,\u001b[0m \u001b[0msolver_type\u001b[0m\u001b[0;34m,\u001b[0m \u001b[0mkernel\u001b[0m\u001b[0;34m,\u001b[0m \u001b[0mrandom_seed\u001b[0m\u001b[0;34m=\u001b[0m\u001b[0mseed\u001b[0m\u001b[0;34m)\u001b[0m\u001b[0;34m\u001b[0m\u001b[0m\n\u001b[0m\u001b[1;32m    188\u001b[0m         \u001b[0;31m# see comment on the other call to np.iinfo in this file\u001b[0m\u001b[0;34m\u001b[0m\u001b[0;34m\u001b[0m\u001b[0m\n\u001b[1;32m    189\u001b[0m \u001b[0;34m\u001b[0m\u001b[0m\n",
      "\u001b[0;32m~/anaconda3/lib/python3.6/site-packages/sklearn/svm/base.py\u001b[0m in \u001b[0;36m_dense_fit\u001b[0;34m(self, X, y, sample_weight, solver_type, kernel, random_seed)\u001b[0m\n\u001b[1;32m    252\u001b[0m                 \u001b[0mcache_size\u001b[0m\u001b[0;34m=\u001b[0m\u001b[0mself\u001b[0m\u001b[0;34m.\u001b[0m\u001b[0mcache_size\u001b[0m\u001b[0;34m,\u001b[0m \u001b[0mcoef0\u001b[0m\u001b[0;34m=\u001b[0m\u001b[0mself\u001b[0m\u001b[0;34m.\u001b[0m\u001b[0mcoef0\u001b[0m\u001b[0;34m,\u001b[0m\u001b[0;34m\u001b[0m\u001b[0m\n\u001b[1;32m    253\u001b[0m                 \u001b[0mgamma\u001b[0m\u001b[0;34m=\u001b[0m\u001b[0mself\u001b[0m\u001b[0;34m.\u001b[0m\u001b[0m_gamma\u001b[0m\u001b[0;34m,\u001b[0m \u001b[0mepsilon\u001b[0m\u001b[0;34m=\u001b[0m\u001b[0mself\u001b[0m\u001b[0;34m.\u001b[0m\u001b[0mepsilon\u001b[0m\u001b[0;34m,\u001b[0m\u001b[0;34m\u001b[0m\u001b[0m\n\u001b[0;32m--> 254\u001b[0;31m                 max_iter=self.max_iter, random_seed=random_seed)\n\u001b[0m\u001b[1;32m    255\u001b[0m \u001b[0;34m\u001b[0m\u001b[0m\n\u001b[1;32m    256\u001b[0m         \u001b[0mself\u001b[0m\u001b[0;34m.\u001b[0m\u001b[0m_warn_from_fit_status\u001b[0m\u001b[0;34m(\u001b[0m\u001b[0;34m)\u001b[0m\u001b[0;34m\u001b[0m\u001b[0m\n",
      "\u001b[0;32msklearn/svm/libsvm.pyx\u001b[0m in \u001b[0;36msklearn.svm.libsvm.fit\u001b[0;34m()\u001b[0m\n",
      "\u001b[0;31mValueError\u001b[0m: 'gaussian' is not in list"
     ]
    }
   ],
   "source": [
    "classifier = SVC(kernel=\"gaussian\")\n",
    "X_train, X_test, y_train, y_test = train_test_split(X_reduced, y, test_size=.4, random_state=8)\n",
    "\n",
    "classifier.fit(X_train, y_train)\n",
    "scores = cross_val_score(classifier, X_test, y_test,  cv=2)\n",
    "print(\"Cross validated score: %0.2f (+/- %0.2f)\" % (scores.mean(), scores.std())) "
   ]
  },
  {
   "cell_type": "code",
   "execution_count": null,
   "metadata": {},
   "outputs": [],
   "source": []
  }
 ],
 "metadata": {
  "kernelspec": {
   "display_name": "Python 3",
   "language": "python",
   "name": "python3"
  },
  "language_info": {
   "codemirror_mode": {
    "name": "ipython",
    "version": 3
   },
   "file_extension": ".py",
   "mimetype": "text/x-python",
   "name": "python",
   "nbconvert_exporter": "python",
   "pygments_lexer": "ipython3",
   "version": "3.6.5"
  }
 },
 "nbformat": 4,
 "nbformat_minor": 2
}
