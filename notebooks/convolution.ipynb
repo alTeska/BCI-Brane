{
 "cells": [
  {
   "cell_type": "markdown",
   "metadata": {},
   "source": [
    "# Sinus convolution test"
   ]
  },
  {
   "cell_type": "code",
   "execution_count": 1,
   "metadata": {},
   "outputs": [],
   "source": [
    "import numpy as np\n",
    "import pandas as pd\n",
    "import matplotlib.pyplot as plt\n",
    "import seaborn as sns\n",
    "from scipy import stats, integrate, signal\n",
    "\n",
    "%matplotlib inline"
   ]
  },
  {
   "cell_type": "code",
   "execution_count": 2,
   "metadata": {},
   "outputs": [
    {
     "data": {
      "text/html": [
       "<div>\n",
       "<style scoped>\n",
       "    .dataframe tbody tr th:only-of-type {\n",
       "        vertical-align: middle;\n",
       "    }\n",
       "\n",
       "    .dataframe tbody tr th {\n",
       "        vertical-align: top;\n",
       "    }\n",
       "\n",
       "    .dataframe thead th {\n",
       "        text-align: right;\n",
       "    }\n",
       "</style>\n",
       "<table border=\"1\" class=\"dataframe\">\n",
       "  <thead>\n",
       "    <tr style=\"text-align: right;\">\n",
       "      <th></th>\n",
       "      <th>Time</th>\n",
       "      <th>AF3</th>\n",
       "      <th>F7</th>\n",
       "      <th>F3</th>\n",
       "      <th>FC5</th>\n",
       "      <th>T7</th>\n",
       "      <th>P7</th>\n",
       "      <th>O1</th>\n",
       "      <th>O2</th>\n",
       "      <th>P8</th>\n",
       "      <th>T8</th>\n",
       "      <th>FC6</th>\n",
       "      <th>F4</th>\n",
       "      <th>F8</th>\n",
       "      <th>AF4</th>\n",
       "      <th>id</th>\n",
       "      <th>label</th>\n",
       "    </tr>\n",
       "  </thead>\n",
       "  <tbody>\n",
       "    <tr>\n",
       "      <th>0</th>\n",
       "      <td>0.000000</td>\n",
       "      <td>3699.102539</td>\n",
       "      <td>3653.846191</td>\n",
       "      <td>3678.076904</td>\n",
       "      <td>3715.384522</td>\n",
       "      <td>3635.384522</td>\n",
       "      <td>3653.974365</td>\n",
       "      <td>3677.435791</td>\n",
       "      <td>3667.435791</td>\n",
       "      <td>3682.820557</td>\n",
       "      <td>3555.128174</td>\n",
       "      <td>3622.051270</td>\n",
       "      <td>3696.794922</td>\n",
       "      <td>3625.897461</td>\n",
       "      <td>3446.153809</td>\n",
       "      <td>0</td>\n",
       "      <td>0</td>\n",
       "    </tr>\n",
       "    <tr>\n",
       "      <th>1</th>\n",
       "      <td>0.007812</td>\n",
       "      <td>3782.307617</td>\n",
       "      <td>3741.281982</td>\n",
       "      <td>3754.615478</td>\n",
       "      <td>3808.461426</td>\n",
       "      <td>3674.230713</td>\n",
       "      <td>3729.358887</td>\n",
       "      <td>3750.512939</td>\n",
       "      <td>3738.846191</td>\n",
       "      <td>3755.000000</td>\n",
       "      <td>3639.230713</td>\n",
       "      <td>3708.974365</td>\n",
       "      <td>3781.410156</td>\n",
       "      <td>3693.718018</td>\n",
       "      <td>3530.897461</td>\n",
       "      <td>0</td>\n",
       "      <td>0</td>\n",
       "    </tr>\n",
       "    <tr>\n",
       "      <th>2</th>\n",
       "      <td>0.015625</td>\n",
       "      <td>3745.256348</td>\n",
       "      <td>3714.487061</td>\n",
       "      <td>3716.923096</td>\n",
       "      <td>3766.025635</td>\n",
       "      <td>3701.794922</td>\n",
       "      <td>3693.205078</td>\n",
       "      <td>3715.512939</td>\n",
       "      <td>3707.179443</td>\n",
       "      <td>3721.923096</td>\n",
       "      <td>3609.615478</td>\n",
       "      <td>3677.307617</td>\n",
       "      <td>3749.102539</td>\n",
       "      <td>3665.128174</td>\n",
       "      <td>3500.000000</td>\n",
       "      <td>0</td>\n",
       "      <td>0</td>\n",
       "    </tr>\n",
       "    <tr>\n",
       "      <th>3</th>\n",
       "      <td>0.023438</td>\n",
       "      <td>3728.205078</td>\n",
       "      <td>3696.794922</td>\n",
       "      <td>3701.794922</td>\n",
       "      <td>3759.743652</td>\n",
       "      <td>3692.820557</td>\n",
       "      <td>3674.871826</td>\n",
       "      <td>3697.435791</td>\n",
       "      <td>3689.871826</td>\n",
       "      <td>3705.384522</td>\n",
       "      <td>3591.410156</td>\n",
       "      <td>3661.794922</td>\n",
       "      <td>3731.153809</td>\n",
       "      <td>3643.974365</td>\n",
       "      <td>3483.974365</td>\n",
       "      <td>0</td>\n",
       "      <td>0</td>\n",
       "    </tr>\n",
       "    <tr>\n",
       "      <th>4</th>\n",
       "      <td>0.031250</td>\n",
       "      <td>3640.128174</td>\n",
       "      <td>3598.333252</td>\n",
       "      <td>3615.641113</td>\n",
       "      <td>3665.897461</td>\n",
       "      <td>3551.538574</td>\n",
       "      <td>3594.230713</td>\n",
       "      <td>3614.230713</td>\n",
       "      <td>3605.769287</td>\n",
       "      <td>3624.358887</td>\n",
       "      <td>3507.051270</td>\n",
       "      <td>3555.384522</td>\n",
       "      <td>3627.948730</td>\n",
       "      <td>3556.538574</td>\n",
       "      <td>3386.025635</td>\n",
       "      <td>0</td>\n",
       "      <td>0</td>\n",
       "    </tr>\n",
       "  </tbody>\n",
       "</table>\n",
       "</div>"
      ],
      "text/plain": [
       "       Time          AF3           F7           F3          FC5           T7  \\\n",
       "0  0.000000  3699.102539  3653.846191  3678.076904  3715.384522  3635.384522   \n",
       "1  0.007812  3782.307617  3741.281982  3754.615478  3808.461426  3674.230713   \n",
       "2  0.015625  3745.256348  3714.487061  3716.923096  3766.025635  3701.794922   \n",
       "3  0.023438  3728.205078  3696.794922  3701.794922  3759.743652  3692.820557   \n",
       "4  0.031250  3640.128174  3598.333252  3615.641113  3665.897461  3551.538574   \n",
       "\n",
       "            P7           O1           O2           P8           T8  \\\n",
       "0  3653.974365  3677.435791  3667.435791  3682.820557  3555.128174   \n",
       "1  3729.358887  3750.512939  3738.846191  3755.000000  3639.230713   \n",
       "2  3693.205078  3715.512939  3707.179443  3721.923096  3609.615478   \n",
       "3  3674.871826  3697.435791  3689.871826  3705.384522  3591.410156   \n",
       "4  3594.230713  3614.230713  3605.769287  3624.358887  3507.051270   \n",
       "\n",
       "           FC6           F4           F8          AF4  id  label  \n",
       "0  3622.051270  3696.794922  3625.897461  3446.153809   0      0  \n",
       "1  3708.974365  3781.410156  3693.718018  3530.897461   0      0  \n",
       "2  3677.307617  3749.102539  3665.128174  3500.000000   0      0  \n",
       "3  3661.794922  3731.153809  3643.974365  3483.974365   0      0  \n",
       "4  3555.384522  3627.948730  3556.538574  3386.025635   0      0  "
      ]
     },
     "execution_count": 2,
     "metadata": {},
     "output_type": "execute_result"
    }
   ],
   "source": [
    "path = '../data/old/'\n",
    "data = pd.read_csv(path+'CarloAll.csv', ',')\n",
    "data.head()"
   ]
  },
  {
   "cell_type": "code",
   "execution_count": 3,
   "metadata": {},
   "outputs": [
    {
     "name": "stderr",
     "output_type": "stream",
     "text": [
      "/home/ateska/anaconda3/lib/python3.6/site-packages/matplotlib/figure.py:459: UserWarning: matplotlib is currently using a non-GUI backend, so cannot show the figure\n",
      "  \"matplotlib is currently using a non-GUI backend, \"\n"
     ]
    },
    {
     "data": {
      "image/png": "[encoded data removed]",
      "text/plain": [
       "<Figure size 432x288 with 3 Axes>"
      ]
     },
     "metadata": {},
     "output_type": "display_data"
    }
   ],
   "source": [
    "sig = np.repeat([0., 1., 0.], 100)\n",
    "win = signal.hann(50)\n",
    "filtered = signal.convolve(sig, win, mode='same') / sum(win)\n",
    "\n",
    "\n",
    "fig, (ax_orig, ax_win, ax_filt) = plt.subplots(3, 1, sharex=True)\n",
    "ax_orig.plot(sig)\n",
    "ax_orig.set_title('Original pulse')\n",
    "ax_orig.margins(0, 0.1)\n",
    "ax_win.plot(win)\n",
    "ax_win.set_title('Filter impulse response')\n",
    "ax_win.margins(0, 0.1)\n",
    "ax_filt.plot(filtered)\n",
    "ax_filt.set_title('Filtered signal')\n",
    "ax_filt.margins(0, 0.1)\n",
    "fig.tight_layout()\n",
    "fig.show()"
   ]
  },
  {
   "cell_type": "code",
   "execution_count": 4,
   "metadata": {},
   "outputs": [
    {
     "data": {
      "text/plain": [
       "[<matplotlib.lines.Line2D at 0x7f018683c240>]"
      ]
     },
     "execution_count": 4,
     "metadata": {},
     "output_type": "execute_result"
    },
    {
     "data": {
      "image/png": "[encoded data removed]",
      "text/plain": [
       "<Figure size 432x288 with 1 Axes>"
      ]
     },
     "metadata": {},
     "output_type": "display_data"
    }
   ],
   "source": [
    "freq = 15\n",
    "duration = 1\n",
    "num_samples = 1000\n",
    "sampling_rate = 128\n",
    "\n",
    "# time = np.linspace(0,duration,num_samples)    \n",
    "time = np.arange(start=0, stop=duration, step=1/sampling_rate)   \n",
    "base_sin =  np.sin(2*np.pi*time*freq)\n",
    "plt.plot(time, base_sin)"
   ]
  },
  {
   "cell_type": "code",
   "execution_count": 5,
   "metadata": {},
   "outputs": [],
   "source": [
    "n_last = sampling_rate * 1\n",
    "carlo_data = data.AF3\n",
    "subset_carlo = carlo_data[:n_last]"
   ]
  },
  {
   "cell_type": "code",
   "execution_count": 7,
   "metadata": {},
   "outputs": [
    {
     "data": {
      "text/plain": [
       "128"
      ]
     },
     "execution_count": 7,
     "metadata": {},
     "output_type": "execute_result"
    }
   ],
   "source": [
    "len(subset_carlo)"
   ]
  },
  {
   "cell_type": "code",
   "execution_count": 8,
   "metadata": {},
   "outputs": [
    {
     "data": {
      "text/plain": [
       "128"
      ]
     },
     "execution_count": 8,
     "metadata": {},
     "output_type": "execute_result"
    }
   ],
   "source": [
    "len(base_sin)"
   ]
  },
  {
   "cell_type": "code",
   "execution_count": 6,
   "metadata": {},
   "outputs": [
    {
     "data": {
      "text/plain": [
       "(-0.055592402306082034, 0.5331080431638782)"
      ]
     },
     "execution_count": 6,
     "metadata": {},
     "output_type": "execute_result"
    }
   ],
   "source": [
    "stats.pearsonr(x=subset_carlo, y=base_sin)\n"
   ]
  }
 ],
 "metadata": {
  "kernelspec": {
   "display_name": "Python 3",
   "language": "python",
   "name": "python3"
  },
  "language_info": {
   "codemirror_mode": {
    "name": "ipython",
    "version": 3
   },
   "file_extension": ".py",
   "mimetype": "text/x-python",
   "name": "python",
   "nbconvert_exporter": "python",
   "pygments_lexer": "ipython3",
   "version": "3.6.5"
  }
 },
 "nbformat": 4,
 "nbformat_minor": 2
}
