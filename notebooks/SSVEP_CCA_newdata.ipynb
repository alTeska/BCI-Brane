{
 "cells": [
  {
   "cell_type": "markdown",
   "metadata": {},
   "source": [
    "# CCA SSVEP dataset"
   ]
  },
  {
   "cell_type": "code",
   "execution_count": 1,
   "metadata": {},
   "outputs": [],
   "source": [
    "import numpy as np\n",
    "import pandas as pd\n",
    "from glob import glob\n",
    "import matplotlib.pyplot as plt\n",
    "import seaborn as sns\n",
    "\n",
    "import scipy.fftpack\n",
    "from scipy import stats, integrate\n",
    "from scipy import signal\n",
    "from scipy.signal import butter, lfilter, filtfilt\n",
    "\n",
    "from sklearn.cross_decomposition import CCA\n",
    "from sklearn.feature_selection import chi2, mutual_info_classif, SelectKBest\n",
    "from sklearn.model_selection import train_test_split, cross_val_score\n",
    "\n",
    "%matplotlib inline"
   ]
  },
  {
   "cell_type": "markdown",
   "metadata": {},
   "source": [
    "## Load Data"
   ]
  },
  {
   "cell_type": "code",
   "execution_count": 2,
   "metadata": {},
   "outputs": [],
   "source": [
    "# load and sort the paths\n",
    "path = '../data/raw/'\n",
    "sampling_rate = 128\n",
    "\n",
    "fnames = glob(path+'*.csv') # get paths and save them\n",
    "fnames = [ '../data/raw/alebs-record.csv',\n",
    " '../data/raw/barlo-record.csv',\n",
    " '../data/raw/yagmur-record.csv']\n",
    "fnames.sort()"
   ]
  },
  {
   "cell_type": "code",
   "execution_count": 3,
   "metadata": {},
   "outputs": [],
   "source": [
    "electrodes_names = ['Time','AF3', 'F7', 'F3', 'FC5', 'T7', 'P7', 'O1', 'O2', 'P8', 'T8', 'FC6', 'F4', 'F8', 'AF4', 'label']\n",
    "aleks2 = {}\n",
    "aleks2 = pd.read_csv('../data/raw/alebs-2-record.csv', names=electrodes_names)\n",
    "# aleks2[2000:2100]"
   ]
  },
  {
   "cell_type": "code",
   "execution_count": 4,
   "metadata": {},
   "outputs": [
    {
     "data": {
      "text/plain": [
       "[<matplotlib.lines.Line2D at 0x7f924ae88470>]"
      ]
     },
     "execution_count": 4,
     "metadata": {},
     "output_type": "execute_result"
    },
    {
     "data": {
      "image/png": "[encoded data removed]",
      "text/plain": [
       "<Figure size 432x288 with 1 Axes>"
      ]
     },
     "metadata": {},
     "output_type": "display_data"
    }
   ],
   "source": [
    "plt.plot(aleks2.label)"
   ]
  },
  {
   "cell_type": "markdown",
   "metadata": {},
   "source": [
    "## Applying Bandpass Filter on One Channel"
   ]
  },
  {
   "cell_type": "code",
   "execution_count": 5,
   "metadata": {},
   "outputs": [],
   "source": [
    "def butter_bandpass(lowcut, highcut, fs, order=5):\n",
    "    nyq = 0.5 * fs\n",
    "    low = lowcut / nyq\n",
    "    high = highcut / nyq\n",
    "    b, a = butter(order, [low, high], btype='band')\n",
    "    return b, a\n",
    "\n",
    "def butter_bandpass_filtfilt(data, lowcut, highcut, fs, order=5):\n",
    "    b, a = butter_bandpass(lowcut, highcut, fs, order=order)\n",
    "    y = lfilter(b, a, data)\n",
    "    return filtfilt(b, a, data) \n",
    "\n",
    "def butter_bandpass_filter(data, lowcut, highcut, fs, order=5):\n",
    "    b, a = butter_bandpass(lowcut, highcut, fs, order=order)\n",
    "    y = lfilter(b, a, data)\n",
    "    return y"
   ]
  },
  {
   "cell_type": "code",
   "execution_count": 6,
   "metadata": {},
   "outputs": [
    {
     "data": {
      "text/html": [
       "<div>\n",
       "<style scoped>\n",
       "    .dataframe tbody tr th:only-of-type {\n",
       "        vertical-align: middle;\n",
       "    }\n",
       "\n",
       "    .dataframe tbody tr th {\n",
       "        vertical-align: top;\n",
       "    }\n",
       "\n",
       "    .dataframe thead th {\n",
       "        text-align: right;\n",
       "    }\n",
       "</style>\n",
       "<table border=\"1\" class=\"dataframe\">\n",
       "  <thead>\n",
       "    <tr style=\"text-align: right;\">\n",
       "      <th></th>\n",
       "      <th>Time</th>\n",
       "      <th>AF3</th>\n",
       "      <th>F7</th>\n",
       "      <th>F3</th>\n",
       "      <th>FC5</th>\n",
       "      <th>T7</th>\n",
       "      <th>P7</th>\n",
       "      <th>O1</th>\n",
       "      <th>O2</th>\n",
       "      <th>P8</th>\n",
       "      <th>T8</th>\n",
       "      <th>FC6</th>\n",
       "      <th>F4</th>\n",
       "      <th>F8</th>\n",
       "      <th>AF4</th>\n",
       "      <th>label</th>\n",
       "    </tr>\n",
       "  </thead>\n",
       "  <tbody>\n",
       "    <tr>\n",
       "      <th>0</th>\n",
       "      <td>0.000000</td>\n",
       "      <td>10.215994</td>\n",
       "      <td>10.228524</td>\n",
       "      <td>10.243309</td>\n",
       "      <td>10.297939</td>\n",
       "      <td>10.494405</td>\n",
       "      <td>10.300946</td>\n",
       "      <td>10.452806</td>\n",
       "      <td>10.257092</td>\n",
       "      <td>10.265111</td>\n",
       "      <td>10.114754</td>\n",
       "      <td>10.210481</td>\n",
       "      <td>10.256340</td>\n",
       "      <td>10.173393</td>\n",
       "      <td>10.239801</td>\n",
       "      <td>0</td>\n",
       "    </tr>\n",
       "    <tr>\n",
       "      <th>1</th>\n",
       "      <td>0.007812</td>\n",
       "      <td>78.546269</td>\n",
       "      <td>78.628800</td>\n",
       "      <td>78.754730</td>\n",
       "      <td>79.150601</td>\n",
       "      <td>80.692626</td>\n",
       "      <td>79.185494</td>\n",
       "      <td>80.350060</td>\n",
       "      <td>78.843885</td>\n",
       "      <td>78.888736</td>\n",
       "      <td>77.821932</td>\n",
       "      <td>78.559523</td>\n",
       "      <td>78.848381</td>\n",
       "      <td>78.227072</td>\n",
       "      <td>78.725506</td>\n",
       "      <td>0</td>\n",
       "    </tr>\n",
       "  </tbody>\n",
       "</table>\n",
       "</div>"
      ],
      "text/plain": [
       "       Time        AF3         F7         F3        FC5         T7         P7  \\\n",
       "0  0.000000  10.215994  10.228524  10.243309  10.297939  10.494405  10.300946   \n",
       "1  0.007812  78.546269  78.628800  78.754730  79.150601  80.692626  79.185494   \n",
       "\n",
       "          O1         O2         P8         T8        FC6         F4  \\\n",
       "0  10.452806  10.257092  10.265111  10.114754  10.210481  10.256340   \n",
       "1  80.350060  78.843885  78.888736  77.821932  78.559523  78.848381   \n",
       "\n",
       "          F8        AF4  label  \n",
       "0  10.173393  10.239801      0  \n",
       "1  78.227072  78.725506      0  "
      ]
     },
     "execution_count": 6,
     "metadata": {},
     "output_type": "execute_result"
    }
   ],
   "source": [
    "aleks2_filt = pd.DataFrame()\n",
    "\n",
    "for col in aleks2.columns.tolist():\n",
    "    aleks2_filt[col] = butter_bandpass_filter( aleks2[col], 5, 20, sampling_rate)\n",
    "\n",
    "aleks2_filt.label = aleks2.label\n",
    "aleks2_filt.Time = aleks2.Time\n",
    "aleks2_filt.head(2)"
   ]
  },
  {
   "cell_type": "code",
   "execution_count": 7,
   "metadata": {},
   "outputs": [
    {
     "data": {
      "image/png": "[encoded data removed]",
      "text/plain": [
       "<Figure size 432x288 with 1 Axes>"
      ]
     },
     "metadata": {},
     "output_type": "display_data"
    }
   ],
   "source": [
    "plt.plot(aleks2_filt.AF3[1000:5000]);"
   ]
  },
  {
   "cell_type": "code",
   "execution_count": 8,
   "metadata": {},
   "outputs": [
    {
     "data": {
      "image/png": "[encoded data removed]",
      "text/plain": [
       "<Figure size 432x288 with 1 Axes>"
      ]
     },
     "metadata": {},
     "output_type": "display_data"
    }
   ],
   "source": [
    "plt.plot(aleks2_filt.AF3[1000:5000]);"
   ]
  },
  {
   "cell_type": "markdown",
   "metadata": {},
   "source": [
    "## Epochs"
   ]
  },
  {
   "cell_type": "code",
   "execution_count": 9,
   "metadata": {},
   "outputs": [
    {
     "data": {
      "text/plain": [
       "[<matplotlib.lines.Line2D at 0x7f924acf70b8>]"
      ]
     },
     "execution_count": 9,
     "metadata": {},
     "output_type": "execute_result"
    },
    {
     "data": {
      "image/png": "[encoded data removed]",
      "text/plain": [
       "<Figure size 432x288 with 1 Axes>"
      ]
     },
     "metadata": {},
     "output_type": "display_data"
    }
   ],
   "source": [
    "plt.plot(aleks2.label)"
   ]
  },
  {
   "cell_type": "markdown",
   "metadata": {},
   "source": [
    "### Get Points Needed For Epochs"
   ]
  },
  {
   "cell_type": "code",
   "execution_count": 10,
   "metadata": {},
   "outputs": [
    {
     "data": {
      "image/png": "[encoded data removed]",
      "text/plain": [
       "<Figure size 432x288 with 1 Axes>"
      ]
     },
     "metadata": {},
     "output_type": "display_data"
    }
   ],
   "source": [
    "threshold = 0.5\n",
    "\n",
    "idxOFF = np.argwhere(aleks2.label < threshold)\n",
    "idxON = np.argwhere(aleks2.label > threshold)\n",
    "\n",
    "\n",
    "x_alwaysON = np.zeros(len(aleks2.index))\n",
    "x_alwaysON[idxON] = 1\n",
    "\n",
    "x_turnON = np.roll(x_alwaysON, 1)\n",
    "x_turnON = x_alwaysON - x_turnON\n",
    "x_turnON = np.where(x_turnON > 0, x_turnON, 0)\n",
    "\n",
    "plt.plot(x_alwaysON)\n",
    "plt.plot(x_turnON)\n",
    "plt.show()"
   ]
  },
  {
   "cell_type": "code",
   "execution_count": 11,
   "metadata": {},
   "outputs": [
    {
     "data": {
      "text/plain": [
       "array([4., 1., 2., 1., 3., 2., 4., 3., 1., 2., 3., 4., 2., 1., 3., 4., 3.,\n",
       "       4., 1., 2., 4., 1., 2., 1., 3., 2., 4., 3., 1., 2., 3., 4., 2., 1.,\n",
       "       3., 4., 3., 4., 1., 2.])"
      ]
     },
     "execution_count": 11,
     "metadata": {},
     "output_type": "execute_result"
    }
   ],
   "source": [
    "y = np.zeros(len(np.argwhere(x_turnON)))\n",
    "i = 0\n",
    "for n in np.argwhere(x_turnON):\n",
    "    y[i] = aleks2.label[n]\n",
    "    i+=1\n",
    "y"
   ]
  },
  {
   "cell_type": "markdown",
   "metadata": {},
   "source": [
    "### Pick Only Needed Electrodes"
   ]
  },
  {
   "cell_type": "code",
   "execution_count": 12,
   "metadata": {},
   "outputs": [
    {
     "data": {
      "text/plain": [
       "(78208, 6)"
      ]
     },
     "execution_count": 12,
     "metadata": {},
     "output_type": "execute_result"
    }
   ],
   "source": [
    "picked_electrodes = {'AF3', 'F3', 'AF4', 'F4', 'F7', 'F8'}\n",
    "\n",
    "data_electr_filt = np.zeros((aleks2_filt.shape[0], len(picked_electrodes)))\n",
    "\n",
    "\n",
    "for n, elec in enumerate(picked_electrodes):\n",
    "    data_electr_filt[:,n] = aleks2_filt[elec]\n",
    "\n",
    "data_electr_filt.shape"
   ]
  },
  {
   "cell_type": "markdown",
   "metadata": {},
   "source": [
    "### Epoching over all data\n",
    "epochs = num trials x num data points x num electrodes\n",
    "epochs concat = trials\\*electrodes x data points"
   ]
  },
  {
   "cell_type": "code",
   "execution_count": 13,
   "metadata": {},
   "outputs": [],
   "source": [
    "N_epoch = 700\n",
    "epochs = np.zeros((len( np.argwhere(x_turnON) ),N_epoch, len(picked_electrodes))) #34x700x4 \n",
    "\n",
    "for n, i in enumerate(np.argwhere(x_turnON)):  \n",
    "    epochs[n,:,:] = data_electr_filt[i[0]+400:i[0]+400+N_epoch,:]\n",
    "    "
   ]
  },
  {
   "cell_type": "code",
   "execution_count": 14,
   "metadata": {},
   "outputs": [
    {
     "data": {
      "text/plain": [
       "(40, 700, 6)"
      ]
     },
     "execution_count": 14,
     "metadata": {},
     "output_type": "execute_result"
    }
   ],
   "source": [
    "epochs.shape"
   ]
  },
  {
   "cell_type": "markdown",
   "metadata": {},
   "source": [
    "#  Canonical Correlation Analysis (CCA) \n",
    "Canonical correlation analysis is a method for exploring the relationships between two multivariate sets of variables (vectors), all measured on the same individual.\n",
    "    so one of the vectors: our electodes \n",
    "    second vector: the sinusoids of the same frequency"
   ]
  },
  {
   "cell_type": "markdown",
   "metadata": {},
   "source": [
    "### Defining the sinusoids vectors"
   ]
  },
  {
   "cell_type": "code",
   "execution_count": 15,
   "metadata": {},
   "outputs": [],
   "source": [
    "num_samples = 700\n",
    "sampling_rate = 128\n",
    "time = np.arange(0,(num_samples)/sampling_rate, 1/sampling_rate)\n",
    "\n",
    "base_sin10 =  np.sin(2*np.pi*time*10)\n",
    "base_sin12 =  np.sin(2*np.pi*time*12)\n",
    "base_sin15 =  np.sin(2*np.pi*time*15)"
   ]
  },
  {
   "cell_type": "markdown",
   "metadata": {},
   "source": [
    "### Taking one epoch with 6 electrodes to correlate"
   ]
  },
  {
   "cell_type": "code",
   "execution_count": 16,
   "metadata": {},
   "outputs": [
    {
     "data": {
      "text/plain": [
       "(700, 6)"
      ]
     },
     "execution_count": 16,
     "metadata": {},
     "output_type": "execute_result"
    }
   ],
   "source": [
    "X = np.stack(((epochs[0,:,0], epochs[0,:,1], epochs[0,:,2], epochs[0,:,3], epochs[0,:,4], epochs[0,:,5]))).T\n",
    "np.shape(X)"
   ]
  },
  {
   "cell_type": "markdown",
   "metadata": {},
   "source": [
    "### CCA of 3 electrodes"
   ]
  },
  {
   "cell_type": "code",
   "execution_count": 29,
   "metadata": {},
   "outputs": [],
   "source": [
    "from scipy.linalg import inv, eig\n",
    "\n",
    "def CCA_corrcoeff(X, Y):\n",
    "    \"\"\"Function calculates correlations coeffciencts r\"\"\"\n",
    "    Z = np.column_stack((X, Y,))\n",
    "    C = np.cov(Z.T)\n",
    "\n",
    "    sy = np.shape(Y)[1] if Y.ndim > 1 else 1\n",
    "    sx = np.shape(X)[1] if X.ndim > 1 else 1\n",
    "\n",
    "    Cxx = C[0:sx, 0:sx] + 10**(-8) * np.eye(sx)\n",
    "    Cxy = C[0:sx, sx:sx+sy]\n",
    "    Cyx = Cxy.T\n",
    "    Cyy = C[sx:sx+sy, sx:sx+sy] + 10**(-8) * np.eye(sy)\n",
    "    invCyy = inv(Cyy)\n",
    "    invCxx = inv(Cxx)\n",
    "\n",
    "    r, Wx = eig( np.dot( np.dot(invCxx, Cxy), np.dot(invCyy, Cyx) ) )\n",
    "    r = np.real(r)\n",
    "    r_sqrt = np.sqrt(np.round(r, 7))\n",
    "\n",
    "    return r, r_sqrt"
   ]
  },
  {
   "cell_type": "code",
   "execution_count": 30,
   "metadata": {},
   "outputs": [],
   "source": [
    "def calculate_r(X):\n",
    "    r1, r1_sqrt = CCA_corrcoeff(X, base_sin15)\n",
    "    r2, r2_sqrt = CCA_corrcoeff(X, base_sin12)\n",
    "    r3, r3_sqrt = CCA_corrcoeff(X, base_sin10)\n",
    "    r = np.stack(((r1, r2, r3)))\n",
    "    r_sqrt = np.stack(((r1_sqrt, r2_sqrt, r3_sqrt)))\n",
    "    \n",
    "    return(r, r_sqrt)"
   ]
  },
  {
   "cell_type": "code",
   "execution_count": 31,
   "metadata": {},
   "outputs": [
    {
     "data": {
      "text/plain": [
       "array([0.0933879 , 0.16683105, 0.18482208])"
      ]
     },
     "execution_count": 31,
     "metadata": {},
     "output_type": "execute_result"
    }
   ],
   "source": [
    "r, r_sqrt = calculate_r(X)\n",
    "np.sum(r_sqrt, axis=1)"
   ]
  },
  {
   "cell_type": "code",
   "execution_count": 32,
   "metadata": {},
   "outputs": [
    {
     "name": "stdout",
     "output_type": "stream",
     "text": [
      "[0.18633545 0.22052143 0.1323756 ]\n",
      "2\n"
     ]
    }
   ],
   "source": [
    "n = 2\n",
    "X = np.stack(((epochs[n,:,0], epochs[n,:,1], epochs[n,:,2], epochs[n,:,3], epochs[n,:,4], epochs[n,:,5]))).T\n",
    "r, r_sqrt = calculate_r(X)\n",
    "r_sum = np.max(r_sqrt, axis=1)\n",
    "print(r_sum)\n",
    "print(np.argmax(r_sum)+1)"
   ]
  },
  {
   "cell_type": "code",
   "execution_count": 33,
   "metadata": {},
   "outputs": [],
   "source": [
    "R = np.zeros(len(y))\n",
    "R_sum = np.zeros((len(y),3))\n",
    "for n in np.arange(0,len(y)):\n",
    "    X = np.stack(((epochs[n,:,0], epochs[n,:,1], epochs[n,:,2], epochs[n,:,3], epochs[n,:,4], epochs[n,:,5]))).T\n",
    "    r, r_sqrt = calculate_r(X)\n",
    "    \n",
    "    R_sum[n] = np.max(r_sqrt, axis=1)\n",
    "    R[n] = np.argmax(np.max(r_sqrt, axis=1))"
   ]
  },
  {
   "cell_type": "code",
   "execution_count": 45,
   "metadata": {},
   "outputs": [
    {
     "data": {
      "text/plain": [
       "array([3., 3., 3., 2., 2., 3., 3., 3., 2., 4., 2., 3., 2., 2., 2., 3., 2.,\n",
       "       3., 3., 3., 3., 3., 2., 2., 2., 2., 3., 2., 3., 3., 2., 3., 3., 2.,\n",
       "       2., 3., 2., 3., 4., 4.])"
      ]
     },
     "execution_count": 45,
     "metadata": {},
     "output_type": "execute_result"
    }
   ],
   "source": [
    "# our results\n",
    "R+2"
   ]
  },
  {
   "cell_type": "code",
   "execution_count": 35,
   "metadata": {},
   "outputs": [
    {
     "data": {
      "text/plain": [
       "array([3., 0., 1., 0., 2., 1., 3., 2., 0., 1., 2., 3., 1., 0., 2., 3., 2.,\n",
       "       3., 0., 1., 3., 0., 1., 0., 2., 1., 3., 2., 0., 1., 2., 3., 1., 0.,\n",
       "       2., 3., 2., 3., 0., 1.])"
      ]
     },
     "execution_count": 35,
     "metadata": {},
     "output_type": "execute_result"
    }
   ],
   "source": [
    "# original labels\n",
    "y-1"
   ]
  },
  {
   "cell_type": "markdown",
   "metadata": {},
   "source": [
    "### Examples of results"
   ]
  },
  {
   "cell_type": "code",
   "execution_count": 36,
   "metadata": {},
   "outputs": [
    {
     "data": {
      "text/plain": [
       "array([[0.21009522, 0.35818333, 0.12895232],\n",
       "       [0.19351873, 0.28239281, 0.18411491],\n",
       "       [0.18633545, 0.22052143, 0.1323756 ],\n",
       "       [0.27320267, 0.23021468, 0.19668528],\n",
       "       [0.48523819, 0.16198025, 0.20134622]])"
      ]
     },
     "execution_count": 36,
     "metadata": {},
     "output_type": "execute_result"
    }
   ],
   "source": [
    "R_sum[0:5]"
   ]
  },
  {
   "cell_type": "code",
   "execution_count": 41,
   "metadata": {},
   "outputs": [
    {
     "data": {
      "text/plain": [
       "array([3., 3., 3., 2., 2.])"
      ]
     },
     "execution_count": 41,
     "metadata": {},
     "output_type": "execute_result"
    }
   ],
   "source": [
    "R[0:5]+2"
   ]
  },
  {
   "cell_type": "code",
   "execution_count": 42,
   "metadata": {},
   "outputs": [
    {
     "data": {
      "text/plain": [
       "array([4., 1., 2., 1., 3.])"
      ]
     },
     "execution_count": 42,
     "metadata": {},
     "output_type": "execute_result"
    }
   ],
   "source": [
    "y[0:5]\n"
   ]
  },
  {
   "cell_type": "code",
   "execution_count": 43,
   "metadata": {},
   "outputs": [
    {
     "data": {
      "text/plain": [
       "array([-3.,  0., -1., -1., -3., -1., -3., -2., -1.,  0., -3., -3., -2.,\n",
       "       -1., -3., -3., -3., -3.,  0., -1., -3.,  0., -2., -1., -3., -2.,\n",
       "       -3., -3.,  0., -1., -3., -3., -1., -1., -3., -3., -3., -3.,  1.,\n",
       "        0.])"
      ]
     },
     "execution_count": 43,
     "metadata": {},
     "output_type": "execute_result"
    }
   ],
   "source": [
    "# diff\n",
    "R - y"
   ]
  },
  {
   "cell_type": "code",
   "execution_count": 40,
   "metadata": {},
   "outputs": [
    {
     "data": {
      "image/png": "[encoded data removed]",
      "text/plain": [
       "<Figure size 720x432 with 1 Axes>"
      ]
     },
     "metadata": {},
     "output_type": "display_data"
    }
   ],
   "source": [
    "plt.figure(figsize=(10,6))\n",
    "plt.plot(aleks2.label);"
   ]
  }
 ],
 "metadata": {
  "kernelspec": {
   "display_name": "Python 3",
   "language": "python",
   "name": "python3"
  },
  "language_info": {
   "codemirror_mode": {
    "name": "ipython",
    "version": 3
   },
   "file_extension": ".py",
   "mimetype": "text/x-python",
   "name": "python",
   "nbconvert_exporter": "python",
   "pygments_lexer": "ipython3",
   "version": "3.6.5"
  }
 },
 "nbformat": 4,
 "nbformat_minor": 2
}
